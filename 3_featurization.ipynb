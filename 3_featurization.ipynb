{
 "cells": [
  {
   "cell_type": "code",
   "execution_count": 1,
   "metadata": {},
   "outputs": [
    {
     "name": "stderr",
     "output_type": "stream",
     "text": [
      "[nltk_data] Error loading punkt: <urlopen error [Errno 11001]\n",
      "[nltk_data]     getaddrinfo failed>\n",
      "[nltk_data] Error loading stopwords: <urlopen error [Errno 11001]\n",
      "[nltk_data]     getaddrinfo failed>\n"
     ]
    }
   ],
   "source": [
    "import pandas as pd\n",
    "import numpy as np\n",
    "import matplotlib.pyplot as plt\n",
    "import string\n",
    "import nltk\n",
    "import re\n",
    "nltk.download('punkt')\n",
    "nltk.download('stopwords')\n",
    "from sklearn.feature_extraction.text import CountVectorizer, TfidfVectorizer\n",
    "import datetime\n",
    "from sklearn.multiclass import OneVsRestClassifier\n",
    "from sklearn.linear_model import SGDClassifier\n",
    "from sklearn.metrics import accuracy_score, precision_score, recall_score, f1_score\n",
    "from scipy import sparse\n",
    "import pickle\n",
    "from nltk import ngrams"
   ]
  },
  {
   "cell_type": "markdown",
   "metadata": {},
   "source": [
    "<p style='font-size:20px'><b> Featurization </b></p>\n",
    "<p>\n",
    "\n",
    "So far we have the following data format for the input (X) & output (Y) for training the model:\n",
    "\n",
    "- Input (X): Single string containing space separated tokens generated after processing the raw information in Title & Body.\n",
    "- Output (Y): Single string containing space separated tags after shortlisting the top 500 most frequent tags.\n",
    "    \n",
    "This still need to be encoded as numerical featurization for applying a ML model. To enable the same we will use the following techniques for featurization:\n",
    "    \n",
    "A) Input (X): Tf-Idf transformation: \n",
    "\n",
    "- For each datapoint the features will be a value calculated for all it's tokens.\n",
    "- The token is assigned a value as : (term frequency) x (inverse document frequeny)\n",
    "    - term frequency: Number of times the token occurs in the datapoint\n",
    "    - inverse document frequeny: Inverse of the number of datapoints having the token.\n",
    "- The tokenizer for title3_body & code will be different:\n",
    "    - title3_body: word ngrams with a range of (1, 3) words\n",
    "    - code: char ngrams with a range of (1, 3) words\n",
    "        \n",
    "B) Output (Y): One-hot encoding:\n",
    "\n",
    "- We will create 500 target vectors each representing the presence of the target 500 tags in each datapoints\n",
    "- It will then have a shape of (n x m) where:\n",
    "    - n: Number of datapoints in train/test data\n",
    "    - m: Number of target tags to be predicted(=500)\n",
    "\n",
    "This will allow us to train models for this task of multi-label classification of predicting all the relevant tags that could be present in the data.            \n",
    "    \n",
    "</p>"
   ]
  },
  {
   "cell_type": "code",
   "execution_count": 2,
   "metadata": {},
   "outputs": [],
   "source": [
    "# Load the processed train, CV & test to be featurized\n",
    "train_data = pd.read_csv('dataset/processed_train.csv')\n",
    "cv_data = pd.read_csv('dataset/processed_cv.csv')\n",
    "test_data = pd.read_csv('dataset/processed_test.csv')"
   ]
  },
  {
   "cell_type": "code",
   "execution_count": 3,
   "metadata": {},
   "outputs": [
    {
     "name": "stdout",
     "output_type": "stream",
     "text": [
      "Block execution time:  0:00:44.226823\n"
     ]
    }
   ],
   "source": [
    "# Converting title3_body column of train, cv & test to TF-IDF Vectorization form\n",
    "\n",
    "start_time = datetime.datetime.now()\n",
    "\n",
    "tf_idf_vect = TfidfVectorizer(max_features=150000, smooth_idf=True, norm=\"l2\", \\\n",
    "                             tokenizer = lambda x:str(x).split(\" \"), sublinear_tf=False, ngram_range=(1,3))\n",
    "\n",
    "train_title3_body = tf_idf_vect.fit_transform(train_data.Title3_Body)\n",
    "cv_title3_body = tf_idf_vect.transform(cv_data.Title3_Body)\n",
    "test_title3_body = tf_idf_vect.transform(test_data.Title3_Body)\n",
    "\n",
    "print(\"Block execution time: \", datetime.datetime.now() - start_time)"
   ]
  },
  {
   "cell_type": "code",
   "execution_count": 4,
   "metadata": {},
   "outputs": [
    {
     "name": "stdout",
     "output_type": "stream",
     "text": [
      "Block execution time:  0:00:59.810566\n"
     ]
    }
   ],
   "source": [
    "# Converting code column of train, cv & test to TF-IDF Vectorization form\n",
    "\n",
    "start_time = datetime.datetime.now()\n",
    "\n",
    "tf_idf_vect2 = TfidfVectorizer(max_features=50000, smooth_idf=True, norm=\"l2\", \\\n",
    "                             analyzer = 'char', sublinear_tf=False, ngram_range=(1,3))\n",
    "\n",
    "train_code = tf_idf_vect2.fit_transform(train_data.Code)\n",
    "cv_code = tf_idf_vect2.transform(cv_data.Code)\n",
    "test_code = tf_idf_vect2.transform(test_data.Code)\n",
    "\n",
    "print(\"Block execution time: \", datetime.datetime.now() - start_time)"
   ]
  },
  {
   "cell_type": "code",
   "execution_count": 5,
   "metadata": {},
   "outputs": [],
   "source": [
    "# Merging the Tf-Idf vectorized forms of title3_body & code columns to build the final input X data\n",
    "\n",
    "train_x = sparse.hstack((train_title3_body, train_code))\n",
    "cv_x = sparse.hstack((cv_title3_body, cv_code))\n",
    "test_x = sparse.hstack((test_title3_body, test_code))"
   ]
  },
  {
   "cell_type": "code",
   "execution_count": 6,
   "metadata": {},
   "outputs": [
    {
     "name": "stdout",
     "output_type": "stream",
     "text": [
      "(100000, 200000)\n",
      "(25000, 200000)\n",
      "(25000, 200000)\n"
     ]
    }
   ],
   "source": [
    "# Checking the number of features captured by TfIdf\n",
    "\n",
    "print(train_x.shape)\n",
    "print(cv_x.shape)\n",
    "print(test_x.shape)\n"
   ]
  },
  {
   "cell_type": "code",
   "execution_count": 7,
   "metadata": {},
   "outputs": [
    {
     "name": "stdout",
     "output_type": "stream",
     "text": [
      "Block execution time:  0:00:00.529947\n"
     ]
    }
   ],
   "source": [
    "# Convert shortlisted tags (y-label) into One-hot encodeing to build the final output Y data\n",
    "# CountVectorizer for sparse matrix representation to optimize space\n",
    "\n",
    "start_time = datetime.datetime.now()\n",
    "\n",
    "count_vect = CountVectorizer(analyzer = lambda x:str(x).split(\" \"))\n",
    "train_y = count_vect.fit_transform(train_data.Tags_shortlist)\n",
    "cv_y = count_vect.transform(cv_data.Tags_shortlist)\n",
    "test_y = count_vect.transform(test_data.Tags_shortlist)\n",
    "\n",
    "print(\"Block execution time: \", datetime.datetime.now() - start_time)"
   ]
  },
  {
   "cell_type": "code",
   "execution_count": 8,
   "metadata": {},
   "outputs": [],
   "source": [
    "# Saving the train,cv & test input & output to be used for building models\n",
    "#### Imp: Careful not to overwrite data ####\n",
    "\n",
    "var = [train_x, train_y, cv_x, cv_y, test_x, test_y]\n",
    "file_names = ['train_x', 'train_y', 'cv_x', 'cv_y', 'test_x', 'test_y']\n",
    "\n",
    "for i in range(len(var)):\n",
    "    \n",
    "    # Storing the target file path where the data would be stored \n",
    "    target_file = \"dataset/\" + file_names[i] + \".npz\"\n",
    "    \n",
    "    # Saving the sparse matrix data\n",
    "    sparse.save_npz(target_file, var[i])\n"
   ]
  },
  {
   "cell_type": "code",
   "execution_count": 9,
   "metadata": {},
   "outputs": [],
   "source": [
    "# Saving the vocab captured while fitting CountVectorizer for output tags\n",
    "#### Imp: Careful not to overwrite data ####\n",
    "\n",
    "pickle.dump(count_vect.vocabulary_, open(\"models/vocab.pickle\", \"wb\"))\n"
   ]
  }
 ],
 "metadata": {
  "kernelspec": {
   "display_name": "Python 3 (ipykernel)",
   "language": "python",
   "name": "python3"
  },
  "language_info": {
   "codemirror_mode": {
    "name": "ipython",
    "version": 3
   },
   "file_extension": ".py",
   "mimetype": "text/x-python",
   "name": "python",
   "nbconvert_exporter": "python",
   "pygments_lexer": "ipython3",
   "version": "3.12.4"
  }
 },
 "nbformat": 4,
 "nbformat_minor": 4
}
