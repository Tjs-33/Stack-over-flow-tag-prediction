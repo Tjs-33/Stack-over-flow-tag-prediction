{
 "cells": [
  {
   "cell_type": "code",
   "execution_count": 91,
   "metadata": {
    "scrolled": true
   },
   "outputs": [
    {
     "name": "stderr",
     "output_type": "stream",
     "text": [
      "[nltk_data] Downloading package punkt to C:\\Users\\Tejas\n",
      "[nltk_data]     Chavan\\AppData\\Roaming\\nltk_data...\n",
      "[nltk_data]   Package punkt is already up-to-date!\n",
      "[nltk_data] Downloading package stopwords to C:\\Users\\Tejas\n",
      "[nltk_data]     Chavan\\AppData\\Roaming\\nltk_data...\n",
      "[nltk_data]   Package stopwords is already up-to-date!\n"
     ]
    }
   ],
   "source": [
    "import pandas as pd\n",
    "import numpy as np\n",
    "import matplotlib.pyplot as plt\n",
    "import string\n",
    "import nltk\n",
    "import re\n",
    "import math\n",
    "nltk.download('punkt')\n",
    "nltk.download('stopwords')\n",
    "from sklearn.feature_extraction.text import CountVectorizer, TfidfVectorizer\n",
    "import datetime\n",
    "from sklearn.multiclass import OneVsRestClassifier\n",
    "from sklearn.linear_model import SGDClassifier, LogisticRegression\n",
    "from sklearn.model_selection import GridSearchCV\n",
    "from sklearn.metrics import accuracy_score, precision_score, recall_score, f1_score\n",
    "from scipy import sparse\n",
    "import pickle\n",
    "import joblib"
   ]
  },
  {
   "cell_type": "markdown",
   "metadata": {},
   "source": [
    "<p style='font-size:20px'><b> Modelling </b></p>\n",
    "<p>\n",
    "\n",
    "- Now that we have the trainable data with numerical features, we can build models for Tag prediction.\n",
    "- For all the models, we will implement a OnevsRest strategy to predict 0/1 values individually for each of the 500 Tags accross all datapoints.\n",
    "- We will begin by testing logreg since it is the most basic model for classification.\n",
    "\n",
    "</p>"
   ]
  },
  {
   "cell_type": "code",
   "execution_count": 2,
   "metadata": {},
   "outputs": [],
   "source": [
    "# Load the processed, featurized train & test data \n",
    "train_x = sparse.load_npz(\"E:/ai_projects/data_storage/Stack over flow tagging 5/dataset/train_x.npz\")\n",
    "train_y = sparse.load_npz(\"E:/ai_projects/data_storage/Stack over flow tagging 5/dataset/train_y.npz\")\n",
    "cv_x = sparse.load_npz(\"E:/ai_projects/data_storage/Stack over flow tagging 5/dataset/cv_x.npz\")\n",
    "cv_y = sparse.load_npz(\"E:/ai_projects/data_storage/Stack over flow tagging 5/dataset/cv_y.npz\")\n",
    "test_x = sparse.load_npz(\"E:/ai_projects/data_storage/Stack over flow tagging 5/dataset/test_x.npz\")\n",
    "test_y = sparse.load_npz(\"E:/ai_projects/data_storage/Stack over flow tagging 5/dataset/test_y.npz\")\n",
    "vocab = pickle.load(open(\"E:/ai_projects/data_storage/Stack over flow tagging 5/models/vocab.pickle\", \"rb\"))"
   ]
  },
  {
   "cell_type": "code",
   "execution_count": 3,
   "metadata": {},
   "outputs": [
    {
     "name": "stdout",
     "output_type": "stream",
     "text": [
      "(100000, 200000)\n",
      "(100000, 500)\n",
      "(25000, 200000)\n",
      "(25000, 500)\n",
      "(25000, 200000)\n",
      "(25000, 500)\n"
     ]
    }
   ],
   "source": [
    "print(train_x.shape)\n",
    "print(train_y.shape)\n",
    "print(cv_x.shape)\n",
    "print(cv_y.shape)\n",
    "print(test_x.shape)\n",
    "print(test_y.shape)"
   ]
  },
  {
   "cell_type": "markdown",
   "metadata": {},
   "source": [
    "<p style='font-size:18px'><b> Custom function </b></p>\n",
    "<p style='font-size:16px'><b> 1) Analyse_prediction </b></p>\n",
    "\n",
    "<p>\n",
    "\n",
    "This function has been defined to analyse the model performance & operates as following:\n",
    "    \n",
    "A) Inputs:\n",
    "    1. y_actual: Sparse representation of the actual tags to be predicted (Target)\n",
    "    2. y_pred: Sparse representation of the tags predicted by the model (Prediction)        \n",
    "    3. num_top_tags: Number of top tags by frequency for which tag-wise metrics will be calculated & displayed\n",
    "    4. vocab: Dictionary providing the mapping of Tag:Index pairs for the sparse matrices y_actual, y_pred \n",
    "    5. header: Heading/title to printed at the top of performance report\n",
    "\n",
    "B) Outputs:\n",
    "    1. #tags predicted for each datapoint: In the train data, each datapoint has a maximum of 5 Tags. We will analyse if similar distribution holds for the predictions.\n",
    "    2. Following metrics will be displayed label-wise for num_top_tags, Micro-avg & Macro-avg over all tags:\n",
    "        - Accuracy\n",
    "        - Precision\n",
    "        - Recall\n",
    "        - F1 score\n",
    "\n",
    "</p>"
   ]
  },
  {
   "cell_type": "code",
   "execution_count": 4,
   "metadata": {},
   "outputs": [],
   "source": [
    "def analyse_prediction(y_actual, y_pred, num_top_tags, vocab, header):\n",
    "    \n",
    "    # Metrics part 1:\n",
    "    # Number of tags predicted to a question, viewing the following few metrics:\n",
    "    # 1. Plot: Distribution of # of tags predicted vs questions\n",
    "    # 2. Plot: Distribution of difference (# of tags predicted - # of actual tags) vs questions\n",
    "    # 3. Metric: Number and % of question with more than 5 predicted tags\n",
    "\n",
    "    print('\\033[1m' + \"\\n--------- \" + header + \" ---------\\n\" + '\\033[0m')\n",
    "    \n",
    "    fig = plt.figure(figsize = (8,3))\n",
    "    fig.subplots_adjust(wspace = 0.3)\n",
    "    axs = fig.subplots(1,2)\n",
    "    \n",
    "    # Calculating the number of tags predicted vs number of actual tags for each question\n",
    "    num_actual = np.zeros(y_actual.shape[0], dtype = 'int')\n",
    "    num_pred = np.zeros(y_actual.shape[0], dtype = 'int')    \n",
    "    \n",
    "    non_zero_vals = y_actual.nonzero()[0]\n",
    "    datapt_no, num_tags = np.unique(non_zero_vals, return_counts=True)\n",
    "    num_actual[datapt_no] = num_tags\n",
    "    \n",
    "    non_zero_vals = y_pred.nonzero()[0]\n",
    "    datapt_no, num_tags = np.unique(non_zero_vals, return_counts=True)\n",
    "    num_pred[datapt_no] = num_tags\n",
    "    \n",
    "    \n",
    "    # 1. Plot\n",
    "    num_tags, num_datapts = np.unique(num_pred, return_counts=True)\n",
    "    axs[0].bar(num_tags, num_datapts/1000)\n",
    "    axs[0].set(xlabel = '# of tags', ylabel = '# of datapts (in thousands)', title = 'Distribution of # tags_pred vs # questions')\n",
    "\n",
    "    # 2. Plot\n",
    "    num_vals, num_datapts = np.unique(num_pred - num_actual, return_counts=True)\n",
    "    axs[1].bar(num_vals, num_datapts/1000)\n",
    "    axs[1].set(xlabel = 'Diff in # of tags (pred - actual)', ylabel = '# of datapts (in thousands)', title = 'Distribution of diff & # questions')\n",
    "    \n",
    "    # 3. Metric\n",
    "    print(\"1a. Number & percent of datapoints having more than 5 predicted tags: {}, {}%\".format(np.sum(num_pred > 5), round(100*np.sum(num_pred > 5)/y_actual.shape[0],2)))\n",
    "    print(\"1b. Number & percent of datapoints having 0 predicted tags: {}, {}%\".format(np.sum(num_pred == 0), round(100*np.sum(num_pred == 0)/y_actual.shape[0],2)))\n",
    "#     print(\"\\n2a. Number & percent of datapoints having more than 5 actual tags: {}, {}%\".format(np.sum(num_actual > 5), round(100*np.sum(num_actual > 5)/y_actual.shape[0],2)))\n",
    "#     print(\"2b. Number & percent of datapoints having 0 actual tags: {}, {}%\".format(np.sum(num_actual == 0), round(100*np.sum(num_actual == 0)/y_actual.shape[0],2)))\n",
    "    \n",
    "    \n",
    "    # Metrics part 2:\n",
    "    # Label wise & Micro/Macro averaged:\n",
    "    # 1. Accuracy\n",
    "    # 2. Precision\n",
    "    # 3. Recall\n",
    "    # 4. F1 score\n",
    "    \n",
    "    perf_report = []\n",
    "    perf_report.append(['Tag', 'Accuracy', 'Precision', 'Recall', 'F1-score'])\n",
    "    \n",
    "    # Getting the top number of tags\n",
    "    tag_inds = np.arange(0, y_actual.shape[1], 1)\n",
    "    non_zero_vals = y_actual.nonzero()[1]\n",
    "    inds, count = np.unique(non_zero_vals, return_counts=True)\n",
    "    sort_indices = np.argsort(count)[::-1]\n",
    "    inds = inds[sort_indices]\n",
    "    top_tag_inds = inds[:num_top_tags]\n",
    "\n",
    "    for tag_ind in top_tag_inds:\n",
    "        \n",
    "        temp_report = []\n",
    "        \n",
    "        # Adding the label name in the report \n",
    "        temp_report.append(list(vocab.keys())[list(vocab.values()).index(tag_ind)])\n",
    "        \n",
    "        tag_actual = y_actual[:, tag_ind].toarray()\n",
    "        tag_pred = y_pred[:, tag_ind].toarray()\n",
    "        \n",
    "        # Calculating the specified metrics\n",
    "        acc = accuracy_score(tag_actual, tag_pred)\n",
    "        prec = precision_score(tag_actual, tag_pred)\n",
    "        rec = recall_score(tag_actual, tag_pred)\n",
    "        f1_scr = f1_score(tag_actual, tag_pred)\n",
    "        \n",
    "        # Adding the specified metrics to the report\n",
    "        temp_report = temp_report + [acc, prec, rec, f1_scr]\n",
    "        \n",
    "        # Adding tag metrics to the final report\n",
    "        perf_report.append(temp_report)\n",
    "        \n",
    "        \n",
    "    # Calculating the metrics at a micro-averaged level\n",
    "    temp_report = []\n",
    "    temp_report.append('Micro-avg')\n",
    "    acc = accuracy_score(y_actual, y_pred)\n",
    "    prec = precision_score(y_actual, y_pred, average = 'micro')\n",
    "    rec = recall_score(y_actual, y_pred, average = 'micro')\n",
    "    f1_scr = f1_score(y_actual, y_pred, average = 'micro')\n",
    "    temp_report = temp_report + [acc, prec, rec, f1_scr]\n",
    "    perf_report.append(temp_report)\n",
    "    \n",
    "    # Calculating the metrics at a macro-averaged level\n",
    "    temp_report = []\n",
    "    temp_report.append('Macro-avg')\n",
    "    acc = accuracy_score(y_actual, y_pred)\n",
    "    prec = precision_score(y_actual, y_pred, average = 'macro')\n",
    "    rec = recall_score(y_actual, y_pred, average = 'macro')\n",
    "    f1_scr = f1_score(y_actual, y_pred, average = 'macro')\n",
    "    temp_report = temp_report + [acc, prec, rec, f1_scr]\n",
    "    perf_report.append(temp_report)\n",
    "    \n",
    "    \n",
    "    # Printing the final report\n",
    "    print(\"\\n\\n2. Tag wise metrics: \\n\")\n",
    "    col_width = 10\n",
    "    print(perf_report[0][0].ljust(col_width), end = \"\")\n",
    "    print(\"\".join(word.center(col_width) for word in perf_report[0][1:]))\n",
    "    print(\"------------------------------------------------\")\n",
    "    \n",
    "    for row in perf_report[1:-2]:\n",
    "        temp_tag = str(row[0])\n",
    "        temp_acc = str(round(100*row[1],1)) + '%'\n",
    "        temp_prec = str(round(100*row[2],1)) + '%'\n",
    "        temp_rec = str(round(100*row[3],1)) + '%'\n",
    "        temp_f1 = str(round(100*row[4],1)) + '%'\n",
    "        \n",
    "        print(temp_tag.ljust(col_width), end = \"\")\n",
    "        print(temp_acc.center(col_width), end = \"\")\n",
    "        print(temp_prec.center(col_width), end = \"\")\n",
    "        print(temp_rec.center(col_width), end = \"\")\n",
    "        print(temp_f1.center(col_width))\n",
    "    \n",
    "    print('\\033[1m')\n",
    "    for row in perf_report[-2:]:\n",
    "        temp_tag = str(row[0])\n",
    "        temp_acc = str(round(100*row[1],1)) + '%'\n",
    "        temp_prec = str(round(100*row[2],1)) + '%'\n",
    "        temp_rec = str(round(100*row[3],1)) + '%'\n",
    "        temp_f1 = str(round(100*row[4],1)) + '%'\n",
    "        \n",
    "        print(temp_tag.ljust(col_width), end = \"\")\n",
    "        print(temp_acc.center(col_width), end = \"\")\n",
    "        print(temp_prec.center(col_width), end = \"\")\n",
    "        print(temp_rec.center(col_width), end = \"\")\n",
    "        print(temp_f1.center(col_width))\n",
    "    print('\\033[0m')        "
   ]
  },
  {
   "cell_type": "markdown",
   "metadata": {},
   "source": [
    "<p style='font-size:18px'><b> Basic Logistic regression </b></p>"
   ]
  },
  {
   "cell_type": "code",
   "execution_count": 5,
   "metadata": {},
   "outputs": [
    {
     "name": "stdout",
     "output_type": "stream",
     "text": [
      "Block execution time:  0:34:01.442528\n"
     ]
    }
   ],
   "source": [
    "start_time = datetime.datetime.now()\n",
    "\n",
    "# Using penalty = 'l2' yielded worse results\n",
    "log_reg_clf1 = OneVsRestClassifier(SGDClassifier(loss='log', alpha=0.00001, penalty='l1', max_iter = 5000))\n",
    "log_reg_clf1.fit(train_x, train_y)\n",
    "\n",
    "print(\"Block execution time: \", datetime.datetime.now() - start_time)"
   ]
  },
  {
   "cell_type": "code",
   "execution_count": 6,
   "metadata": {},
   "outputs": [
    {
     "name": "stdout",
     "output_type": "stream",
     "text": [
      "[7, 8, 7, 7, 7, 7, 7, 7, 7, 7, 7, 7, 7, 7, 7, 7, 7, 7, 6, 7, 7, 7, 7, 7, 7, 7, 6, 7, 7, 7, 7, 7, 6, 7, 7, 7, 7, 7, 7, 7, 7, 7, 6, 7, 7, 6, 7, 7, 7, 7, 7, 7, 7, 6, 7, 7, 6, 7, 7, 7, 7, 7, 7, 8, 7, 8, 7, 7, 7, 7, 7, 7, 6, 7, 7, 6, 7, 7, 7, 7, 7, 7, 6, 7, 7, 7, 7, 7, 6, 7, 7, 7, 7, 7, 7, 7, 7, 7, 7, 7, 7, 7, 6, 7, 7, 7, 7, 7, 7, 7, 7, 7, 7, 7, 7, 7, 7, 7, 7, 7, 7, 7, 7, 7, 7, 7, 7, 7, 7, 7, 7, 7, 7, 7, 7, 7, 6, 7, 7, 7, 7, 7, 7, 7, 7, 7, 7, 7, 7, 6, 7, 7, 7, 7, 7, 7, 7, 7, 7, 7, 7, 7, 6, 7, 7, 7, 6, 7, 7, 7, 7, 7, 7, 7, 7, 7, 7, 7, 7, 7, 7, 7, 7, 7, 7, 7, 7, 7, 7, 7, 7, 7, 7, 7, 7, 6, 7, 7, 8, 7, 7, 7, 7, 7, 7, 7, 7, 7, 7, 7, 7, 7, 7, 7, 7, 7, 7, 7, 7, 7, 8, 7, 7, 6, 7, 8, 7, 6, 8, 7, 7, 8, 7, 6, 7, 7, 7, 7, 6, 7, 7, 7, 7, 6, 7, 7, 7, 7, 7, 7, 7, 7, 7, 7, 7, 7, 7, 7, 7, 7, 7, 7, 7, 7, 7, 7, 7, 6, 7, 7, 7, 7, 7, 6, 7, 7, 7, 7, 7, 7, 6, 7, 7, 7, 7, 7, 7, 7, 7, 7, 7, 7, 7, 7, 7, 7, 7, 7, 7, 7, 7, 7, 7, 6, 7, 7, 8, 7, 7, 7, 7, 7, 7, 7, 7, 7, 6, 7, 7, 7, 7, 6, 7, 7, 7, 7, 8, 7, 7, 7, 7, 7, 7, 7, 7, 7, 7, 7, 7, 7, 7, 7, 7, 7, 7, 7, 7, 7, 7, 7, 7, 7, 7, 7, 7, 7, 7, 7, 7, 7, 7, 6, 6, 7, 7, 7, 7, 6, 7, 7, 7, 7, 7, 7, 7, 7, 7, 7, 7, 7, 7, 7, 7, 7, 7, 7, 7, 7, 7, 7, 6, 7, 7, 7, 7, 7, 7, 7, 7, 7, 7, 7, 7, 7, 7, 7, 7, 6, 7, 6, 7, 7, 7, 7, 7, 7, 6, 7, 7, 7, 7, 7, 6, 7, 7, 7, 6, 7, 7, 6, 7, 7, 6, 7, 7, 7, 7, 7, 7, 7, 6, 7, 7, 7, 7, 7, 7, 7, 7, 7, 7, 7, 7, 7, 7, 7, 7, 7, 7, 7, 7, 7, 7, 7, 7, 7, 7, 7, 7, 7, 7, 7, 7, 7, 7, 7, 6, 7, 8, 7, 7, 7, 7, 7, 7, 7, 7, 7, 7, 7, 7, 7, 7, 7, 7, 7, 7, 7, 6, 7]\n"
     ]
    }
   ],
   "source": [
    "print([estimator.n_iter_ for estimator in log_reg_clf1.estimators_])"
   ]
  },
  {
   "cell_type": "code",
   "execution_count": 7,
   "metadata": {},
   "outputs": [
    {
     "name": "stdout",
     "output_type": "stream",
     "text": [
      "\u001b[1m\n",
      "--------- Log-reg (OVR): Train data ---------\n",
      "\u001b[0m\n",
      "1a. Number & percent of datapoints having more than 5 predicted tags: 18, 0.02%\n",
      "1b. Number & percent of datapoints having 0 predicted tags: 26283, 26.28%\n"
     ]
    },
    {
     "name": "stderr",
     "output_type": "stream",
     "text": [
      "D:\\Anaconda\\lib\\site-packages\\sklearn\\metrics\\_classification.py:1272: UndefinedMetricWarning: Precision is ill-defined and being set to 0.0 in labels with no predicted samples. Use `zero_division` parameter to control this behavior.\n",
      "  _warn_prf(average, modifier, msg_start, len(result))\n"
     ]
    },
    {
     "name": "stdout",
     "output_type": "stream",
     "text": [
      "\n",
      "\n",
      "2. Tag wise metrics: \n",
      "\n",
      "Tag        Accuracy Precision   Recall   F1-score \n",
      "------------------------------------------------\n",
      "c#          93.8%     74.9%     44.3%     55.7%   \n",
      "java        95.8%     84.1%     57.1%     68.0%   \n",
      "php         96.7%     87.5%     65.2%     74.7%   \n",
      "javascript  95.7%     80.9%     50.4%     62.1%   \n",
      "android     98.7%     96.4%     82.2%     88.7%   \n",
      "jquery      97.8%     88.7%     71.4%     79.1%   \n",
      "c++         97.7%     83.5%     48.1%     61.0%   \n",
      "python      98.7%     91.4%     70.5%     79.6%   \n",
      "mysql       98.6%     89.0%     65.0%     75.2%   \n",
      "iphone      97.7%     74.7%     47.4%     58.0%   \n",
      "\u001b[1m\n",
      "Micro-avg   22.0%     77.5%     42.6%     55.0%   \n",
      "Macro-avg   22.0%     62.6%     32.3%     40.9%   \n",
      "\u001b[0m\n",
      "\n",
      "Block execution time:  0:16:38.233265\n"
     ]
    },
    {
     "data": {
      "image/png": "[encoded data removed]",
      "text/plain": [
       "<Figure size 576x216 with 2 Axes>"
      ]
     },
     "metadata": {
      "needs_background": "light"
     },
     "output_type": "display_data"
    }
   ],
   "source": [
    "start_time = datetime.datetime.now()\n",
    "\n",
    "# Predict the tags using the model trained above\n",
    "y_pred_train = log_reg_clf1.predict(train_x)\n",
    "\n",
    "# Generate performance report\n",
    "analyse_prediction(train_y, y_pred_train, 10, vocab, \"Log-reg (OVR): Train data\")\n",
    "\n",
    "print(\"\\nBlock execution time: \", datetime.datetime.now() - start_time)"
   ]
  },
  {
   "cell_type": "code",
   "execution_count": 8,
   "metadata": {},
   "outputs": [
    {
     "name": "stdout",
     "output_type": "stream",
     "text": [
      "\u001b[1m\n",
      "--------- Log-reg (OVR): Test data ---------\n",
      "\u001b[0m\n",
      "1a. Number & percent of datapoints having more than 5 predicted tags: 7, 0.03%\n",
      "1b. Number & percent of datapoints having 0 predicted tags: 6288, 25.15%\n",
      "\n",
      "\n",
      "2. Tag wise metrics: \n",
      "\n",
      "Tag        Accuracy Precision   Recall   F1-score \n",
      "------------------------------------------------\n",
      "c#          93.4%     69.6%     42.6%     52.9%   \n",
      "java        95.7%     82.1%     58.2%     68.1%   \n",
      "php         96.7%     85.7%     65.3%     74.1%   \n",
      "javascript  95.5%     79.5%     49.4%     60.9%   \n",
      "android     98.6%     96.4%     80.8%     87.9%   \n",
      "jquery      97.6%     89.3%     69.6%     78.2%   \n",
      "c++         97.4%     76.7%     46.8%     58.1%   \n",
      "python      98.5%     90.3%     65.6%     76.0%   \n",
      "iphone      97.3%     63.9%     42.3%     50.9%   \n",
      "html        97.0%     57.7%     30.5%     39.9%   \n",
      "\u001b[1m\n",
      "Micro-avg   20.2%     73.5%     42.2%     53.6%   \n",
      "Macro-avg   20.2%     58.0%     32.0%     39.8%   \n",
      "\u001b[0m\n",
      "\n",
      "Block execution time:  0:03:09.201848\n"
     ]
    },
    {
     "data": {
      "image/png": "[encoded data removed]",
      "text/plain": [
       "<Figure size 576x216 with 2 Axes>"
      ]
     },
     "metadata": {
      "needs_background": "light"
     },
     "output_type": "display_data"
    }
   ],
   "source": [
    "start_time = datetime.datetime.now()\n",
    "\n",
    "# Predict the tags using the model trained above\n",
    "y_pred_test = log_reg_clf1.predict(test_x)\n",
    "\n",
    "# Generate performance report\n",
    "analyse_prediction(test_y, y_pred_test, 10, vocab, \"Log-reg (OVR): Test data\")\n",
    "\n",
    "print(\"\\nBlock execution time: \", datetime.datetime.now() - start_time)"
   ]
  },
  {
   "cell_type": "code",
   "execution_count": 12,
   "metadata": {},
   "outputs": [],
   "source": [
    "def grid_search_cv(hyper_params, train_x, train_y, cv_x, cv_y):\n",
    "    \n",
    "    # Creating the mesh grid of hyperparameters as a pandas dataframe\n",
    "    hyper_param_grid = pd.DataFrame()\n",
    "    alpha_vals = hyper_params['alpha']\n",
    "    penalty_vals = hyper_params['penalty']\n",
    "    temp = []\n",
    "    \n",
    "    for alpha_val in alpha_vals:\n",
    "        for penalty_val in penalty_vals:\n",
    "            temp.append((alpha_val, penalty_val))\n",
    "            \n",
    "    hyper_param_grid['alpha'] = [x for (x, y) in temp]\n",
    "    hyper_param_grid['penalty'] = [y for (x, y) in temp]\n",
    "    hyper_param_grid['train_score'] = np.zeros(len(temp))\n",
    "    hyper_param_grid['cv_score'] = np.zeros(len(temp))\n",
    "    \n",
    "    \n",
    "    # Iterating over the mesh grid and training models for each hyper parameter combination\n",
    "    best_cv_score = 0\n",
    "    best_estimator = 0\n",
    "    best_params = {'alpha': 0, 'penalty': 0}\n",
    "    \n",
    "    start_ = datetime.datetime.now()\n",
    "    for i in range(hyper_param_grid.shape[0]):\n",
    "        \n",
    "        alpha_val = hyper_param_grid.alpha.iloc[i]\n",
    "        penalty_val = hyper_param_grid.penalty.iloc[i]\n",
    "        \n",
    "        # Model training\n",
    "        logreg = OneVsRestClassifier(SGDClassifier(alpha = alpha_val, penalty = penalty_val, loss='log', max_iter=2000))\n",
    "        logreg.fit(train_x, train_y)\n",
    "        \n",
    "        # Model prediction on train data\n",
    "        y_pred_train = logreg.predict(train_x)\n",
    "        train_scr = f1_score(train_y, y_pred_train, average = 'micro')\n",
    "        hyper_param_grid.train_score.iloc[i] = train_scr\n",
    "        \n",
    "        # Model prediction on CV data\n",
    "        y_pred_cv = logreg.predict(cv_x)\n",
    "        cv_scr = f1_score(cv_y, y_pred_cv, average = 'micro')\n",
    "        hyper_param_grid.cv_score.iloc[i] = cv_scr\n",
    "        \n",
    "        # Save this model if it is the best estimator so far\n",
    "        if cv_scr > best_cv_score:\n",
    "            best_cv_score = cv_scr\n",
    "            best_estimator = logreg # is .copy necessary here?\n",
    "            best_params = {'alpha': alpha_val, 'penalty': penalty_val}\n",
    "        \n",
    "        # Verbose the progress & time taken for latest iteration\n",
    "        end_ = datetime.datetime.now() - start_\n",
    "        print(\"Completed iteration: {}/{} | Time taken: {}\".format(i+1, hyper_param_grid.shape[0]+1, end_))\n",
    "        start_ = datetime.datetime.now()\n",
    "            \n",
    "    return {'hyper_param_scores': hyper_param_grid, 'best_estimator': best_estimator, 'best_params': best_params}    \n",
    "    "
   ]
  },
  {
   "cell_type": "code",
   "execution_count": 13,
   "metadata": {},
   "outputs": [
    {
     "name": "stderr",
     "output_type": "stream",
     "text": [
      "D:\\Anaconda\\lib\\site-packages\\pandas\\core\\indexing.py:670: SettingWithCopyWarning: \n",
      "A value is trying to be set on a copy of a slice from a DataFrame\n",
      "\n",
      "See the caveats in the documentation: https://pandas.pydata.org/pandas-docs/stable/user_guide/indexing.html#returning-a-view-versus-a-copy\n",
      "  self._setitem_with_indexer(indexer, value)\n"
     ]
    },
    {
     "name": "stdout",
     "output_type": "stream",
     "text": [
      "Completed iteration: 1/16 | Time taken: 0:43:29.282573\n",
      "Completed iteration: 2/16 | Time taken: 1:00:18.156185\n",
      "Completed iteration: 3/16 | Time taken: 1:05:42.019593\n",
      "Completed iteration: 4/16 | Time taken: 0:42:14.898080\n",
      "Completed iteration: 5/16 | Time taken: 0:50:58.455394\n",
      "Completed iteration: 6/16 | Time taken: 0:53:29.813648\n",
      "Completed iteration: 7/16 | Time taken: 0:43:52.738048\n",
      "Completed iteration: 8/16 | Time taken: 0:51:24.594229\n",
      "Completed iteration: 9/16 | Time taken: 0:55:01.908609\n",
      "Completed iteration: 10/16 | Time taken: 0:43:03.742012\n",
      "Completed iteration: 11/16 | Time taken: 0:53:16.325980\n",
      "Completed iteration: 12/16 | Time taken: 0:53:24.060281\n",
      "Completed iteration: 13/16 | Time taken: 0:41:57.051503\n",
      "Completed iteration: 14/16 | Time taken: 0:49:04.226503\n",
      "Completed iteration: 15/16 | Time taken: 0:49:08.072435\n",
      "\n",
      "Block execution time:  12:36:26.825993\n"
     ]
    }
   ],
   "source": [
    "start_time = datetime.datetime.now()\n",
    "\n",
    "# GridSearchCV for hyperparameter tuning of regularization paramter\n",
    "\n",
    "# Defining the hyper parameter value to be experimented with\n",
    "hyper_params2 = {'alpha': [10**-6, 10**-4, 10**-2, 10**0, 10**2], 'penalty': ['l2', 'l1', 'elasticnet']}\n",
    "logreg_gcv2 = grid_search_cv(hyper_params2, train_x, train_y, cv_x, cv_y)\n",
    "\n",
    "print(\"\\nBlock execution time: \", datetime.datetime.now() - start_time)"
   ]
  },
  {
   "cell_type": "code",
   "execution_count": 14,
   "metadata": {},
   "outputs": [
    {
     "name": "stdout",
     "output_type": "stream",
     "text": [
      "{'alpha': 1e-06, 'penalty': 'l1'}\n"
     ]
    },
    {
     "data": {
      "text/html": [
       "<div>\n",
       "<style scoped>\n",
       "    .dataframe tbody tr th:only-of-type {\n",
       "        vertical-align: middle;\n",
       "    }\n",
       "\n",
       "    .dataframe tbody tr th {\n",
       "        vertical-align: top;\n",
       "    }\n",
       "\n",
       "    .dataframe thead th {\n",
       "        text-align: right;\n",
       "    }\n",
       "</style>\n",
       "<table border=\"1\" class=\"dataframe\">\n",
       "  <thead>\n",
       "    <tr style=\"text-align: right;\">\n",
       "      <th></th>\n",
       "      <th>alpha</th>\n",
       "      <th>penalty</th>\n",
       "      <th>train_score</th>\n",
       "      <th>cv_score</th>\n",
       "    </tr>\n",
       "  </thead>\n",
       "  <tbody>\n",
       "    <tr>\n",
       "      <th>0</th>\n",
       "      <td>0.000001</td>\n",
       "      <td>l2</td>\n",
       "      <td>0.953417</td>\n",
       "      <td>0.539790</td>\n",
       "    </tr>\n",
       "    <tr>\n",
       "      <th>1</th>\n",
       "      <td>0.000001</td>\n",
       "      <td>l1</td>\n",
       "      <td>0.975592</td>\n",
       "      <td>0.557440</td>\n",
       "    </tr>\n",
       "    <tr>\n",
       "      <th>2</th>\n",
       "      <td>0.000001</td>\n",
       "      <td>elasticnet</td>\n",
       "      <td>0.951049</td>\n",
       "      <td>0.548765</td>\n",
       "    </tr>\n",
       "    <tr>\n",
       "      <th>3</th>\n",
       "      <td>0.000100</td>\n",
       "      <td>l2</td>\n",
       "      <td>0.218242</td>\n",
       "      <td>0.218303</td>\n",
       "    </tr>\n",
       "    <tr>\n",
       "      <th>4</th>\n",
       "      <td>0.000100</td>\n",
       "      <td>l1</td>\n",
       "      <td>0.374426</td>\n",
       "      <td>0.386239</td>\n",
       "    </tr>\n",
       "    <tr>\n",
       "      <th>5</th>\n",
       "      <td>0.000100</td>\n",
       "      <td>elasticnet</td>\n",
       "      <td>0.207709</td>\n",
       "      <td>0.214937</td>\n",
       "    </tr>\n",
       "    <tr>\n",
       "      <th>6</th>\n",
       "      <td>0.010000</td>\n",
       "      <td>l2</td>\n",
       "      <td>0.000000</td>\n",
       "      <td>0.000000</td>\n",
       "    </tr>\n",
       "    <tr>\n",
       "      <th>7</th>\n",
       "      <td>0.010000</td>\n",
       "      <td>l1</td>\n",
       "      <td>0.000000</td>\n",
       "      <td>0.000000</td>\n",
       "    </tr>\n",
       "    <tr>\n",
       "      <th>8</th>\n",
       "      <td>0.010000</td>\n",
       "      <td>elasticnet</td>\n",
       "      <td>0.000000</td>\n",
       "      <td>0.000000</td>\n",
       "    </tr>\n",
       "    <tr>\n",
       "      <th>9</th>\n",
       "      <td>1.000000</td>\n",
       "      <td>l2</td>\n",
       "      <td>0.000000</td>\n",
       "      <td>0.000000</td>\n",
       "    </tr>\n",
       "    <tr>\n",
       "      <th>10</th>\n",
       "      <td>1.000000</td>\n",
       "      <td>l1</td>\n",
       "      <td>0.000000</td>\n",
       "      <td>0.000000</td>\n",
       "    </tr>\n",
       "    <tr>\n",
       "      <th>11</th>\n",
       "      <td>1.000000</td>\n",
       "      <td>elasticnet</td>\n",
       "      <td>0.000000</td>\n",
       "      <td>0.000000</td>\n",
       "    </tr>\n",
       "    <tr>\n",
       "      <th>12</th>\n",
       "      <td>100.000000</td>\n",
       "      <td>l2</td>\n",
       "      <td>0.022765</td>\n",
       "      <td>0.023057</td>\n",
       "    </tr>\n",
       "    <tr>\n",
       "      <th>13</th>\n",
       "      <td>100.000000</td>\n",
       "      <td>l1</td>\n",
       "      <td>0.025264</td>\n",
       "      <td>0.023387</td>\n",
       "    </tr>\n",
       "    <tr>\n",
       "      <th>14</th>\n",
       "      <td>100.000000</td>\n",
       "      <td>elasticnet</td>\n",
       "      <td>0.025264</td>\n",
       "      <td>0.023387</td>\n",
       "    </tr>\n",
       "  </tbody>\n",
       "</table>\n",
       "</div>"
      ],
      "text/plain": [
       "         alpha     penalty  train_score  cv_score\n",
       "0     0.000001          l2     0.953417  0.539790\n",
       "1     0.000001          l1     0.975592  0.557440\n",
       "2     0.000001  elasticnet     0.951049  0.548765\n",
       "3     0.000100          l2     0.218242  0.218303\n",
       "4     0.000100          l1     0.374426  0.386239\n",
       "5     0.000100  elasticnet     0.207709  0.214937\n",
       "6     0.010000          l2     0.000000  0.000000\n",
       "7     0.010000          l1     0.000000  0.000000\n",
       "8     0.010000  elasticnet     0.000000  0.000000\n",
       "9     1.000000          l2     0.000000  0.000000\n",
       "10    1.000000          l1     0.000000  0.000000\n",
       "11    1.000000  elasticnet     0.000000  0.000000\n",
       "12  100.000000          l2     0.022765  0.023057\n",
       "13  100.000000          l1     0.025264  0.023387\n",
       "14  100.000000  elasticnet     0.025264  0.023387"
      ]
     },
     "execution_count": 14,
     "metadata": {},
     "output_type": "execute_result"
    }
   ],
   "source": [
    "print(logreg_gcv2['best_params'])\n",
    "logreg_gcv2['hyper_param_scores']"
   ]
  },
  {
   "cell_type": "code",
   "execution_count": 84,
   "metadata": {},
   "outputs": [],
   "source": [
    "def sci_notation(alpha_vals):\n",
    "    \n",
    "    sci_num = []\n",
    "    \n",
    "    for num in alpha_vals:\n",
    "        \n",
    "        pow_10 = int(math.log(num, 10))\n",
    "        \n",
    "        if pow_10 > 1:\n",
    "            quotient_10 = round(num/(10**pow_10), 2)\n",
    "            sci_num.append(str(quotient_10) + 'e' + str(pow_10))\n",
    "        elif pow_10 < 0:\n",
    "            pow_10 = pow_10 - 1\n",
    "            quotient_10 = round(num/(10**pow_10), 2)\n",
    "            sci_num.append(str(quotient_10) + 'e' + str(pow_10))\n",
    "        else:\n",
    "            quotient_10 = round(num, 2)\n",
    "            sci_num.append(str(quotient_10))\n",
    "    \n",
    "    return sci_num\n",
    "\n",
    "            \n",
    "            \n",
    "def plot_gcv(alpha_vals, train_scores, cv_scores, axs, plot_labels):\n",
    "    \n",
    "    # Plot the graph of hyperparam vs train & CV F1-score\n",
    "    x = np.arange(len(alpha_vals))\n",
    "    axs.plot(x, train_scores, color = 'b', label = 'Train score')\n",
    "    axs.plot(x, cv_scores, color = 'r', label = 'CV score')\n",
    "    axs.xaxis.set_ticks(x)\n",
    "    alpha_vals = sci_notation(alpha_vals)\n",
    "    axs.xaxis.set_ticklabels(alpha_vals)\n",
    "    axs.legend()\n",
    "    axs.set_ylim([0, 1.5])\n",
    "    \n",
    "    # Name the x, y axis & set the title\n",
    "    (xlab, ylab, title) = plot_labels    \n",
    "    axs.set(xlabel = xlab, ylabel = ylab, title = title) "
   ]
  },
  {
   "cell_type": "code",
   "execution_count": 86,
   "metadata": {},
   "outputs": [
    {
     "data": {
      "image/png": "[encoded data removed]",
      "text/plain": [
       "<Figure size 1080x288 with 3 Axes>"
      ]
     },
     "metadata": {
      "needs_background": "light"
     },
     "output_type": "display_data"
    }
   ],
   "source": [
    "# Visualising the GCV\n",
    "fig1 = plt.figure(figsize = (15,4))\n",
    "fig1.subplots_adjust(wspace = 0.3)\n",
    "axs = fig1.subplots(1,3)\n",
    "\n",
    "hp_grid = logreg_gcv2['hyper_param_scores']\n",
    "\n",
    "penalty_vals = ['l1', 'l2', 'elasticnet']\n",
    "\n",
    "for i in range(len(penalty_vals)):\n",
    "    item = penalty_vals[i]\n",
    "    alpha_vals = hp_grid.alpha[(hp_grid.penalty == item)]\n",
    "    train_scores = hp_grid.train_score[(hp_grid.penalty == item)]\n",
    "    cv_scores = hp_grid.cv_score[(hp_grid.penalty == item)]    \n",
    "    plot_labels = ('Regularization param', 'F1-scores', item + ' penalty')\n",
    "    plot_gcv(alpha_vals, train_scores, cv_scores, axs[i], plot_labels)"
   ]
  },
  {
   "cell_type": "code",
   "execution_count": 15,
   "metadata": {},
   "outputs": [
    {
     "name": "stdout",
     "output_type": "stream",
     "text": [
      "Block execution time:  0:00:00.000997\n"
     ]
    }
   ],
   "source": [
    "start_time = datetime.datetime.now()\n",
    "\n",
    "# Using the best estimator decided by above Grid search\n",
    "log_reg_clf2 = logreg_gcv2['best_estimator']\n",
    "\n",
    "print(\"Block execution time: \", datetime.datetime.now() - start_time)"
   ]
  },
  {
   "cell_type": "code",
   "execution_count": 16,
   "metadata": {},
   "outputs": [
    {
     "name": "stdout",
     "output_type": "stream",
     "text": [
      "\u001b[1m\n",
      "--------- Log-reg (OVR): Train data ---------\n",
      "\u001b[0m\n",
      "1a. Number & percent of datapoints having more than 5 predicted tags: 11, 0.01%\n",
      "1b. Number & percent of datapoints having 0 predicted tags: 732, 0.73%\n",
      "\n",
      "\n",
      "2. Tag wise metrics: \n",
      "\n",
      "Tag        Accuracy Precision   Recall   F1-score \n",
      "------------------------------------------------\n",
      "c#          99.8%     99.0%     98.3%     98.6%   \n",
      "java        99.8%     99.0%     98.5%     98.8%   \n",
      "php         99.8%     99.5%     97.5%     98.5%   \n",
      "javascript  99.8%     99.5%     97.4%     98.4%   \n",
      "android     99.9%     99.3%     99.8%     99.6%   \n",
      "jquery      99.9%     99.3%     98.9%     99.1%   \n",
      "c++         99.9%     97.9%     99.7%     98.8%   \n",
      "python      99.9%     99.5%     98.8%     99.1%   \n",
      "mysql       100.0%    99.3%     99.3%     99.3%   \n",
      "iphone      99.9%     98.9%     98.0%     98.4%   \n",
      "\u001b[1m\n",
      "Micro-avg   91.4%     98.8%     96.4%     97.6%   \n",
      "Macro-avg   91.4%     98.5%     94.5%     96.4%   \n",
      "\u001b[0m\n",
      "\n",
      "Block execution time:  0:16:31.008776\n"
     ]
    },
    {
     "data": {
      "image/png": "[encoded data removed]",
      "text/plain": [
       "<Figure size 576x216 with 2 Axes>"
      ]
     },
     "metadata": {
      "needs_background": "light"
     },
     "output_type": "display_data"
    }
   ],
   "source": [
    "start_time = datetime.datetime.now()\n",
    "\n",
    "# Predict the tags using the model trained above\n",
    "y_pred_train = log_reg_clf2.predict(train_x)\n",
    "\n",
    "# Generate performance report\n",
    "analyse_prediction(train_y, y_pred_train, 10, vocab, \"Log-reg (OVR): Train data\")\n",
    "\n",
    "print(\"\\nBlock execution time: \", datetime.datetime.now() - start_time)"
   ]
  },
  {
   "cell_type": "code",
   "execution_count": 17,
   "metadata": {},
   "outputs": [
    {
     "name": "stdout",
     "output_type": "stream",
     "text": [
      "\u001b[1m\n",
      "--------- Log-reg (OVR): CV data ---------\n",
      "\u001b[0m\n",
      "1a. Number & percent of datapoints having more than 5 predicted tags: 13, 0.05%\n",
      "1b. Number & percent of datapoints having 0 predicted tags: 3857, 15.43%\n",
      "\n",
      "\n",
      "2. Tag wise metrics: \n",
      "\n",
      "Tag        Accuracy Precision   Recall   F1-score \n",
      "------------------------------------------------\n",
      "c#          92.8%     60.9%     52.0%     56.1%   \n",
      "java        95.2%     74.4%     59.6%     66.2%   \n",
      "php         96.4%     84.1%     65.4%     73.6%   \n",
      "javascript  94.9%     67.6%     51.3%     58.3%   \n",
      "android     98.8%     93.6%     86.7%     90.0%   \n",
      "jquery      97.7%     82.6%     75.1%     78.7%   \n",
      "c++         97.4%     63.5%     60.8%     62.1%   \n",
      "python      98.7%     87.4%     75.1%     80.8%   \n",
      "iphone      97.4%     66.0%     52.3%     58.3%   \n",
      "asp.net     97.9%     75.8%     54.9%     63.7%   \n",
      "\u001b[1m\n",
      "Micro-avg   20.8%     67.3%     47.6%     55.7%   \n",
      "Macro-avg   20.8%     56.1%     38.1%     44.2%   \n",
      "\u001b[0m\n",
      "\n",
      "Block execution time:  0:03:05.092933\n"
     ]
    },
    {
     "data": {
      "image/png": "[encoded data removed]",
      "text/plain": [
       "<Figure size 576x216 with 2 Axes>"
      ]
     },
     "metadata": {
      "needs_background": "light"
     },
     "output_type": "display_data"
    }
   ],
   "source": [
    "start_time = datetime.datetime.now()\n",
    "\n",
    "# Predict the tags using the model trained above\n",
    "y_pred_cv = log_reg_clf2.predict(cv_x)\n",
    "\n",
    "# Generate performance report\n",
    "analyse_prediction(cv_y, y_pred_cv, 10, vocab, \"Log-reg (OVR): CV data\")\n",
    "\n",
    "print(\"\\nBlock execution time: \", datetime.datetime.now() - start_time)"
   ]
  },
  {
   "cell_type": "code",
   "execution_count": 89,
   "metadata": {},
   "outputs": [
    {
     "name": "stdout",
     "output_type": "stream",
     "text": [
      "\u001b[1m\n",
      "--------- Log-reg (OVR): Test data ---------\n",
      "\u001b[0m\n",
      "1a. Number & percent of datapoints having more than 5 predicted tags: 13, 0.05%\n",
      "1b. Number & percent of datapoints having 0 predicted tags: 3909, 15.64%\n"
     ]
    },
    {
     "name": "stderr",
     "output_type": "stream",
     "text": [
      "D:\\Anaconda\\lib\\site-packages\\sklearn\\metrics\\_classification.py:1272: UndefinedMetricWarning: Precision is ill-defined and being set to 0.0 in labels with no predicted samples. Use `zero_division` parameter to control this behavior.\n",
      "  _warn_prf(average, modifier, msg_start, len(result))\n"
     ]
    },
    {
     "name": "stdout",
     "output_type": "stream",
     "text": [
      "\n",
      "\n",
      "2. Tag wise metrics: \n",
      "\n",
      "Tag        Accuracy Precision   Recall   F1-score \n",
      "------------------------------------------------\n",
      "c#          92.9%     60.6%     51.1%     55.5%   \n",
      "java        95.4%     75.3%     61.2%     67.5%   \n",
      "php         96.6%     81.7%     67.7%     74.0%   \n",
      "javascript  95.1%     70.6%     53.9%     61.1%   \n",
      "android     98.8%     94.8%     84.5%     89.3%   \n",
      "jquery      97.4%     83.7%     71.6%     77.1%   \n",
      "c++         97.2%     64.5%     60.5%     62.4%   \n",
      "python      98.6%     88.6%     71.3%     79.0%   \n",
      "iphone      97.2%     60.6%     47.3%     53.1%   \n",
      "html        96.8%     52.0%     30.6%     38.5%   \n",
      "\u001b[1m\n",
      "Micro-avg   20.7%     67.5%     47.5%     55.7%   \n",
      "Macro-avg   20.7%     56.7%     37.8%     44.1%   \n",
      "\u001b[0m\n",
      "\n",
      "Block execution time:  0:03:37.450491\n"
     ]
    },
    {
     "data": {
      "image/png": "[encoded data removed]",
      "text/plain": [
       "<Figure size 576x216 with 2 Axes>"
      ]
     },
     "metadata": {
      "needs_background": "light"
     },
     "output_type": "display_data"
    }
   ],
   "source": [
    "start_time = datetime.datetime.now()\n",
    "\n",
    "# Predict the tags using the model trained above\n",
    "y_pred_test = log_reg_clf2.predict(test_x)\n",
    "\n",
    "# Generate performance report\n",
    "analyse_prediction(test_y, y_pred_test, 10, vocab, \"Log-reg (OVR): Test data\")\n",
    "\n",
    "print(\"\\nBlock execution time: \", datetime.datetime.now() - start_time)"
   ]
  },
  {
   "cell_type": "code",
   "execution_count": 18,
   "metadata": {},
   "outputs": [
    {
     "name": "stderr",
     "output_type": "stream",
     "text": [
      "D:\\Anaconda\\lib\\site-packages\\pandas\\core\\indexing.py:670: SettingWithCopyWarning: \n",
      "A value is trying to be set on a copy of a slice from a DataFrame\n",
      "\n",
      "See the caveats in the documentation: https://pandas.pydata.org/pandas-docs/stable/user_guide/indexing.html#returning-a-view-versus-a-copy\n",
      "  self._setitem_with_indexer(indexer, value)\n"
     ]
    },
    {
     "name": "stdout",
     "output_type": "stream",
     "text": [
      "Completed iteration: 1/17 | Time taken: 1:17:16.972767\n",
      "Completed iteration: 2/17 | Time taken: 1:14:20.953848\n",
      "Completed iteration: 3/17 | Time taken: 1:12:56.218370\n",
      "Completed iteration: 4/17 | Time taken: 1:11:51.470323\n",
      "Completed iteration: 5/17 | Time taken: 1:11:03.447037\n",
      "Completed iteration: 6/17 | Time taken: 1:05:57.660479\n",
      "Completed iteration: 7/17 | Time taken: 1:02:58.683420\n",
      "Completed iteration: 8/17 | Time taken: 1:01:08.224700\n",
      "Completed iteration: 9/17 | Time taken: 0:59:54.005386\n",
      "Completed iteration: 10/17 | Time taken: 0:54:11.197451\n",
      "Completed iteration: 11/17 | Time taken: 0:52:59.494402\n",
      "Completed iteration: 12/17 | Time taken: 0:52:35.307252\n",
      "Completed iteration: 13/17 | Time taken: 0:52:17.495162\n",
      "Completed iteration: 14/17 | Time taken: 0:51:32.131768\n",
      "Completed iteration: 15/17 | Time taken: 0:51:21.826481\n",
      "Completed iteration: 16/17 | Time taken: 0:51:08.296649\n",
      "\n",
      "Block execution time:  16:23:33.960162\n"
     ]
    }
   ],
   "source": [
    "start_time = datetime.datetime.now()\n",
    "\n",
    "# GridSearchCV for hyperparameter tuning of regularization paramter\n",
    "\n",
    "# Defining the hyper parameter value to be experimented with\n",
    "alpha_vals = []\n",
    "start_val = 10**-8\n",
    "for i in range(4):\n",
    "    alpha_vals = alpha_vals + list(np.linspace(start_val, start_val*10, 4, endpoint = False))\n",
    "    start_val *= 10\n",
    "\n",
    "hyper_params3 = {'alpha': alpha_vals, 'penalty': ['l1']}\n",
    "logreg_gcv3 = grid_search_cv(hyper_params3, train_x, train_y, cv_x, cv_y)\n",
    "\n",
    "print(\"\\nBlock execution time: \", datetime.datetime.now() - start_time)"
   ]
  },
  {
   "cell_type": "code",
   "execution_count": 19,
   "metadata": {},
   "outputs": [
    {
     "name": "stdout",
     "output_type": "stream",
     "text": [
      "{'alpha': 3.2499999999999994e-06, 'penalty': 'l1'}\n"
     ]
    },
    {
     "data": {
      "text/html": [
       "<div>\n",
       "<style scoped>\n",
       "    .dataframe tbody tr th:only-of-type {\n",
       "        vertical-align: middle;\n",
       "    }\n",
       "\n",
       "    .dataframe tbody tr th {\n",
       "        vertical-align: top;\n",
       "    }\n",
       "\n",
       "    .dataframe thead th {\n",
       "        text-align: right;\n",
       "    }\n",
       "</style>\n",
       "<table border=\"1\" class=\"dataframe\">\n",
       "  <thead>\n",
       "    <tr style=\"text-align: right;\">\n",
       "      <th></th>\n",
       "      <th>alpha</th>\n",
       "      <th>penalty</th>\n",
       "      <th>train_score</th>\n",
       "      <th>cv_score</th>\n",
       "    </tr>\n",
       "  </thead>\n",
       "  <tbody>\n",
       "    <tr>\n",
       "      <th>0</th>\n",
       "      <td>1.000000e-08</td>\n",
       "      <td>l1</td>\n",
       "      <td>0.999945</td>\n",
       "      <td>0.547902</td>\n",
       "    </tr>\n",
       "    <tr>\n",
       "      <th>1</th>\n",
       "      <td>3.250000e-08</td>\n",
       "      <td>l1</td>\n",
       "      <td>0.999943</td>\n",
       "      <td>0.548414</td>\n",
       "    </tr>\n",
       "    <tr>\n",
       "      <th>2</th>\n",
       "      <td>5.500000e-08</td>\n",
       "      <td>l1</td>\n",
       "      <td>0.999938</td>\n",
       "      <td>0.547763</td>\n",
       "    </tr>\n",
       "    <tr>\n",
       "      <th>3</th>\n",
       "      <td>7.750000e-08</td>\n",
       "      <td>l1</td>\n",
       "      <td>0.999723</td>\n",
       "      <td>0.549641</td>\n",
       "    </tr>\n",
       "    <tr>\n",
       "      <th>4</th>\n",
       "      <td>1.000000e-07</td>\n",
       "      <td>l1</td>\n",
       "      <td>0.999935</td>\n",
       "      <td>0.550184</td>\n",
       "    </tr>\n",
       "    <tr>\n",
       "      <th>5</th>\n",
       "      <td>3.250000e-07</td>\n",
       "      <td>l1</td>\n",
       "      <td>0.999833</td>\n",
       "      <td>0.553662</td>\n",
       "    </tr>\n",
       "    <tr>\n",
       "      <th>6</th>\n",
       "      <td>5.500000e-07</td>\n",
       "      <td>l1</td>\n",
       "      <td>0.998990</td>\n",
       "      <td>0.555634</td>\n",
       "    </tr>\n",
       "    <tr>\n",
       "      <th>7</th>\n",
       "      <td>7.750000e-07</td>\n",
       "      <td>l1</td>\n",
       "      <td>0.994349</td>\n",
       "      <td>0.556310</td>\n",
       "    </tr>\n",
       "    <tr>\n",
       "      <th>8</th>\n",
       "      <td>1.000000e-06</td>\n",
       "      <td>l1</td>\n",
       "      <td>0.975342</td>\n",
       "      <td>0.560434</td>\n",
       "    </tr>\n",
       "    <tr>\n",
       "      <th>9</th>\n",
       "      <td>3.250000e-06</td>\n",
       "      <td>l1</td>\n",
       "      <td>0.672126</td>\n",
       "      <td>0.560439</td>\n",
       "    </tr>\n",
       "    <tr>\n",
       "      <th>10</th>\n",
       "      <td>5.500000e-06</td>\n",
       "      <td>l1</td>\n",
       "      <td>0.597194</td>\n",
       "      <td>0.550937</td>\n",
       "    </tr>\n",
       "    <tr>\n",
       "      <th>11</th>\n",
       "      <td>7.750000e-06</td>\n",
       "      <td>l1</td>\n",
       "      <td>0.567655</td>\n",
       "      <td>0.542720</td>\n",
       "    </tr>\n",
       "    <tr>\n",
       "      <th>12</th>\n",
       "      <td>1.000000e-05</td>\n",
       "      <td>l1</td>\n",
       "      <td>0.549109</td>\n",
       "      <td>0.535152</td>\n",
       "    </tr>\n",
       "    <tr>\n",
       "      <th>13</th>\n",
       "      <td>3.250000e-05</td>\n",
       "      <td>l1</td>\n",
       "      <td>0.478390</td>\n",
       "      <td>0.485095</td>\n",
       "    </tr>\n",
       "    <tr>\n",
       "      <th>14</th>\n",
       "      <td>5.500000e-05</td>\n",
       "      <td>l1</td>\n",
       "      <td>0.436654</td>\n",
       "      <td>0.446323</td>\n",
       "    </tr>\n",
       "    <tr>\n",
       "      <th>15</th>\n",
       "      <td>7.750000e-05</td>\n",
       "      <td>l1</td>\n",
       "      <td>0.402026</td>\n",
       "      <td>0.412112</td>\n",
       "    </tr>\n",
       "  </tbody>\n",
       "</table>\n",
       "</div>"
      ],
      "text/plain": [
       "           alpha penalty  train_score  cv_score\n",
       "0   1.000000e-08      l1     0.999945  0.547902\n",
       "1   3.250000e-08      l1     0.999943  0.548414\n",
       "2   5.500000e-08      l1     0.999938  0.547763\n",
       "3   7.750000e-08      l1     0.999723  0.549641\n",
       "4   1.000000e-07      l1     0.999935  0.550184\n",
       "5   3.250000e-07      l1     0.999833  0.553662\n",
       "6   5.500000e-07      l1     0.998990  0.555634\n",
       "7   7.750000e-07      l1     0.994349  0.556310\n",
       "8   1.000000e-06      l1     0.975342  0.560434\n",
       "9   3.250000e-06      l1     0.672126  0.560439\n",
       "10  5.500000e-06      l1     0.597194  0.550937\n",
       "11  7.750000e-06      l1     0.567655  0.542720\n",
       "12  1.000000e-05      l1     0.549109  0.535152\n",
       "13  3.250000e-05      l1     0.478390  0.485095\n",
       "14  5.500000e-05      l1     0.436654  0.446323\n",
       "15  7.750000e-05      l1     0.402026  0.412112"
      ]
     },
     "execution_count": 19,
     "metadata": {},
     "output_type": "execute_result"
    }
   ],
   "source": [
    "print(logreg_gcv3['best_params'])\n",
    "logreg_gcv3['hyper_param_scores']"
   ]
  },
  {
   "cell_type": "code",
   "execution_count": 88,
   "metadata": {},
   "outputs": [
    {
     "data": {
      "image/png": "[encoded data removed]",
      "text/plain": [
       "<Figure size 1152x288 with 1 Axes>"
      ]
     },
     "metadata": {
      "needs_background": "light"
     },
     "output_type": "display_data"
    }
   ],
   "source": [
    "# Visualising the GCV\n",
    "fig2 = plt.figure(figsize = (16,4))\n",
    "fig2.subplots_adjust(wspace = 0.3)\n",
    "axs = fig2.subplots(1)\n",
    "\n",
    "hp_grid = logreg_gcv3['hyper_param_scores']\n",
    "\n",
    "alpha_vals = hp_grid.alpha\n",
    "train_scores = hp_grid.train_score\n",
    "cv_scores = hp_grid.cv_score    \n",
    "plot_labels = ('Regularization param', 'F1-scores', 'l1 penalty')\n",
    "plot_gcv(alpha_vals, train_scores, cv_scores, axs, plot_labels)"
   ]
  },
  {
   "cell_type": "code",
   "execution_count": 20,
   "metadata": {},
   "outputs": [
    {
     "name": "stdout",
     "output_type": "stream",
     "text": [
      "Block execution time:  0:00:00\n"
     ]
    }
   ],
   "source": [
    "start_time = datetime.datetime.now()\n",
    "\n",
    "# Using the best estimator decided by above Grid search\n",
    "log_reg_clf3 = logreg_gcv3['best_estimator']\n",
    "\n",
    "print(\"Block execution time: \", datetime.datetime.now() - start_time)"
   ]
  },
  {
   "cell_type": "code",
   "execution_count": 21,
   "metadata": {},
   "outputs": [
    {
     "name": "stdout",
     "output_type": "stream",
     "text": [
      "\u001b[1m\n",
      "--------- Log-reg (OVR): Train data ---------\n",
      "\u001b[0m\n",
      "1a. Number & percent of datapoints having more than 5 predicted tags: 15, 0.02%\n",
      "1b. Number & percent of datapoints having 0 predicted tags: 16052, 16.05%\n",
      "\n",
      "\n",
      "2. Tag wise metrics: \n",
      "\n",
      "Tag        Accuracy Precision   Recall   F1-score \n",
      "------------------------------------------------\n",
      "c#          96.0%     85.7%     65.2%     74.0%   \n",
      "java        97.0%     90.5%     69.5%     78.6%   \n",
      "php         97.7%     91.6%     76.0%     83.1%   \n",
      "javascript  97.2%     85.1%     71.5%     77.7%   \n",
      "android     99.3%     96.5%     92.2%     94.3%   \n",
      "jquery      98.2%     92.6%     75.8%     83.4%   \n",
      "c++         98.4%     88.7%     67.7%     76.8%   \n",
      "python      99.1%     93.9%     79.4%     86.0%   \n",
      "mysql       99.0%     90.6%     78.7%     84.3%   \n",
      "iphone      98.4%     80.1%     70.6%     75.1%   \n",
      "\u001b[1m\n",
      "Micro-avg   32.8%     84.8%     55.6%     67.2%   \n",
      "Macro-avg   32.8%     77.7%     44.1%     54.0%   \n",
      "\u001b[0m\n",
      "\n",
      "Block execution time:  0:16:30.493301\n"
     ]
    },
    {
     "data": {
      "image/png": "[encoded data removed]",
      "text/plain": [
       "<Figure size 576x216 with 2 Axes>"
      ]
     },
     "metadata": {
      "needs_background": "light"
     },
     "output_type": "display_data"
    }
   ],
   "source": [
    "start_time = datetime.datetime.now()\n",
    "\n",
    "# Predict the tags using the model trained above\n",
    "y_pred_train = log_reg_clf3.predict(train_x)\n",
    "\n",
    "# Generate performance report\n",
    "analyse_prediction(train_y, y_pred_train, 10, vocab, \"Log-reg (OVR): Train data\")\n",
    "\n",
    "print(\"\\nBlock execution time: \", datetime.datetime.now() - start_time)"
   ]
  },
  {
   "cell_type": "code",
   "execution_count": 22,
   "metadata": {},
   "outputs": [
    {
     "name": "stdout",
     "output_type": "stream",
     "text": [
      "\u001b[1m\n",
      "--------- Log-reg (OVR): CV data ---------\n",
      "\u001b[0m\n",
      "1a. Number & percent of datapoints having more than 5 predicted tags: 15, 0.06%\n",
      "1b. Number & percent of datapoints having 0 predicted tags: 4896, 19.58%\n",
      "\n",
      "\n",
      "2. Tag wise metrics: \n",
      "\n",
      "Tag        Accuracy Precision   Recall   F1-score \n",
      "------------------------------------------------\n",
      "c#          93.5%     68.1%     49.9%     57.6%   \n",
      "java        95.6%     80.4%     57.2%     66.9%   \n",
      "php         96.7%     86.2%     67.0%     75.4%   \n",
      "javascript  95.4%     71.1%     55.0%     62.0%   \n",
      "android     98.9%     94.8%     87.1%     90.8%   \n",
      "jquery      97.8%     86.3%     72.2%     78.7%   \n",
      "c++         97.7%     73.8%     55.5%     63.3%   \n",
      "python      98.7%     88.7%     72.6%     79.9%   \n",
      "iphone      97.4%     65.1%     54.1%     59.1%   \n",
      "asp.net     98.0%     80.6%     53.9%     64.6%   \n",
      "\u001b[1m\n",
      "Micro-avg   21.6%     71.1%     46.3%     56.0%   \n",
      "Macro-avg   21.6%     57.7%     36.4%     43.3%   \n",
      "\u001b[0m\n",
      "\n",
      "Block execution time:  0:03:09.523144\n"
     ]
    },
    {
     "name": "stderr",
     "output_type": "stream",
     "text": [
      "D:\\Anaconda\\lib\\site-packages\\sklearn\\metrics\\_classification.py:1272: UndefinedMetricWarning: Precision is ill-defined and being set to 0.0 in labels with no predicted samples. Use `zero_division` parameter to control this behavior.\n",
      "  _warn_prf(average, modifier, msg_start, len(result))\n"
     ]
    },
    {
     "data": {
      "image/png": "[encoded data removed]",
      "text/plain": [
       "<Figure size 576x216 with 2 Axes>"
      ]
     },
     "metadata": {
      "needs_background": "light"
     },
     "output_type": "display_data"
    }
   ],
   "source": [
    "start_time = datetime.datetime.now()\n",
    "\n",
    "# Predict the tags using the model trained above\n",
    "y_pred_cv = log_reg_clf3.predict(cv_x)\n",
    "\n",
    "# Generate performance report\n",
    "analyse_prediction(cv_y, y_pred_cv, 10, vocab, \"Log-reg (OVR): CV data\")\n",
    "\n",
    "print(\"\\nBlock execution time: \", datetime.datetime.now() - start_time)"
   ]
  },
  {
   "cell_type": "code",
   "execution_count": 90,
   "metadata": {},
   "outputs": [
    {
     "name": "stdout",
     "output_type": "stream",
     "text": [
      "\u001b[1m\n",
      "--------- Log-reg (OVR): Test data ---------\n",
      "\u001b[0m\n",
      "1a. Number & percent of datapoints having more than 5 predicted tags: 11, 0.04%\n",
      "1b. Number & percent of datapoints having 0 predicted tags: 4916, 19.66%\n",
      "\n",
      "\n",
      "2. Tag wise metrics: \n",
      "\n",
      "Tag        Accuracy Precision   Recall   F1-score \n",
      "------------------------------------------------\n",
      "c#          93.5%     67.4%     49.2%     56.9%   \n",
      "java        95.8%     80.5%     60.4%     69.0%   \n",
      "php         96.8%     85.2%     68.0%     75.6%   \n",
      "javascript  95.6%     74.4%     57.3%     64.7%   \n",
      "android     98.8%     94.4%     85.7%     89.8%   \n",
      "jquery      97.7%     89.8%     69.9%     78.6%   \n",
      "c++         97.5%     73.6%     54.7%     62.7%   \n",
      "python      98.7%     88.8%     71.7%     79.4%   \n",
      "iphone      97.3%     60.7%     51.7%     55.9%   \n",
      "html        96.9%     54.6%     31.2%     39.7%   \n",
      "\u001b[1m\n",
      "Micro-avg   21.6%     71.5%     46.1%     56.0%   \n",
      "Macro-avg   21.6%     58.6%     36.0%     43.2%   \n",
      "\u001b[0m\n",
      "\n",
      "Block execution time:  0:03:16.044641\n"
     ]
    },
    {
     "data": {
      "image/png": "[encoded data removed]",
      "text/plain": [
       "<Figure size 576x216 with 2 Axes>"
      ]
     },
     "metadata": {
      "needs_background": "light"
     },
     "output_type": "display_data"
    }
   ],
   "source": [
    "start_time = datetime.datetime.now()\n",
    "\n",
    "# Predict the tags using the model trained above\n",
    "y_pred_test = log_reg_clf3.predict(test_x)\n",
    "\n",
    "# Generate performance report\n",
    "analyse_prediction(test_y, y_pred_test, 10, vocab, \"Log-reg (OVR): Test data\")\n",
    "\n",
    "print(\"\\nBlock execution time: \", datetime.datetime.now() - start_time)"
   ]
  },
  {
   "cell_type": "code",
   "execution_count": 94,
   "metadata": {},
   "outputs": [
    {
     "data": {
      "text/plain": [
       "['E:/ai_projects/data_storage/Stack over flow tagging 5/models/logreg_gcv3.pkl']"
      ]
     },
     "execution_count": 94,
     "metadata": {},
     "output_type": "execute_result"
    }
   ],
   "source": [
    "joblib.dump(log_reg_clf1, 'E:/ai_projects/data_storage/Stack over flow tagging 5/models/log_reg_clf1.pkl')\n",
    "joblib.dump(logreg_gcv2, 'E:/ai_projects/data_storage/Stack over flow tagging 5/models/logreg_gcv2.pkl')\n",
    "joblib.dump(logreg_gcv3, 'E:/ai_projects/data_storage/Stack over flow tagging 5/models/logreg_gcv3.pkl')"
   ]
  }
 ],
 "metadata": {
  "kernelspec": {
   "display_name": "Python 3 (ipykernel)",
   "language": "python",
   "name": "python3"
  },
  "language_info": {
   "codemirror_mode": {
    "name": "ipython",
    "version": 3
   },
   "file_extension": ".py",
   "mimetype": "text/x-python",
   "name": "python",
   "nbconvert_exporter": "python",
   "pygments_lexer": "ipython3",
   "version": "3.12.4"
  }
 },
 "nbformat": 4,
 "nbformat_minor": 4
}
