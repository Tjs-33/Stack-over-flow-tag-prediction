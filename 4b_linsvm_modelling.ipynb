{
 "cells": [
  {
   "cell_type": "code",
   "execution_count": 1,
   "metadata": {},
   "outputs": [
    {
     "name": "stderr",
     "output_type": "stream",
     "text": [
      "[nltk_data] Downloading package punkt to C:\\Users\\Tejas\n",
      "[nltk_data]     Chavan\\AppData\\Roaming\\nltk_data...\n",
      "[nltk_data]   Package punkt is already up-to-date!\n",
      "[nltk_data] Downloading package stopwords to C:\\Users\\Tejas\n",
      "[nltk_data]     Chavan\\AppData\\Roaming\\nltk_data...\n",
      "[nltk_data]   Package stopwords is already up-to-date!\n"
     ]
    }
   ],
   "source": [
    "import pandas as pd\n",
    "import numpy as np\n",
    "import matplotlib.pyplot as plt\n",
    "import string\n",
    "import nltk\n",
    "import re\n",
    "import math\n",
    "nltk.download('punkt')\n",
    "nltk.download('stopwords')\n",
    "from sklearn.feature_extraction.text import CountVectorizer, TfidfVectorizer\n",
    "import datetime\n",
    "from sklearn.multiclass import OneVsRestClassifier\n",
    "from sklearn.linear_model import SGDClassifier, LogisticRegression\n",
    "from sklearn.model_selection import GridSearchCV\n",
    "from sklearn.metrics import accuracy_score, precision_score, recall_score, f1_score\n",
    "from scipy import sparse\n",
    "import pickle\n",
    "import joblib"
   ]
  },
  {
   "cell_type": "markdown",
   "metadata": {},
   "source": [
    "<p style='font-size:20px'><b> Lin-SVM Modelling </b></p>\n",
    "<p>\n",
    "\n",
    "- We will apply a similar approach using the Lin-SVM model instead of log-reg.\n",
    "\n",
    "</p>"
   ]
  },
  {
   "cell_type": "code",
   "execution_count": 3,
   "metadata": {},
   "outputs": [],
   "source": [
    "# Load the processed, featurized train & test data \n",
    "train_x = sparse.load_npz(\"dataset/train_x.npz\")\n",
    "train_y = sparse.load_npz(\"dataset/train_y.npz\")\n",
    "cv_x = sparse.load_npz(\"dataset/cv_x.npz\")\n",
    "cv_y = sparse.load_npz(\"dataset/cv_y.npz\")\n",
    "test_x = sparse.load_npz(\"dataset/test_x.npz\")\n",
    "test_y = sparse.load_npz(\"dataset/test_y.npz\")\n",
    "vocab = pickle.load(open(\"models/vocab.pickle\", \"rb\"))"
   ]
  },
  {
   "cell_type": "code",
   "execution_count": 4,
   "metadata": {},
   "outputs": [
    {
     "name": "stdout",
     "output_type": "stream",
     "text": [
      "(100000, 200000)\n",
      "(100000, 500)\n",
      "(25000, 200000)\n",
      "(25000, 500)\n",
      "(25000, 200000)\n",
      "(25000, 500)\n"
     ]
    }
   ],
   "source": [
    "print(train_x.shape)\n",
    "print(train_y.shape)\n",
    "print(cv_x.shape)\n",
    "print(cv_y.shape)\n",
    "print(test_x.shape)\n",
    "print(test_y.shape)"
   ]
  },
  {
   "cell_type": "code",
   "execution_count": 6,
   "metadata": {},
   "outputs": [],
   "source": [
    "def analyse_prediction(y_actual, y_pred, num_top_tags, vocab, header):\n",
    "    \n",
    "    # Metrics part 1:\n",
    "    # Number of tags predicted to a question, viewing the following few metrics:\n",
    "    # 1. Plot: Distribution of # of tags predicted vs questions\n",
    "    # 2. Plot: Distribution of difference (# of tags predicted - # of actual tags) vs questions\n",
    "    # 3. Metric: Number and % of question with more than 5 predicted tags\n",
    "\n",
    "    print('\\033[1m' + \"\\n--------- \" + header + \" ---------\\n\" + '\\033[0m')\n",
    "    \n",
    "    fig = plt.figure(figsize = (8,3))\n",
    "    fig.subplots_adjust(wspace = 0.3)\n",
    "    axs = fig.subplots(1,2)\n",
    "    \n",
    "    # Calculating the number of tags predicted vs number of actual tags for each question\n",
    "    num_actual = np.zeros(y_actual.shape[0], dtype = 'int')\n",
    "    num_pred = np.zeros(y_actual.shape[0], dtype = 'int')    \n",
    "    \n",
    "    non_zero_vals = y_actual.nonzero()[0]\n",
    "    datapt_no, num_tags = np.unique(non_zero_vals, return_counts=True)\n",
    "    num_actual[datapt_no] = num_tags\n",
    "    \n",
    "    non_zero_vals = y_pred.nonzero()[0]\n",
    "    datapt_no, num_tags = np.unique(non_zero_vals, return_counts=True)\n",
    "    num_pred[datapt_no] = num_tags\n",
    "    \n",
    "    \n",
    "    # 1. Plot\n",
    "    num_tags, num_datapts = np.unique(num_pred, return_counts=True)\n",
    "    axs[0].bar(num_tags, num_datapts/1000)\n",
    "    axs[0].set(xlabel = '# of tags', ylabel = '# of datapts (in thousands)', title = 'Distribution of # tags_pred vs # questions')\n",
    "\n",
    "    # 2. Plot\n",
    "    num_vals, num_datapts = np.unique(num_pred - num_actual, return_counts=True)\n",
    "    axs[1].bar(num_vals, num_datapts/1000)\n",
    "    axs[1].set(xlabel = 'Diff in # of tags (pred - actual)', ylabel = '# of datapts (in thousands)', title = 'Distribution of diff & # questions')\n",
    "    \n",
    "    # 3. Metric\n",
    "    print(\"1a. Number & percent of datapoints having more than 5 predicted tags: {}, {}%\".format(np.sum(num_pred > 5), round(100*np.sum(num_pred > 5)/y_actual.shape[0],2)))\n",
    "    print(\"1b. Number & percent of datapoints having 0 predicted tags: {}, {}%\".format(np.sum(num_pred == 0), round(100*np.sum(num_pred == 0)/y_actual.shape[0],2)))\n",
    "#     print(\"\\n2a. Number & percent of datapoints having more than 5 actual tags: {}, {}%\".format(np.sum(num_actual > 5), round(100*np.sum(num_actual > 5)/y_actual.shape[0],2)))\n",
    "#     print(\"2b. Number & percent of datapoints having 0 actual tags: {}, {}%\".format(np.sum(num_actual == 0), round(100*np.sum(num_actual == 0)/y_actual.shape[0],2)))\n",
    "    \n",
    "    \n",
    "    # Metrics part 2:\n",
    "    # Label wise & Micro/Macro averaged:\n",
    "    # 1. Accuracy\n",
    "    # 2. Precision\n",
    "    # 3. Recall\n",
    "    # 4. F1 score\n",
    "    \n",
    "    perf_report = []\n",
    "    perf_report.append(['Tag', 'Accuracy', 'Precision', 'Recall', 'F1-score'])\n",
    "    \n",
    "    # Getting the top number of tags\n",
    "    tag_inds = np.arange(0, y_actual.shape[1], 1)\n",
    "    non_zero_vals = y_actual.nonzero()[1]\n",
    "    inds, count = np.unique(non_zero_vals, return_counts=True)\n",
    "    sort_indices = np.argsort(count)[::-1]\n",
    "    inds = inds[sort_indices]\n",
    "    top_tag_inds = inds[:num_top_tags]\n",
    "\n",
    "    for tag_ind in top_tag_inds:\n",
    "        \n",
    "        temp_report = []\n",
    "        \n",
    "        # Adding the label name in the report \n",
    "        temp_report.append(list(vocab.keys())[list(vocab.values()).index(tag_ind)])\n",
    "        \n",
    "        tag_actual = y_actual[:, tag_ind].toarray()\n",
    "        tag_pred = y_pred[:, tag_ind].toarray()\n",
    "        \n",
    "        # Calculating the specified metrics\n",
    "        acc = accuracy_score(tag_actual, tag_pred)\n",
    "        prec = precision_score(tag_actual, tag_pred)\n",
    "        rec = recall_score(tag_actual, tag_pred)\n",
    "        f1_scr = f1_score(tag_actual, tag_pred)\n",
    "        \n",
    "        # Adding the specified metrics to the report\n",
    "        temp_report = temp_report + [acc, prec, rec, f1_scr]\n",
    "        \n",
    "        # Adding tag metrics to the final report\n",
    "        perf_report.append(temp_report)\n",
    "        \n",
    "        \n",
    "    # Calculating the metrics at a micro-averaged level\n",
    "    temp_report = []\n",
    "    temp_report.append('Micro-avg')\n",
    "    acc = accuracy_score(y_actual, y_pred)\n",
    "    prec = precision_score(y_actual, y_pred, average = 'micro')\n",
    "    rec = recall_score(y_actual, y_pred, average = 'micro')\n",
    "    f1_scr = f1_score(y_actual, y_pred, average = 'micro')\n",
    "    temp_report = temp_report + [acc, prec, rec, f1_scr]\n",
    "    perf_report.append(temp_report)\n",
    "    \n",
    "    # Calculating the metrics at a macro-averaged level\n",
    "    temp_report = []\n",
    "    temp_report.append('Macro-avg')\n",
    "    acc = accuracy_score(y_actual, y_pred)\n",
    "    prec = precision_score(y_actual, y_pred, average = 'macro')\n",
    "    rec = recall_score(y_actual, y_pred, average = 'macro')\n",
    "    f1_scr = f1_score(y_actual, y_pred, average = 'macro')\n",
    "    temp_report = temp_report + [acc, prec, rec, f1_scr]\n",
    "    perf_report.append(temp_report)\n",
    "    \n",
    "    \n",
    "    # Printing the final report\n",
    "    print(\"\\n\\n2. Tag wise metrics: \\n\")\n",
    "    col_width = 10\n",
    "    print(perf_report[0][0].ljust(col_width), end = \"\")\n",
    "    print(\"\".join(word.center(col_width) for word in perf_report[0][1:]))\n",
    "    print(\"------------------------------------------------\")\n",
    "    \n",
    "    for row in perf_report[1:-2]:\n",
    "        temp_tag = str(row[0])\n",
    "        temp_acc = str(round(100*row[1],1)) + '%'\n",
    "        temp_prec = str(round(100*row[2],1)) + '%'\n",
    "        temp_rec = str(round(100*row[3],1)) + '%'\n",
    "        temp_f1 = str(round(100*row[4],1)) + '%'\n",
    "        \n",
    "        print(temp_tag.ljust(col_width), end = \"\")\n",
    "        print(temp_acc.center(col_width), end = \"\")\n",
    "        print(temp_prec.center(col_width), end = \"\")\n",
    "        print(temp_rec.center(col_width), end = \"\")\n",
    "        print(temp_f1.center(col_width))\n",
    "    \n",
    "    print('\\033[1m')\n",
    "    for row in perf_report[-2:]:\n",
    "        temp_tag = str(row[0])\n",
    "        temp_acc = str(round(100*row[1],1)) + '%'\n",
    "        temp_prec = str(round(100*row[2],1)) + '%'\n",
    "        temp_rec = str(round(100*row[3],1)) + '%'\n",
    "        temp_f1 = str(round(100*row[4],1)) + '%'\n",
    "        \n",
    "        print(temp_tag.ljust(col_width), end = \"\")\n",
    "        print(temp_acc.center(col_width), end = \"\")\n",
    "        print(temp_prec.center(col_width), end = \"\")\n",
    "        print(temp_rec.center(col_width), end = \"\")\n",
    "        print(temp_f1.center(col_width))\n",
    "    print('\\033[0m')        "
   ]
  },
  {
   "cell_type": "markdown",
   "metadata": {},
   "source": [
    "<p style='font-size:18px'><b> Linear SVM </b></p>"
   ]
  },
  {
   "cell_type": "code",
   "execution_count": 8,
   "metadata": {},
   "outputs": [
    {
     "name": "stdout",
     "output_type": "stream",
     "text": [
      "Block execution time:  0:26:53.431292\n"
     ]
    }
   ],
   "source": [
    "start_time = datetime.datetime.now()\n",
    "\n",
    "# Using penalty = 'l2' yielded worse results\n",
    "lin_svm_clf1 = OneVsRestClassifier(SGDClassifier(loss='hinge', alpha=0.00001, penalty='l1', max_iter = 5000))\n",
    "lin_svm_clf1.fit(train_x, train_y)\n",
    "\n",
    "print(\"Block execution time: \", datetime.datetime.now() - start_time)"
   ]
  },
  {
   "cell_type": "code",
   "execution_count": 9,
   "metadata": {},
   "outputs": [
    {
     "name": "stdout",
     "output_type": "stream",
     "text": [
      "[7, 9, 7, 7, 7, 7, 7, 7, 7, 7, 7, 7, 7, 6, 7, 7, 7, 7, 6, 7, 7, 9, 7, 7, 7, 7, 6, 7, 7, 7, 7, 7, 7, 7, 7, 9, 7, 7, 7, 7, 7, 7, 7, 7, 7, 7, 7, 7, 7, 7, 7, 7, 7, 7, 7, 7, 6, 7, 7, 7, 7, 7, 8, 12, 7, 10, 7, 7, 7, 7, 6, 7, 7, 7, 7, 7, 7, 7, 6, 7, 7, 7, 7, 7, 7, 7, 7, 7, 7, 7, 7, 7, 7, 7, 7, 7, 7, 7, 7, 6, 8, 7, 7, 6, 7, 7, 7, 8, 7, 7, 7, 7, 7, 7, 7, 7, 7, 7, 7, 7, 7, 7, 7, 7, 7, 7, 7, 7, 6, 7, 7, 7, 7, 7, 7, 7, 7, 7, 7, 7, 7, 7, 7, 7, 7, 7, 7, 7, 7, 7, 8, 7, 7, 7, 7, 7, 7, 7, 7, 7, 7, 7, 7, 7, 7, 7, 7, 7, 7, 7, 7, 7, 7, 7, 7, 7, 7, 7, 7, 7, 7, 7, 7, 7, 7, 7, 7, 7, 7, 7, 7, 7, 7, 7, 7, 6, 7, 7, 9, 7, 7, 7, 7, 7, 7, 7, 7, 7, 7, 7, 7, 7, 7, 7, 7, 7, 6, 7, 7, 7, 9, 7, 7, 7, 7, 9, 7, 7, 10, 7, 7, 10, 7, 7, 7, 7, 6, 7, 6, 9, 7, 7, 7, 7, 7, 7, 7, 7, 7, 7, 7, 6, 7, 7, 7, 7, 7, 7, 8, 7, 7, 7, 7, 7, 7, 7, 7, 7, 7, 7, 7, 7, 7, 7, 7, 7, 7, 7, 7, 7, 6, 7, 7, 7, 7, 7, 7, 7, 7, 7, 6, 7, 7, 7, 7, 9, 7, 7, 7, 7, 7, 7, 7, 6, 7, 7, 8, 7, 7, 7, 7, 7, 7, 7, 7, 7, 6, 7, 7, 7, 7, 6, 7, 7, 7, 7, 9, 7, 7, 7, 7, 7, 7, 7, 7, 7, 7, 7, 7, 7, 7, 9, 7, 7, 7, 7, 7, 7, 7, 7, 7, 7, 7, 7, 7, 7, 7, 7, 7, 7, 7, 6, 6, 8, 8, 7, 7, 7, 7, 7, 7, 7, 7, 7, 6, 7, 6, 7, 7, 7, 7, 7, 7, 7, 7, 7, 7, 7, 7, 7, 6, 7, 7, 7, 8, 8, 7, 7, 7, 7, 7, 7, 7, 7, 7, 7, 7, 7, 7, 6, 7, 7, 7, 7, 7, 7, 7, 7, 7, 7, 7, 7, 7, 6, 6, 7, 7, 7, 7, 7, 7, 7, 6, 7, 7, 7, 7, 7, 7, 7, 6, 7, 7, 7, 7, 7, 7, 7, 7, 7, 7, 7, 7, 7, 7, 7, 7, 7, 7, 7, 7, 7, 7, 7, 7, 7, 7, 7, 7, 7, 7, 7, 7, 7, 7, 7, 7, 7, 8, 8, 7, 7, 7, 7, 7, 7, 7, 7, 7, 8, 7, 7, 8, 7, 7, 7, 7, 7, 6, 7]\n"
     ]
    }
   ],
   "source": [
    "print([estimator.n_iter_ for estimator in lin_svm_clf1.estimators_])"
   ]
  },
  {
   "cell_type": "code",
   "execution_count": 10,
   "metadata": {},
   "outputs": [
    {
     "name": "stdout",
     "output_type": "stream",
     "text": [
      "\u001b[1m\n",
      "--------- Lin-SVM (OVR): Train data ---------\n",
      "\u001b[0m\n",
      "1a. Number & percent of datapoints having more than 5 predicted tags: 0, 0.0%\n",
      "1b. Number & percent of datapoints having 0 predicted tags: 24455, 24.46%\n"
     ]
    },
    {
     "name": "stderr",
     "output_type": "stream",
     "text": [
      "D:\\Anaconda\\Lib\\site-packages\\sklearn\\metrics\\_classification.py:1509: UndefinedMetricWarning: Precision is ill-defined and being set to 0.0 in labels with no predicted samples. Use `zero_division` parameter to control this behavior.\n",
      "  _warn_prf(average, modifier, f\"{metric.capitalize()} is\", len(result))\n"
     ]
    },
    {
     "name": "stdout",
     "output_type": "stream",
     "text": [
      "\n",
      "\n",
      "2. Tag wise metrics: \n",
      "\n",
      "Tag        Accuracy Precision   Recall   F1-score \n",
      "------------------------------------------------\n",
      "c#          94.6%     79.7%     51.6%     62.6%   \n",
      "java        96.2%     88.0%     59.7%     71.2%   \n",
      "php         97.1%     88.0%     70.7%     78.4%   \n",
      "javascript  96.1%     86.4%     51.9%     64.8%   \n",
      "android     99.0%     96.3%     88.0%     92.0%   \n",
      "jquery      97.9%     89.7%     73.3%     80.6%   \n",
      "c++         98.0%     88.8%     54.2%     67.3%   \n",
      "python      98.9%     92.7%     74.9%     82.9%   \n",
      "mysql       98.6%     91.1%     65.9%     76.5%   \n",
      "iphone      97.9%     82.0%     47.8%     60.4%   \n",
      "\u001b[1m\n",
      "Micro-avg   25.2%     84.4%     43.2%     57.1%   \n",
      "Macro-avg   25.2%     67.9%     31.0%     36.9%   \n",
      "\u001b[0m\n",
      "\n",
      "Block execution time:  0:17:16.985947\n"
     ]
    },
    {
     "data": {
      "image/png": "[encoded data removed]",
      "text/plain": [
       "<Figure size 800x300 with 2 Axes>"
      ]
     },
     "metadata": {},
     "output_type": "display_data"
    }
   ],
   "source": [
    "start_time = datetime.datetime.now()\n",
    "\n",
    "# Predict the tags using the model trained above\n",
    "y_pred_train = lin_svm_clf1.predict(train_x)\n",
    "\n",
    "# Generate performance report\n",
    "analyse_prediction(train_y, y_pred_train, 10, vocab, \"Lin-SVM (OVR): Train data\")\n",
    "\n",
    "print(\"\\nBlock execution time: \", datetime.datetime.now() - start_time)"
   ]
  },
  {
   "cell_type": "code",
   "execution_count": 11,
   "metadata": {},
   "outputs": [
    {
     "name": "stdout",
     "output_type": "stream",
     "text": [
      "\u001b[1m\n",
      "--------- Lin-SVM (OVR): Test data ---------\n",
      "\u001b[0m\n",
      "1a. Number & percent of datapoints having more than 5 predicted tags: 1, 0.0%\n",
      "1b. Number & percent of datapoints having 0 predicted tags: 6420, 25.68%\n"
     ]
    },
    {
     "name": "stderr",
     "output_type": "stream",
     "text": [
      "D:\\Anaconda\\Lib\\site-packages\\sklearn\\metrics\\_classification.py:1509: UndefinedMetricWarning: Precision is ill-defined and being set to 0.0 in labels with no predicted samples. Use `zero_division` parameter to control this behavior.\n",
      "  _warn_prf(average, modifier, f\"{metric.capitalize()} is\", len(result))\n"
     ]
    },
    {
     "name": "stdout",
     "output_type": "stream",
     "text": [
      "\n",
      "\n",
      "2. Tag wise metrics: \n",
      "\n",
      "Tag        Accuracy Precision   Recall   F1-score \n",
      "------------------------------------------------\n",
      "c#          93.7%     71.3%     46.4%     56.2%   \n",
      "java        95.9%     83.7%     58.8%     69.1%   \n",
      "php         96.9%     85.1%     69.2%     76.3%   \n",
      "javascript  95.7%     84.9%     47.7%     61.1%   \n",
      "android     98.8%     96.0%     83.7%     89.5%   \n",
      "jquery      97.7%     90.0%     70.1%     78.8%   \n",
      "c++         97.6%     80.9%     47.7%     60.0%   \n",
      "python      98.7%     91.3%     69.7%     79.1%   \n",
      "iphone      97.5%     71.6%     40.8%     52.0%   \n",
      "html        96.9%     67.1%     12.9%     21.7%   \n",
      "\u001b[1m\n",
      "Micro-avg   22.4%     80.3%     40.8%     54.1%   \n",
      "Macro-avg   22.4%     49.9%     29.2%     34.2%   \n",
      "\u001b[0m\n",
      "\n",
      "Block execution time:  0:03:12.501963\n"
     ]
    },
    {
     "data": {
      "image/png": "[encoded data removed]",
      "text/plain": [
       "<Figure size 800x300 with 2 Axes>"
      ]
     },
     "metadata": {},
     "output_type": "display_data"
    }
   ],
   "source": [
    "start_time = datetime.datetime.now()\n",
    "\n",
    "# Predict the tags using the model trained above\n",
    "y_pred_test = lin_svm_clf1.predict(test_x)\n",
    "\n",
    "# Generate performance report\n",
    "analyse_prediction(test_y, y_pred_test, 10, vocab, \"Lin-SVM (OVR): Test data\")\n",
    "\n",
    "print(\"\\nBlock execution time: \", datetime.datetime.now() - start_time)"
   ]
  },
  {
   "cell_type": "markdown",
   "metadata": {},
   "source": [
    "<p style='font-size:18px'><b> Grid Search CV </b></p>"
   ]
  },
  {
   "cell_type": "code",
   "execution_count": 12,
   "metadata": {},
   "outputs": [],
   "source": [
    "def grid_search_cv(hyper_params, train_x, train_y, cv_x, cv_y):\n",
    "    \n",
    "    # Creating the mesh grid of hyperparameters as a pandas dataframe\n",
    "    hyper_param_grid = pd.DataFrame()\n",
    "    alpha_vals = hyper_params['alpha']\n",
    "    penalty_vals = hyper_params['penalty']\n",
    "    temp = []\n",
    "    \n",
    "    for alpha_val in alpha_vals:\n",
    "        for penalty_val in penalty_vals:\n",
    "            temp.append((alpha_val, penalty_val))\n",
    "            \n",
    "    hyper_param_grid['alpha'] = [x for (x, y) in temp]\n",
    "    hyper_param_grid['penalty'] = [y for (x, y) in temp]\n",
    "    hyper_param_grid['train_score'] = np.zeros(len(temp))\n",
    "    hyper_param_grid['cv_score'] = np.zeros(len(temp))\n",
    "    \n",
    "    \n",
    "    # Iterating over the mesh grid and training models for each hyper parameter combination\n",
    "    best_cv_score = 0\n",
    "    best_estimator = 0\n",
    "    best_params = {'alpha': 0, 'penalty': 0}\n",
    "    \n",
    "    start_ = datetime.datetime.now()\n",
    "    for i in range(hyper_param_grid.shape[0]):\n",
    "        \n",
    "        alpha_val = hyper_param_grid.alpha.iloc[i]\n",
    "        penalty_val = hyper_param_grid.penalty.iloc[i]\n",
    "        \n",
    "        # Model training\n",
    "        linsvm = OneVsRestClassifier(SGDClassifier(alpha = alpha_val, penalty = penalty_val, loss='hinge', max_iter=2000))\n",
    "        linsvm.fit(train_x, train_y)\n",
    "        \n",
    "        # Model prediction on train data\n",
    "        y_pred_train = linsvm.predict(train_x)\n",
    "        train_scr = f1_score(train_y, y_pred_train, average = 'micro')\n",
    "        hyper_param_grid.train_score.iloc[i] = train_scr\n",
    "        \n",
    "        # Model prediction on CV data\n",
    "        y_pred_cv = linsvm.predict(cv_x)\n",
    "        cv_scr = f1_score(cv_y, y_pred_cv, average = 'micro')\n",
    "        hyper_param_grid.cv_score.iloc[i] = cv_scr\n",
    "        \n",
    "        # Save this model if it is the best estimator so far\n",
    "        if cv_scr > best_cv_score:\n",
    "            best_cv_score = cv_scr\n",
    "            best_estimator = linsvm # is .copy necessary here?\n",
    "            best_params = {'alpha': alpha_val, 'penalty': penalty_val}\n",
    "        \n",
    "        # Verbose the progress & time taken for latest iteration\n",
    "        end_ = datetime.datetime.now() - start_\n",
    "        print(\"Completed iteration: {}/{} | Time taken: {}\".format(i+1, hyper_param_grid.shape[0]+1, end_))\n",
    "        start_ = datetime.datetime.now()\n",
    "            \n",
    "    return {'hyper_param_scores': hyper_param_grid, 'best_estimator': best_estimator, 'best_params': best_params}    \n",
    "    "
   ]
  },
  {
   "cell_type": "markdown",
   "metadata": {},
   "source": [
    "<p style='font-size:16px'><b> Grid Search CV trial 1 </b></p>\n"
   ]
  },
  {
   "cell_type": "code",
   "execution_count": 13,
   "metadata": {},
   "outputs": [
    {
     "name": "stderr",
     "output_type": "stream",
     "text": [
      "C:\\Users\\Tejas Chavan\\AppData\\Local\\Temp\\ipykernel_4264\\1096226136.py:37: FutureWarning: ChainedAssignmentError: behaviour will change in pandas 3.0!\n",
      "You are setting values through chained assignment. Currently this works in certain cases, but when using Copy-on-Write (which will become the default behaviour in pandas 3.0) this will never work to update the original DataFrame or Series, because the intermediate object on which we are setting values will behave as a copy.\n",
      "A typical example is when you are setting values in a column of a DataFrame, like:\n",
      "\n",
      "df[\"col\"][row_indexer] = value\n",
      "\n",
      "Use `df.loc[row_indexer, \"col\"] = values` instead, to perform the assignment in a single step and ensure this keeps updating the original `df`.\n",
      "\n",
      "See the caveats in the documentation: https://pandas.pydata.org/pandas-docs/stable/user_guide/indexing.html#returning-a-view-versus-a-copy\n",
      "\n",
      "  hyper_param_grid.train_score.iloc[i] = train_scr\n",
      "C:\\Users\\Tejas Chavan\\AppData\\Local\\Temp\\ipykernel_4264\\1096226136.py:37: SettingWithCopyWarning: \n",
      "A value is trying to be set on a copy of a slice from a DataFrame\n",
      "\n",
      "See the caveats in the documentation: https://pandas.pydata.org/pandas-docs/stable/user_guide/indexing.html#returning-a-view-versus-a-copy\n",
      "  hyper_param_grid.train_score.iloc[i] = train_scr\n",
      "C:\\Users\\Tejas Chavan\\AppData\\Local\\Temp\\ipykernel_4264\\1096226136.py:42: FutureWarning: ChainedAssignmentError: behaviour will change in pandas 3.0!\n",
      "You are setting values through chained assignment. Currently this works in certain cases, but when using Copy-on-Write (which will become the default behaviour in pandas 3.0) this will never work to update the original DataFrame or Series, because the intermediate object on which we are setting values will behave as a copy.\n",
      "A typical example is when you are setting values in a column of a DataFrame, like:\n",
      "\n",
      "df[\"col\"][row_indexer] = value\n",
      "\n",
      "Use `df.loc[row_indexer, \"col\"] = values` instead, to perform the assignment in a single step and ensure this keeps updating the original `df`.\n",
      "\n",
      "See the caveats in the documentation: https://pandas.pydata.org/pandas-docs/stable/user_guide/indexing.html#returning-a-view-versus-a-copy\n",
      "\n",
      "  hyper_param_grid.cv_score.iloc[i] = cv_scr\n",
      "C:\\Users\\Tejas Chavan\\AppData\\Local\\Temp\\ipykernel_4264\\1096226136.py:42: SettingWithCopyWarning: \n",
      "A value is trying to be set on a copy of a slice from a DataFrame\n",
      "\n",
      "See the caveats in the documentation: https://pandas.pydata.org/pandas-docs/stable/user_guide/indexing.html#returning-a-view-versus-a-copy\n",
      "  hyper_param_grid.cv_score.iloc[i] = cv_scr\n"
     ]
    },
    {
     "name": "stdout",
     "output_type": "stream",
     "text": [
      "Completed iteration: 1/16 | Time taken: 0:42:12.643175\n"
     ]
    },
    {
     "name": "stderr",
     "output_type": "stream",
     "text": [
      "C:\\Users\\Tejas Chavan\\AppData\\Local\\Temp\\ipykernel_4264\\1096226136.py:37: FutureWarning: ChainedAssignmentError: behaviour will change in pandas 3.0!\n",
      "You are setting values through chained assignment. Currently this works in certain cases, but when using Copy-on-Write (which will become the default behaviour in pandas 3.0) this will never work to update the original DataFrame or Series, because the intermediate object on which we are setting values will behave as a copy.\n",
      "A typical example is when you are setting values in a column of a DataFrame, like:\n",
      "\n",
      "df[\"col\"][row_indexer] = value\n",
      "\n",
      "Use `df.loc[row_indexer, \"col\"] = values` instead, to perform the assignment in a single step and ensure this keeps updating the original `df`.\n",
      "\n",
      "See the caveats in the documentation: https://pandas.pydata.org/pandas-docs/stable/user_guide/indexing.html#returning-a-view-versus-a-copy\n",
      "\n",
      "  hyper_param_grid.train_score.iloc[i] = train_scr\n",
      "C:\\Users\\Tejas Chavan\\AppData\\Local\\Temp\\ipykernel_4264\\1096226136.py:37: SettingWithCopyWarning: \n",
      "A value is trying to be set on a copy of a slice from a DataFrame\n",
      "\n",
      "See the caveats in the documentation: https://pandas.pydata.org/pandas-docs/stable/user_guide/indexing.html#returning-a-view-versus-a-copy\n",
      "  hyper_param_grid.train_score.iloc[i] = train_scr\n",
      "C:\\Users\\Tejas Chavan\\AppData\\Local\\Temp\\ipykernel_4264\\1096226136.py:42: FutureWarning: ChainedAssignmentError: behaviour will change in pandas 3.0!\n",
      "You are setting values through chained assignment. Currently this works in certain cases, but when using Copy-on-Write (which will become the default behaviour in pandas 3.0) this will never work to update the original DataFrame or Series, because the intermediate object on which we are setting values will behave as a copy.\n",
      "A typical example is when you are setting values in a column of a DataFrame, like:\n",
      "\n",
      "df[\"col\"][row_indexer] = value\n",
      "\n",
      "Use `df.loc[row_indexer, \"col\"] = values` instead, to perform the assignment in a single step and ensure this keeps updating the original `df`.\n",
      "\n",
      "See the caveats in the documentation: https://pandas.pydata.org/pandas-docs/stable/user_guide/indexing.html#returning-a-view-versus-a-copy\n",
      "\n",
      "  hyper_param_grid.cv_score.iloc[i] = cv_scr\n",
      "C:\\Users\\Tejas Chavan\\AppData\\Local\\Temp\\ipykernel_4264\\1096226136.py:42: SettingWithCopyWarning: \n",
      "A value is trying to be set on a copy of a slice from a DataFrame\n",
      "\n",
      "See the caveats in the documentation: https://pandas.pydata.org/pandas-docs/stable/user_guide/indexing.html#returning-a-view-versus-a-copy\n",
      "  hyper_param_grid.cv_score.iloc[i] = cv_scr\n"
     ]
    },
    {
     "name": "stdout",
     "output_type": "stream",
     "text": [
      "Completed iteration: 2/16 | Time taken: 0:56:12.085935\n"
     ]
    },
    {
     "name": "stderr",
     "output_type": "stream",
     "text": [
      "C:\\Users\\Tejas Chavan\\AppData\\Local\\Temp\\ipykernel_4264\\1096226136.py:37: FutureWarning: ChainedAssignmentError: behaviour will change in pandas 3.0!\n",
      "You are setting values through chained assignment. Currently this works in certain cases, but when using Copy-on-Write (which will become the default behaviour in pandas 3.0) this will never work to update the original DataFrame or Series, because the intermediate object on which we are setting values will behave as a copy.\n",
      "A typical example is when you are setting values in a column of a DataFrame, like:\n",
      "\n",
      "df[\"col\"][row_indexer] = value\n",
      "\n",
      "Use `df.loc[row_indexer, \"col\"] = values` instead, to perform the assignment in a single step and ensure this keeps updating the original `df`.\n",
      "\n",
      "See the caveats in the documentation: https://pandas.pydata.org/pandas-docs/stable/user_guide/indexing.html#returning-a-view-versus-a-copy\n",
      "\n",
      "  hyper_param_grid.train_score.iloc[i] = train_scr\n",
      "C:\\Users\\Tejas Chavan\\AppData\\Local\\Temp\\ipykernel_4264\\1096226136.py:37: SettingWithCopyWarning: \n",
      "A value is trying to be set on a copy of a slice from a DataFrame\n",
      "\n",
      "See the caveats in the documentation: https://pandas.pydata.org/pandas-docs/stable/user_guide/indexing.html#returning-a-view-versus-a-copy\n",
      "  hyper_param_grid.train_score.iloc[i] = train_scr\n",
      "C:\\Users\\Tejas Chavan\\AppData\\Local\\Temp\\ipykernel_4264\\1096226136.py:42: FutureWarning: ChainedAssignmentError: behaviour will change in pandas 3.0!\n",
      "You are setting values through chained assignment. Currently this works in certain cases, but when using Copy-on-Write (which will become the default behaviour in pandas 3.0) this will never work to update the original DataFrame or Series, because the intermediate object on which we are setting values will behave as a copy.\n",
      "A typical example is when you are setting values in a column of a DataFrame, like:\n",
      "\n",
      "df[\"col\"][row_indexer] = value\n",
      "\n",
      "Use `df.loc[row_indexer, \"col\"] = values` instead, to perform the assignment in a single step and ensure this keeps updating the original `df`.\n",
      "\n",
      "See the caveats in the documentation: https://pandas.pydata.org/pandas-docs/stable/user_guide/indexing.html#returning-a-view-versus-a-copy\n",
      "\n",
      "  hyper_param_grid.cv_score.iloc[i] = cv_scr\n",
      "C:\\Users\\Tejas Chavan\\AppData\\Local\\Temp\\ipykernel_4264\\1096226136.py:42: SettingWithCopyWarning: \n",
      "A value is trying to be set on a copy of a slice from a DataFrame\n",
      "\n",
      "See the caveats in the documentation: https://pandas.pydata.org/pandas-docs/stable/user_guide/indexing.html#returning-a-view-versus-a-copy\n",
      "  hyper_param_grid.cv_score.iloc[i] = cv_scr\n"
     ]
    },
    {
     "name": "stdout",
     "output_type": "stream",
     "text": [
      "Completed iteration: 3/16 | Time taken: 1:02:08.065924\n"
     ]
    },
    {
     "name": "stderr",
     "output_type": "stream",
     "text": [
      "C:\\Users\\Tejas Chavan\\AppData\\Local\\Temp\\ipykernel_4264\\1096226136.py:37: FutureWarning: ChainedAssignmentError: behaviour will change in pandas 3.0!\n",
      "You are setting values through chained assignment. Currently this works in certain cases, but when using Copy-on-Write (which will become the default behaviour in pandas 3.0) this will never work to update the original DataFrame or Series, because the intermediate object on which we are setting values will behave as a copy.\n",
      "A typical example is when you are setting values in a column of a DataFrame, like:\n",
      "\n",
      "df[\"col\"][row_indexer] = value\n",
      "\n",
      "Use `df.loc[row_indexer, \"col\"] = values` instead, to perform the assignment in a single step and ensure this keeps updating the original `df`.\n",
      "\n",
      "See the caveats in the documentation: https://pandas.pydata.org/pandas-docs/stable/user_guide/indexing.html#returning-a-view-versus-a-copy\n",
      "\n",
      "  hyper_param_grid.train_score.iloc[i] = train_scr\n",
      "C:\\Users\\Tejas Chavan\\AppData\\Local\\Temp\\ipykernel_4264\\1096226136.py:37: SettingWithCopyWarning: \n",
      "A value is trying to be set on a copy of a slice from a DataFrame\n",
      "\n",
      "See the caveats in the documentation: https://pandas.pydata.org/pandas-docs/stable/user_guide/indexing.html#returning-a-view-versus-a-copy\n",
      "  hyper_param_grid.train_score.iloc[i] = train_scr\n",
      "C:\\Users\\Tejas Chavan\\AppData\\Local\\Temp\\ipykernel_4264\\1096226136.py:42: FutureWarning: ChainedAssignmentError: behaviour will change in pandas 3.0!\n",
      "You are setting values through chained assignment. Currently this works in certain cases, but when using Copy-on-Write (which will become the default behaviour in pandas 3.0) this will never work to update the original DataFrame or Series, because the intermediate object on which we are setting values will behave as a copy.\n",
      "A typical example is when you are setting values in a column of a DataFrame, like:\n",
      "\n",
      "df[\"col\"][row_indexer] = value\n",
      "\n",
      "Use `df.loc[row_indexer, \"col\"] = values` instead, to perform the assignment in a single step and ensure this keeps updating the original `df`.\n",
      "\n",
      "See the caveats in the documentation: https://pandas.pydata.org/pandas-docs/stable/user_guide/indexing.html#returning-a-view-versus-a-copy\n",
      "\n",
      "  hyper_param_grid.cv_score.iloc[i] = cv_scr\n",
      "C:\\Users\\Tejas Chavan\\AppData\\Local\\Temp\\ipykernel_4264\\1096226136.py:42: SettingWithCopyWarning: \n",
      "A value is trying to be set on a copy of a slice from a DataFrame\n",
      "\n",
      "See the caveats in the documentation: https://pandas.pydata.org/pandas-docs/stable/user_guide/indexing.html#returning-a-view-versus-a-copy\n",
      "  hyper_param_grid.cv_score.iloc[i] = cv_scr\n"
     ]
    },
    {
     "name": "stdout",
     "output_type": "stream",
     "text": [
      "Completed iteration: 4/16 | Time taken: 0:41:00.405591\n"
     ]
    },
    {
     "name": "stderr",
     "output_type": "stream",
     "text": [
      "C:\\Users\\Tejas Chavan\\AppData\\Local\\Temp\\ipykernel_4264\\1096226136.py:37: FutureWarning: ChainedAssignmentError: behaviour will change in pandas 3.0!\n",
      "You are setting values through chained assignment. Currently this works in certain cases, but when using Copy-on-Write (which will become the default behaviour in pandas 3.0) this will never work to update the original DataFrame or Series, because the intermediate object on which we are setting values will behave as a copy.\n",
      "A typical example is when you are setting values in a column of a DataFrame, like:\n",
      "\n",
      "df[\"col\"][row_indexer] = value\n",
      "\n",
      "Use `df.loc[row_indexer, \"col\"] = values` instead, to perform the assignment in a single step and ensure this keeps updating the original `df`.\n",
      "\n",
      "See the caveats in the documentation: https://pandas.pydata.org/pandas-docs/stable/user_guide/indexing.html#returning-a-view-versus-a-copy\n",
      "\n",
      "  hyper_param_grid.train_score.iloc[i] = train_scr\n",
      "C:\\Users\\Tejas Chavan\\AppData\\Local\\Temp\\ipykernel_4264\\1096226136.py:37: SettingWithCopyWarning: \n",
      "A value is trying to be set on a copy of a slice from a DataFrame\n",
      "\n",
      "See the caveats in the documentation: https://pandas.pydata.org/pandas-docs/stable/user_guide/indexing.html#returning-a-view-versus-a-copy\n",
      "  hyper_param_grid.train_score.iloc[i] = train_scr\n",
      "C:\\Users\\Tejas Chavan\\AppData\\Local\\Temp\\ipykernel_4264\\1096226136.py:42: FutureWarning: ChainedAssignmentError: behaviour will change in pandas 3.0!\n",
      "You are setting values through chained assignment. Currently this works in certain cases, but when using Copy-on-Write (which will become the default behaviour in pandas 3.0) this will never work to update the original DataFrame or Series, because the intermediate object on which we are setting values will behave as a copy.\n",
      "A typical example is when you are setting values in a column of a DataFrame, like:\n",
      "\n",
      "df[\"col\"][row_indexer] = value\n",
      "\n",
      "Use `df.loc[row_indexer, \"col\"] = values` instead, to perform the assignment in a single step and ensure this keeps updating the original `df`.\n",
      "\n",
      "See the caveats in the documentation: https://pandas.pydata.org/pandas-docs/stable/user_guide/indexing.html#returning-a-view-versus-a-copy\n",
      "\n",
      "  hyper_param_grid.cv_score.iloc[i] = cv_scr\n",
      "C:\\Users\\Tejas Chavan\\AppData\\Local\\Temp\\ipykernel_4264\\1096226136.py:42: SettingWithCopyWarning: \n",
      "A value is trying to be set on a copy of a slice from a DataFrame\n",
      "\n",
      "See the caveats in the documentation: https://pandas.pydata.org/pandas-docs/stable/user_guide/indexing.html#returning-a-view-versus-a-copy\n",
      "  hyper_param_grid.cv_score.iloc[i] = cv_scr\n"
     ]
    },
    {
     "name": "stdout",
     "output_type": "stream",
     "text": [
      "Completed iteration: 5/16 | Time taken: 0:45:28.666509\n"
     ]
    },
    {
     "name": "stderr",
     "output_type": "stream",
     "text": [
      "C:\\Users\\Tejas Chavan\\AppData\\Local\\Temp\\ipykernel_4264\\1096226136.py:37: FutureWarning: ChainedAssignmentError: behaviour will change in pandas 3.0!\n",
      "You are setting values through chained assignment. Currently this works in certain cases, but when using Copy-on-Write (which will become the default behaviour in pandas 3.0) this will never work to update the original DataFrame or Series, because the intermediate object on which we are setting values will behave as a copy.\n",
      "A typical example is when you are setting values in a column of a DataFrame, like:\n",
      "\n",
      "df[\"col\"][row_indexer] = value\n",
      "\n",
      "Use `df.loc[row_indexer, \"col\"] = values` instead, to perform the assignment in a single step and ensure this keeps updating the original `df`.\n",
      "\n",
      "See the caveats in the documentation: https://pandas.pydata.org/pandas-docs/stable/user_guide/indexing.html#returning-a-view-versus-a-copy\n",
      "\n",
      "  hyper_param_grid.train_score.iloc[i] = train_scr\n",
      "C:\\Users\\Tejas Chavan\\AppData\\Local\\Temp\\ipykernel_4264\\1096226136.py:37: SettingWithCopyWarning: \n",
      "A value is trying to be set on a copy of a slice from a DataFrame\n",
      "\n",
      "See the caveats in the documentation: https://pandas.pydata.org/pandas-docs/stable/user_guide/indexing.html#returning-a-view-versus-a-copy\n",
      "  hyper_param_grid.train_score.iloc[i] = train_scr\n",
      "C:\\Users\\Tejas Chavan\\AppData\\Local\\Temp\\ipykernel_4264\\1096226136.py:42: FutureWarning: ChainedAssignmentError: behaviour will change in pandas 3.0!\n",
      "You are setting values through chained assignment. Currently this works in certain cases, but when using Copy-on-Write (which will become the default behaviour in pandas 3.0) this will never work to update the original DataFrame or Series, because the intermediate object on which we are setting values will behave as a copy.\n",
      "A typical example is when you are setting values in a column of a DataFrame, like:\n",
      "\n",
      "df[\"col\"][row_indexer] = value\n",
      "\n",
      "Use `df.loc[row_indexer, \"col\"] = values` instead, to perform the assignment in a single step and ensure this keeps updating the original `df`.\n",
      "\n",
      "See the caveats in the documentation: https://pandas.pydata.org/pandas-docs/stable/user_guide/indexing.html#returning-a-view-versus-a-copy\n",
      "\n",
      "  hyper_param_grid.cv_score.iloc[i] = cv_scr\n",
      "C:\\Users\\Tejas Chavan\\AppData\\Local\\Temp\\ipykernel_4264\\1096226136.py:42: SettingWithCopyWarning: \n",
      "A value is trying to be set on a copy of a slice from a DataFrame\n",
      "\n",
      "See the caveats in the documentation: https://pandas.pydata.org/pandas-docs/stable/user_guide/indexing.html#returning-a-view-versus-a-copy\n",
      "  hyper_param_grid.cv_score.iloc[i] = cv_scr\n"
     ]
    },
    {
     "name": "stdout",
     "output_type": "stream",
     "text": [
      "Completed iteration: 6/16 | Time taken: 0:45:41.284807\n"
     ]
    },
    {
     "name": "stderr",
     "output_type": "stream",
     "text": [
      "C:\\Users\\Tejas Chavan\\AppData\\Local\\Temp\\ipykernel_4264\\1096226136.py:37: FutureWarning: ChainedAssignmentError: behaviour will change in pandas 3.0!\n",
      "You are setting values through chained assignment. Currently this works in certain cases, but when using Copy-on-Write (which will become the default behaviour in pandas 3.0) this will never work to update the original DataFrame or Series, because the intermediate object on which we are setting values will behave as a copy.\n",
      "A typical example is when you are setting values in a column of a DataFrame, like:\n",
      "\n",
      "df[\"col\"][row_indexer] = value\n",
      "\n",
      "Use `df.loc[row_indexer, \"col\"] = values` instead, to perform the assignment in a single step and ensure this keeps updating the original `df`.\n",
      "\n",
      "See the caveats in the documentation: https://pandas.pydata.org/pandas-docs/stable/user_guide/indexing.html#returning-a-view-versus-a-copy\n",
      "\n",
      "  hyper_param_grid.train_score.iloc[i] = train_scr\n",
      "C:\\Users\\Tejas Chavan\\AppData\\Local\\Temp\\ipykernel_4264\\1096226136.py:37: SettingWithCopyWarning: \n",
      "A value is trying to be set on a copy of a slice from a DataFrame\n",
      "\n",
      "See the caveats in the documentation: https://pandas.pydata.org/pandas-docs/stable/user_guide/indexing.html#returning-a-view-versus-a-copy\n",
      "  hyper_param_grid.train_score.iloc[i] = train_scr\n",
      "C:\\Users\\Tejas Chavan\\AppData\\Local\\Temp\\ipykernel_4264\\1096226136.py:42: FutureWarning: ChainedAssignmentError: behaviour will change in pandas 3.0!\n",
      "You are setting values through chained assignment. Currently this works in certain cases, but when using Copy-on-Write (which will become the default behaviour in pandas 3.0) this will never work to update the original DataFrame or Series, because the intermediate object on which we are setting values will behave as a copy.\n",
      "A typical example is when you are setting values in a column of a DataFrame, like:\n",
      "\n",
      "df[\"col\"][row_indexer] = value\n",
      "\n",
      "Use `df.loc[row_indexer, \"col\"] = values` instead, to perform the assignment in a single step and ensure this keeps updating the original `df`.\n",
      "\n",
      "See the caveats in the documentation: https://pandas.pydata.org/pandas-docs/stable/user_guide/indexing.html#returning-a-view-versus-a-copy\n",
      "\n",
      "  hyper_param_grid.cv_score.iloc[i] = cv_scr\n",
      "C:\\Users\\Tejas Chavan\\AppData\\Local\\Temp\\ipykernel_4264\\1096226136.py:42: SettingWithCopyWarning: \n",
      "A value is trying to be set on a copy of a slice from a DataFrame\n",
      "\n",
      "See the caveats in the documentation: https://pandas.pydata.org/pandas-docs/stable/user_guide/indexing.html#returning-a-view-versus-a-copy\n",
      "  hyper_param_grid.cv_score.iloc[i] = cv_scr\n"
     ]
    },
    {
     "name": "stdout",
     "output_type": "stream",
     "text": [
      "Completed iteration: 7/16 | Time taken: 0:41:23.047773\n"
     ]
    },
    {
     "name": "stderr",
     "output_type": "stream",
     "text": [
      "C:\\Users\\Tejas Chavan\\AppData\\Local\\Temp\\ipykernel_4264\\1096226136.py:37: FutureWarning: ChainedAssignmentError: behaviour will change in pandas 3.0!\n",
      "You are setting values through chained assignment. Currently this works in certain cases, but when using Copy-on-Write (which will become the default behaviour in pandas 3.0) this will never work to update the original DataFrame or Series, because the intermediate object on which we are setting values will behave as a copy.\n",
      "A typical example is when you are setting values in a column of a DataFrame, like:\n",
      "\n",
      "df[\"col\"][row_indexer] = value\n",
      "\n",
      "Use `df.loc[row_indexer, \"col\"] = values` instead, to perform the assignment in a single step and ensure this keeps updating the original `df`.\n",
      "\n",
      "See the caveats in the documentation: https://pandas.pydata.org/pandas-docs/stable/user_guide/indexing.html#returning-a-view-versus-a-copy\n",
      "\n",
      "  hyper_param_grid.train_score.iloc[i] = train_scr\n",
      "C:\\Users\\Tejas Chavan\\AppData\\Local\\Temp\\ipykernel_4264\\1096226136.py:37: SettingWithCopyWarning: \n",
      "A value is trying to be set on a copy of a slice from a DataFrame\n",
      "\n",
      "See the caveats in the documentation: https://pandas.pydata.org/pandas-docs/stable/user_guide/indexing.html#returning-a-view-versus-a-copy\n",
      "  hyper_param_grid.train_score.iloc[i] = train_scr\n",
      "C:\\Users\\Tejas Chavan\\AppData\\Local\\Temp\\ipykernel_4264\\1096226136.py:42: FutureWarning: ChainedAssignmentError: behaviour will change in pandas 3.0!\n",
      "You are setting values through chained assignment. Currently this works in certain cases, but when using Copy-on-Write (which will become the default behaviour in pandas 3.0) this will never work to update the original DataFrame or Series, because the intermediate object on which we are setting values will behave as a copy.\n",
      "A typical example is when you are setting values in a column of a DataFrame, like:\n",
      "\n",
      "df[\"col\"][row_indexer] = value\n",
      "\n",
      "Use `df.loc[row_indexer, \"col\"] = values` instead, to perform the assignment in a single step and ensure this keeps updating the original `df`.\n",
      "\n",
      "See the caveats in the documentation: https://pandas.pydata.org/pandas-docs/stable/user_guide/indexing.html#returning-a-view-versus-a-copy\n",
      "\n",
      "  hyper_param_grid.cv_score.iloc[i] = cv_scr\n",
      "C:\\Users\\Tejas Chavan\\AppData\\Local\\Temp\\ipykernel_4264\\1096226136.py:42: SettingWithCopyWarning: \n",
      "A value is trying to be set on a copy of a slice from a DataFrame\n",
      "\n",
      "See the caveats in the documentation: https://pandas.pydata.org/pandas-docs/stable/user_guide/indexing.html#returning-a-view-versus-a-copy\n",
      "  hyper_param_grid.cv_score.iloc[i] = cv_scr\n"
     ]
    },
    {
     "name": "stdout",
     "output_type": "stream",
     "text": [
      "Completed iteration: 8/16 | Time taken: 0:46:58.757679\n"
     ]
    },
    {
     "name": "stderr",
     "output_type": "stream",
     "text": [
      "C:\\Users\\Tejas Chavan\\AppData\\Local\\Temp\\ipykernel_4264\\1096226136.py:37: FutureWarning: ChainedAssignmentError: behaviour will change in pandas 3.0!\n",
      "You are setting values through chained assignment. Currently this works in certain cases, but when using Copy-on-Write (which will become the default behaviour in pandas 3.0) this will never work to update the original DataFrame or Series, because the intermediate object on which we are setting values will behave as a copy.\n",
      "A typical example is when you are setting values in a column of a DataFrame, like:\n",
      "\n",
      "df[\"col\"][row_indexer] = value\n",
      "\n",
      "Use `df.loc[row_indexer, \"col\"] = values` instead, to perform the assignment in a single step and ensure this keeps updating the original `df`.\n",
      "\n",
      "See the caveats in the documentation: https://pandas.pydata.org/pandas-docs/stable/user_guide/indexing.html#returning-a-view-versus-a-copy\n",
      "\n",
      "  hyper_param_grid.train_score.iloc[i] = train_scr\n",
      "C:\\Users\\Tejas Chavan\\AppData\\Local\\Temp\\ipykernel_4264\\1096226136.py:37: SettingWithCopyWarning: \n",
      "A value is trying to be set on a copy of a slice from a DataFrame\n",
      "\n",
      "See the caveats in the documentation: https://pandas.pydata.org/pandas-docs/stable/user_guide/indexing.html#returning-a-view-versus-a-copy\n",
      "  hyper_param_grid.train_score.iloc[i] = train_scr\n",
      "C:\\Users\\Tejas Chavan\\AppData\\Local\\Temp\\ipykernel_4264\\1096226136.py:42: FutureWarning: ChainedAssignmentError: behaviour will change in pandas 3.0!\n",
      "You are setting values through chained assignment. Currently this works in certain cases, but when using Copy-on-Write (which will become the default behaviour in pandas 3.0) this will never work to update the original DataFrame or Series, because the intermediate object on which we are setting values will behave as a copy.\n",
      "A typical example is when you are setting values in a column of a DataFrame, like:\n",
      "\n",
      "df[\"col\"][row_indexer] = value\n",
      "\n",
      "Use `df.loc[row_indexer, \"col\"] = values` instead, to perform the assignment in a single step and ensure this keeps updating the original `df`.\n",
      "\n",
      "See the caveats in the documentation: https://pandas.pydata.org/pandas-docs/stable/user_guide/indexing.html#returning-a-view-versus-a-copy\n",
      "\n",
      "  hyper_param_grid.cv_score.iloc[i] = cv_scr\n",
      "C:\\Users\\Tejas Chavan\\AppData\\Local\\Temp\\ipykernel_4264\\1096226136.py:42: SettingWithCopyWarning: \n",
      "A value is trying to be set on a copy of a slice from a DataFrame\n",
      "\n",
      "See the caveats in the documentation: https://pandas.pydata.org/pandas-docs/stable/user_guide/indexing.html#returning-a-view-versus-a-copy\n",
      "  hyper_param_grid.cv_score.iloc[i] = cv_scr\n"
     ]
    },
    {
     "name": "stdout",
     "output_type": "stream",
     "text": [
      "Completed iteration: 9/16 | Time taken: 0:47:24.467689\n"
     ]
    },
    {
     "name": "stderr",
     "output_type": "stream",
     "text": [
      "C:\\Users\\Tejas Chavan\\AppData\\Local\\Temp\\ipykernel_4264\\1096226136.py:37: FutureWarning: ChainedAssignmentError: behaviour will change in pandas 3.0!\n",
      "You are setting values through chained assignment. Currently this works in certain cases, but when using Copy-on-Write (which will become the default behaviour in pandas 3.0) this will never work to update the original DataFrame or Series, because the intermediate object on which we are setting values will behave as a copy.\n",
      "A typical example is when you are setting values in a column of a DataFrame, like:\n",
      "\n",
      "df[\"col\"][row_indexer] = value\n",
      "\n",
      "Use `df.loc[row_indexer, \"col\"] = values` instead, to perform the assignment in a single step and ensure this keeps updating the original `df`.\n",
      "\n",
      "See the caveats in the documentation: https://pandas.pydata.org/pandas-docs/stable/user_guide/indexing.html#returning-a-view-versus-a-copy\n",
      "\n",
      "  hyper_param_grid.train_score.iloc[i] = train_scr\n",
      "C:\\Users\\Tejas Chavan\\AppData\\Local\\Temp\\ipykernel_4264\\1096226136.py:37: SettingWithCopyWarning: \n",
      "A value is trying to be set on a copy of a slice from a DataFrame\n",
      "\n",
      "See the caveats in the documentation: https://pandas.pydata.org/pandas-docs/stable/user_guide/indexing.html#returning-a-view-versus-a-copy\n",
      "  hyper_param_grid.train_score.iloc[i] = train_scr\n",
      "C:\\Users\\Tejas Chavan\\AppData\\Local\\Temp\\ipykernel_4264\\1096226136.py:42: FutureWarning: ChainedAssignmentError: behaviour will change in pandas 3.0!\n",
      "You are setting values through chained assignment. Currently this works in certain cases, but when using Copy-on-Write (which will become the default behaviour in pandas 3.0) this will never work to update the original DataFrame or Series, because the intermediate object on which we are setting values will behave as a copy.\n",
      "A typical example is when you are setting values in a column of a DataFrame, like:\n",
      "\n",
      "df[\"col\"][row_indexer] = value\n",
      "\n",
      "Use `df.loc[row_indexer, \"col\"] = values` instead, to perform the assignment in a single step and ensure this keeps updating the original `df`.\n",
      "\n",
      "See the caveats in the documentation: https://pandas.pydata.org/pandas-docs/stable/user_guide/indexing.html#returning-a-view-versus-a-copy\n",
      "\n",
      "  hyper_param_grid.cv_score.iloc[i] = cv_scr\n",
      "C:\\Users\\Tejas Chavan\\AppData\\Local\\Temp\\ipykernel_4264\\1096226136.py:42: SettingWithCopyWarning: \n",
      "A value is trying to be set on a copy of a slice from a DataFrame\n",
      "\n",
      "See the caveats in the documentation: https://pandas.pydata.org/pandas-docs/stable/user_guide/indexing.html#returning-a-view-versus-a-copy\n",
      "  hyper_param_grid.cv_score.iloc[i] = cv_scr\n"
     ]
    },
    {
     "name": "stdout",
     "output_type": "stream",
     "text": [
      "Completed iteration: 10/16 | Time taken: 0:51:38.025887\n"
     ]
    },
    {
     "name": "stderr",
     "output_type": "stream",
     "text": [
      "C:\\Users\\Tejas Chavan\\AppData\\Local\\Temp\\ipykernel_4264\\1096226136.py:37: FutureWarning: ChainedAssignmentError: behaviour will change in pandas 3.0!\n",
      "You are setting values through chained assignment. Currently this works in certain cases, but when using Copy-on-Write (which will become the default behaviour in pandas 3.0) this will never work to update the original DataFrame or Series, because the intermediate object on which we are setting values will behave as a copy.\n",
      "A typical example is when you are setting values in a column of a DataFrame, like:\n",
      "\n",
      "df[\"col\"][row_indexer] = value\n",
      "\n",
      "Use `df.loc[row_indexer, \"col\"] = values` instead, to perform the assignment in a single step and ensure this keeps updating the original `df`.\n",
      "\n",
      "See the caveats in the documentation: https://pandas.pydata.org/pandas-docs/stable/user_guide/indexing.html#returning-a-view-versus-a-copy\n",
      "\n",
      "  hyper_param_grid.train_score.iloc[i] = train_scr\n",
      "C:\\Users\\Tejas Chavan\\AppData\\Local\\Temp\\ipykernel_4264\\1096226136.py:37: SettingWithCopyWarning: \n",
      "A value is trying to be set on a copy of a slice from a DataFrame\n",
      "\n",
      "See the caveats in the documentation: https://pandas.pydata.org/pandas-docs/stable/user_guide/indexing.html#returning-a-view-versus-a-copy\n",
      "  hyper_param_grid.train_score.iloc[i] = train_scr\n",
      "C:\\Users\\Tejas Chavan\\AppData\\Local\\Temp\\ipykernel_4264\\1096226136.py:42: FutureWarning: ChainedAssignmentError: behaviour will change in pandas 3.0!\n",
      "You are setting values through chained assignment. Currently this works in certain cases, but when using Copy-on-Write (which will become the default behaviour in pandas 3.0) this will never work to update the original DataFrame or Series, because the intermediate object on which we are setting values will behave as a copy.\n",
      "A typical example is when you are setting values in a column of a DataFrame, like:\n",
      "\n",
      "df[\"col\"][row_indexer] = value\n",
      "\n",
      "Use `df.loc[row_indexer, \"col\"] = values` instead, to perform the assignment in a single step and ensure this keeps updating the original `df`.\n",
      "\n",
      "See the caveats in the documentation: https://pandas.pydata.org/pandas-docs/stable/user_guide/indexing.html#returning-a-view-versus-a-copy\n",
      "\n",
      "  hyper_param_grid.cv_score.iloc[i] = cv_scr\n",
      "C:\\Users\\Tejas Chavan\\AppData\\Local\\Temp\\ipykernel_4264\\1096226136.py:42: SettingWithCopyWarning: \n",
      "A value is trying to be set on a copy of a slice from a DataFrame\n",
      "\n",
      "See the caveats in the documentation: https://pandas.pydata.org/pandas-docs/stable/user_guide/indexing.html#returning-a-view-versus-a-copy\n",
      "  hyper_param_grid.cv_score.iloc[i] = cv_scr\n"
     ]
    },
    {
     "name": "stdout",
     "output_type": "stream",
     "text": [
      "Completed iteration: 11/16 | Time taken: 1:12:27.905262\n"
     ]
    },
    {
     "name": "stderr",
     "output_type": "stream",
     "text": [
      "C:\\Users\\Tejas Chavan\\AppData\\Local\\Temp\\ipykernel_4264\\1096226136.py:37: FutureWarning: ChainedAssignmentError: behaviour will change in pandas 3.0!\n",
      "You are setting values through chained assignment. Currently this works in certain cases, but when using Copy-on-Write (which will become the default behaviour in pandas 3.0) this will never work to update the original DataFrame or Series, because the intermediate object on which we are setting values will behave as a copy.\n",
      "A typical example is when you are setting values in a column of a DataFrame, like:\n",
      "\n",
      "df[\"col\"][row_indexer] = value\n",
      "\n",
      "Use `df.loc[row_indexer, \"col\"] = values` instead, to perform the assignment in a single step and ensure this keeps updating the original `df`.\n",
      "\n",
      "See the caveats in the documentation: https://pandas.pydata.org/pandas-docs/stable/user_guide/indexing.html#returning-a-view-versus-a-copy\n",
      "\n",
      "  hyper_param_grid.train_score.iloc[i] = train_scr\n",
      "C:\\Users\\Tejas Chavan\\AppData\\Local\\Temp\\ipykernel_4264\\1096226136.py:37: SettingWithCopyWarning: \n",
      "A value is trying to be set on a copy of a slice from a DataFrame\n",
      "\n",
      "See the caveats in the documentation: https://pandas.pydata.org/pandas-docs/stable/user_guide/indexing.html#returning-a-view-versus-a-copy\n",
      "  hyper_param_grid.train_score.iloc[i] = train_scr\n",
      "C:\\Users\\Tejas Chavan\\AppData\\Local\\Temp\\ipykernel_4264\\1096226136.py:42: FutureWarning: ChainedAssignmentError: behaviour will change in pandas 3.0!\n",
      "You are setting values through chained assignment. Currently this works in certain cases, but when using Copy-on-Write (which will become the default behaviour in pandas 3.0) this will never work to update the original DataFrame or Series, because the intermediate object on which we are setting values will behave as a copy.\n",
      "A typical example is when you are setting values in a column of a DataFrame, like:\n",
      "\n",
      "df[\"col\"][row_indexer] = value\n",
      "\n",
      "Use `df.loc[row_indexer, \"col\"] = values` instead, to perform the assignment in a single step and ensure this keeps updating the original `df`.\n",
      "\n",
      "See the caveats in the documentation: https://pandas.pydata.org/pandas-docs/stable/user_guide/indexing.html#returning-a-view-versus-a-copy\n",
      "\n",
      "  hyper_param_grid.cv_score.iloc[i] = cv_scr\n",
      "C:\\Users\\Tejas Chavan\\AppData\\Local\\Temp\\ipykernel_4264\\1096226136.py:42: SettingWithCopyWarning: \n",
      "A value is trying to be set on a copy of a slice from a DataFrame\n",
      "\n",
      "See the caveats in the documentation: https://pandas.pydata.org/pandas-docs/stable/user_guide/indexing.html#returning-a-view-versus-a-copy\n",
      "  hyper_param_grid.cv_score.iloc[i] = cv_scr\n"
     ]
    },
    {
     "name": "stdout",
     "output_type": "stream",
     "text": [
      "Completed iteration: 12/16 | Time taken: 1:11:46.916984\n"
     ]
    },
    {
     "name": "stderr",
     "output_type": "stream",
     "text": [
      "C:\\Users\\Tejas Chavan\\AppData\\Local\\Temp\\ipykernel_4264\\1096226136.py:37: FutureWarning: ChainedAssignmentError: behaviour will change in pandas 3.0!\n",
      "You are setting values through chained assignment. Currently this works in certain cases, but when using Copy-on-Write (which will become the default behaviour in pandas 3.0) this will never work to update the original DataFrame or Series, because the intermediate object on which we are setting values will behave as a copy.\n",
      "A typical example is when you are setting values in a column of a DataFrame, like:\n",
      "\n",
      "df[\"col\"][row_indexer] = value\n",
      "\n",
      "Use `df.loc[row_indexer, \"col\"] = values` instead, to perform the assignment in a single step and ensure this keeps updating the original `df`.\n",
      "\n",
      "See the caveats in the documentation: https://pandas.pydata.org/pandas-docs/stable/user_guide/indexing.html#returning-a-view-versus-a-copy\n",
      "\n",
      "  hyper_param_grid.train_score.iloc[i] = train_scr\n",
      "C:\\Users\\Tejas Chavan\\AppData\\Local\\Temp\\ipykernel_4264\\1096226136.py:37: SettingWithCopyWarning: \n",
      "A value is trying to be set on a copy of a slice from a DataFrame\n",
      "\n",
      "See the caveats in the documentation: https://pandas.pydata.org/pandas-docs/stable/user_guide/indexing.html#returning-a-view-versus-a-copy\n",
      "  hyper_param_grid.train_score.iloc[i] = train_scr\n",
      "C:\\Users\\Tejas Chavan\\AppData\\Local\\Temp\\ipykernel_4264\\1096226136.py:42: FutureWarning: ChainedAssignmentError: behaviour will change in pandas 3.0!\n",
      "You are setting values through chained assignment. Currently this works in certain cases, but when using Copy-on-Write (which will become the default behaviour in pandas 3.0) this will never work to update the original DataFrame or Series, because the intermediate object on which we are setting values will behave as a copy.\n",
      "A typical example is when you are setting values in a column of a DataFrame, like:\n",
      "\n",
      "df[\"col\"][row_indexer] = value\n",
      "\n",
      "Use `df.loc[row_indexer, \"col\"] = values` instead, to perform the assignment in a single step and ensure this keeps updating the original `df`.\n",
      "\n",
      "See the caveats in the documentation: https://pandas.pydata.org/pandas-docs/stable/user_guide/indexing.html#returning-a-view-versus-a-copy\n",
      "\n",
      "  hyper_param_grid.cv_score.iloc[i] = cv_scr\n",
      "C:\\Users\\Tejas Chavan\\AppData\\Local\\Temp\\ipykernel_4264\\1096226136.py:42: SettingWithCopyWarning: \n",
      "A value is trying to be set on a copy of a slice from a DataFrame\n",
      "\n",
      "See the caveats in the documentation: https://pandas.pydata.org/pandas-docs/stable/user_guide/indexing.html#returning-a-view-versus-a-copy\n",
      "  hyper_param_grid.cv_score.iloc[i] = cv_scr\n"
     ]
    },
    {
     "name": "stdout",
     "output_type": "stream",
     "text": [
      "Completed iteration: 13/16 | Time taken: 0:42:21.213041\n"
     ]
    },
    {
     "name": "stderr",
     "output_type": "stream",
     "text": [
      "C:\\Users\\Tejas Chavan\\AppData\\Local\\Temp\\ipykernel_4264\\1096226136.py:37: FutureWarning: ChainedAssignmentError: behaviour will change in pandas 3.0!\n",
      "You are setting values through chained assignment. Currently this works in certain cases, but when using Copy-on-Write (which will become the default behaviour in pandas 3.0) this will never work to update the original DataFrame or Series, because the intermediate object on which we are setting values will behave as a copy.\n",
      "A typical example is when you are setting values in a column of a DataFrame, like:\n",
      "\n",
      "df[\"col\"][row_indexer] = value\n",
      "\n",
      "Use `df.loc[row_indexer, \"col\"] = values` instead, to perform the assignment in a single step and ensure this keeps updating the original `df`.\n",
      "\n",
      "See the caveats in the documentation: https://pandas.pydata.org/pandas-docs/stable/user_guide/indexing.html#returning-a-view-versus-a-copy\n",
      "\n",
      "  hyper_param_grid.train_score.iloc[i] = train_scr\n",
      "C:\\Users\\Tejas Chavan\\AppData\\Local\\Temp\\ipykernel_4264\\1096226136.py:37: SettingWithCopyWarning: \n",
      "A value is trying to be set on a copy of a slice from a DataFrame\n",
      "\n",
      "See the caveats in the documentation: https://pandas.pydata.org/pandas-docs/stable/user_guide/indexing.html#returning-a-view-versus-a-copy\n",
      "  hyper_param_grid.train_score.iloc[i] = train_scr\n",
      "C:\\Users\\Tejas Chavan\\AppData\\Local\\Temp\\ipykernel_4264\\1096226136.py:42: FutureWarning: ChainedAssignmentError: behaviour will change in pandas 3.0!\n",
      "You are setting values through chained assignment. Currently this works in certain cases, but when using Copy-on-Write (which will become the default behaviour in pandas 3.0) this will never work to update the original DataFrame or Series, because the intermediate object on which we are setting values will behave as a copy.\n",
      "A typical example is when you are setting values in a column of a DataFrame, like:\n",
      "\n",
      "df[\"col\"][row_indexer] = value\n",
      "\n",
      "Use `df.loc[row_indexer, \"col\"] = values` instead, to perform the assignment in a single step and ensure this keeps updating the original `df`.\n",
      "\n",
      "See the caveats in the documentation: https://pandas.pydata.org/pandas-docs/stable/user_guide/indexing.html#returning-a-view-versus-a-copy\n",
      "\n",
      "  hyper_param_grid.cv_score.iloc[i] = cv_scr\n",
      "C:\\Users\\Tejas Chavan\\AppData\\Local\\Temp\\ipykernel_4264\\1096226136.py:42: SettingWithCopyWarning: \n",
      "A value is trying to be set on a copy of a slice from a DataFrame\n",
      "\n",
      "See the caveats in the documentation: https://pandas.pydata.org/pandas-docs/stable/user_guide/indexing.html#returning-a-view-versus-a-copy\n",
      "  hyper_param_grid.cv_score.iloc[i] = cv_scr\n"
     ]
    },
    {
     "name": "stdout",
     "output_type": "stream",
     "text": [
      "Completed iteration: 14/16 | Time taken: 0:49:26.641568\n"
     ]
    },
    {
     "name": "stderr",
     "output_type": "stream",
     "text": [
      "C:\\Users\\Tejas Chavan\\AppData\\Local\\Temp\\ipykernel_4264\\1096226136.py:37: FutureWarning: ChainedAssignmentError: behaviour will change in pandas 3.0!\n",
      "You are setting values through chained assignment. Currently this works in certain cases, but when using Copy-on-Write (which will become the default behaviour in pandas 3.0) this will never work to update the original DataFrame or Series, because the intermediate object on which we are setting values will behave as a copy.\n",
      "A typical example is when you are setting values in a column of a DataFrame, like:\n",
      "\n",
      "df[\"col\"][row_indexer] = value\n",
      "\n",
      "Use `df.loc[row_indexer, \"col\"] = values` instead, to perform the assignment in a single step and ensure this keeps updating the original `df`.\n",
      "\n",
      "See the caveats in the documentation: https://pandas.pydata.org/pandas-docs/stable/user_guide/indexing.html#returning-a-view-versus-a-copy\n",
      "\n",
      "  hyper_param_grid.train_score.iloc[i] = train_scr\n",
      "C:\\Users\\Tejas Chavan\\AppData\\Local\\Temp\\ipykernel_4264\\1096226136.py:37: SettingWithCopyWarning: \n",
      "A value is trying to be set on a copy of a slice from a DataFrame\n",
      "\n",
      "See the caveats in the documentation: https://pandas.pydata.org/pandas-docs/stable/user_guide/indexing.html#returning-a-view-versus-a-copy\n",
      "  hyper_param_grid.train_score.iloc[i] = train_scr\n",
      "C:\\Users\\Tejas Chavan\\AppData\\Local\\Temp\\ipykernel_4264\\1096226136.py:42: FutureWarning: ChainedAssignmentError: behaviour will change in pandas 3.0!\n",
      "You are setting values through chained assignment. Currently this works in certain cases, but when using Copy-on-Write (which will become the default behaviour in pandas 3.0) this will never work to update the original DataFrame or Series, because the intermediate object on which we are setting values will behave as a copy.\n",
      "A typical example is when you are setting values in a column of a DataFrame, like:\n",
      "\n",
      "df[\"col\"][row_indexer] = value\n",
      "\n",
      "Use `df.loc[row_indexer, \"col\"] = values` instead, to perform the assignment in a single step and ensure this keeps updating the original `df`.\n",
      "\n",
      "See the caveats in the documentation: https://pandas.pydata.org/pandas-docs/stable/user_guide/indexing.html#returning-a-view-versus-a-copy\n",
      "\n",
      "  hyper_param_grid.cv_score.iloc[i] = cv_scr\n",
      "C:\\Users\\Tejas Chavan\\AppData\\Local\\Temp\\ipykernel_4264\\1096226136.py:42: SettingWithCopyWarning: \n",
      "A value is trying to be set on a copy of a slice from a DataFrame\n",
      "\n",
      "See the caveats in the documentation: https://pandas.pydata.org/pandas-docs/stable/user_guide/indexing.html#returning-a-view-versus-a-copy\n",
      "  hyper_param_grid.cv_score.iloc[i] = cv_scr\n"
     ]
    },
    {
     "name": "stdout",
     "output_type": "stream",
     "text": [
      "Completed iteration: 15/16 | Time taken: 0:49:26.750333\n",
      "\n",
      "Block execution time:  12:45:37.951815\n"
     ]
    }
   ],
   "source": [
    "start_time = datetime.datetime.now()\n",
    "\n",
    "# Defining the hyper parameter value to be experimented with\n",
    "hyper_params2 = {'alpha': [10**-6, 10**-4, 10**-2, 10**0, 10**2], 'penalty': ['l2', 'l1', 'elasticnet']}\n",
    "linsvm_gcv2 = grid_search_cv(hyper_params2, train_x, train_y, cv_x, cv_y)\n",
    "\n",
    "print(\"\\nBlock execution time: \", datetime.datetime.now() - start_time)"
   ]
  },
  {
   "cell_type": "code",
   "execution_count": 14,
   "metadata": {},
   "outputs": [
    {
     "name": "stdout",
     "output_type": "stream",
     "text": [
      "{'alpha': 1e-06, 'penalty': 'elasticnet'}\n"
     ]
    },
    {
     "data": {
      "text/html": [
       "<div>\n",
       "<style scoped>\n",
       "    .dataframe tbody tr th:only-of-type {\n",
       "        vertical-align: middle;\n",
       "    }\n",
       "\n",
       "    .dataframe tbody tr th {\n",
       "        vertical-align: top;\n",
       "    }\n",
       "\n",
       "    .dataframe thead th {\n",
       "        text-align: right;\n",
       "    }\n",
       "</style>\n",
       "<table border=\"1\" class=\"dataframe\">\n",
       "  <thead>\n",
       "    <tr style=\"text-align: right;\">\n",
       "      <th></th>\n",
       "      <th>alpha</th>\n",
       "      <th>penalty</th>\n",
       "      <th>train_score</th>\n",
       "      <th>cv_score</th>\n",
       "    </tr>\n",
       "  </thead>\n",
       "  <tbody>\n",
       "    <tr>\n",
       "      <th>0</th>\n",
       "      <td>0.000001</td>\n",
       "      <td>l2</td>\n",
       "      <td>0.997103</td>\n",
       "      <td>0.546970</td>\n",
       "    </tr>\n",
       "    <tr>\n",
       "      <th>1</th>\n",
       "      <td>0.000001</td>\n",
       "      <td>l1</td>\n",
       "      <td>0.994525</td>\n",
       "      <td>0.547160</td>\n",
       "    </tr>\n",
       "    <tr>\n",
       "      <th>2</th>\n",
       "      <td>0.000001</td>\n",
       "      <td>elasticnet</td>\n",
       "      <td>0.996524</td>\n",
       "      <td>0.553062</td>\n",
       "    </tr>\n",
       "    <tr>\n",
       "      <th>3</th>\n",
       "      <td>0.000100</td>\n",
       "      <td>l2</td>\n",
       "      <td>0.413836</td>\n",
       "      <td>0.389764</td>\n",
       "    </tr>\n",
       "    <tr>\n",
       "      <th>4</th>\n",
       "      <td>0.000100</td>\n",
       "      <td>l1</td>\n",
       "      <td>0.425538</td>\n",
       "      <td>0.426076</td>\n",
       "    </tr>\n",
       "    <tr>\n",
       "      <th>5</th>\n",
       "      <td>0.000100</td>\n",
       "      <td>elasticnet</td>\n",
       "      <td>0.363189</td>\n",
       "      <td>0.364384</td>\n",
       "    </tr>\n",
       "    <tr>\n",
       "      <th>6</th>\n",
       "      <td>0.010000</td>\n",
       "      <td>l2</td>\n",
       "      <td>0.000000</td>\n",
       "      <td>0.000000</td>\n",
       "    </tr>\n",
       "    <tr>\n",
       "      <th>7</th>\n",
       "      <td>0.010000</td>\n",
       "      <td>l1</td>\n",
       "      <td>0.000000</td>\n",
       "      <td>0.000000</td>\n",
       "    </tr>\n",
       "    <tr>\n",
       "      <th>8</th>\n",
       "      <td>0.010000</td>\n",
       "      <td>elasticnet</td>\n",
       "      <td>0.000000</td>\n",
       "      <td>0.000000</td>\n",
       "    </tr>\n",
       "    <tr>\n",
       "      <th>9</th>\n",
       "      <td>1.000000</td>\n",
       "      <td>l2</td>\n",
       "      <td>0.000000</td>\n",
       "      <td>0.000000</td>\n",
       "    </tr>\n",
       "    <tr>\n",
       "      <th>10</th>\n",
       "      <td>1.000000</td>\n",
       "      <td>l1</td>\n",
       "      <td>0.000000</td>\n",
       "      <td>0.000000</td>\n",
       "    </tr>\n",
       "    <tr>\n",
       "      <th>11</th>\n",
       "      <td>1.000000</td>\n",
       "      <td>elasticnet</td>\n",
       "      <td>0.000000</td>\n",
       "      <td>0.000000</td>\n",
       "    </tr>\n",
       "    <tr>\n",
       "      <th>12</th>\n",
       "      <td>100.000000</td>\n",
       "      <td>l2</td>\n",
       "      <td>0.025427</td>\n",
       "      <td>0.025091</td>\n",
       "    </tr>\n",
       "    <tr>\n",
       "      <th>13</th>\n",
       "      <td>100.000000</td>\n",
       "      <td>l1</td>\n",
       "      <td>0.035206</td>\n",
       "      <td>0.035057</td>\n",
       "    </tr>\n",
       "    <tr>\n",
       "      <th>14</th>\n",
       "      <td>100.000000</td>\n",
       "      <td>elasticnet</td>\n",
       "      <td>0.025264</td>\n",
       "      <td>0.023387</td>\n",
       "    </tr>\n",
       "  </tbody>\n",
       "</table>\n",
       "</div>"
      ],
      "text/plain": [
       "         alpha     penalty  train_score  cv_score\n",
       "0     0.000001          l2     0.997103  0.546970\n",
       "1     0.000001          l1     0.994525  0.547160\n",
       "2     0.000001  elasticnet     0.996524  0.553062\n",
       "3     0.000100          l2     0.413836  0.389764\n",
       "4     0.000100          l1     0.425538  0.426076\n",
       "5     0.000100  elasticnet     0.363189  0.364384\n",
       "6     0.010000          l2     0.000000  0.000000\n",
       "7     0.010000          l1     0.000000  0.000000\n",
       "8     0.010000  elasticnet     0.000000  0.000000\n",
       "9     1.000000          l2     0.000000  0.000000\n",
       "10    1.000000          l1     0.000000  0.000000\n",
       "11    1.000000  elasticnet     0.000000  0.000000\n",
       "12  100.000000          l2     0.025427  0.025091\n",
       "13  100.000000          l1     0.035206  0.035057\n",
       "14  100.000000  elasticnet     0.025264  0.023387"
      ]
     },
     "execution_count": 14,
     "metadata": {},
     "output_type": "execute_result"
    }
   ],
   "source": [
    "print(linsvm_gcv2['best_params'])\n",
    "linsvm_gcv2['hyper_param_scores']"
   ]
  },
  {
   "cell_type": "code",
   "execution_count": 15,
   "metadata": {},
   "outputs": [],
   "source": [
    "# Following two functions are defined to plot & visualise the results of grid search function\n",
    "\n",
    "def sci_notation(alpha_vals):\n",
    "    \n",
    "    sci_num = []\n",
    "    \n",
    "    for num in alpha_vals:\n",
    "        \n",
    "        pow_10 = int(math.log(num, 10))\n",
    "        \n",
    "        if pow_10 > 1:\n",
    "            quotient_10 = round(num/(10**pow_10), 2)\n",
    "            sci_num.append(str(quotient_10) + 'e' + str(pow_10))\n",
    "        elif pow_10 < 0:\n",
    "            pow_10 = pow_10 - 1\n",
    "            quotient_10 = round(num/(10**pow_10), 2)\n",
    "            sci_num.append(str(quotient_10) + 'e' + str(pow_10))\n",
    "        else:\n",
    "            quotient_10 = round(num, 2)\n",
    "            sci_num.append(str(quotient_10))\n",
    "    \n",
    "    return sci_num\n",
    "\n",
    "            \n",
    "            \n",
    "def plot_gcv(alpha_vals, train_scores, cv_scores, axs, plot_labels):\n",
    "    \n",
    "    # Plot the graph of hyperparam vs train & CV F1-score\n",
    "    x = np.arange(len(alpha_vals))\n",
    "    axs.plot(x, train_scores, color = 'b', label = 'Train score')\n",
    "    axs.plot(x, cv_scores, color = 'r', label = 'CV score')\n",
    "    axs.xaxis.set_ticks(x)\n",
    "    alpha_vals = sci_notation(alpha_vals)\n",
    "    axs.xaxis.set_ticklabels(alpha_vals)\n",
    "    axs.legend()\n",
    "    axs.set_ylim([0, 1.5])\n",
    "    \n",
    "    # Name the x, y axis & set the title\n",
    "    (xlab, ylab, title) = plot_labels    \n",
    "    axs.set(xlabel = xlab, ylabel = ylab, title = title) "
   ]
  },
  {
   "cell_type": "code",
   "execution_count": 40,
   "metadata": {},
   "outputs": [
    {
     "data": {
      "image/png": "[encoded data removed]",
      "text/plain": [
       "<Figure size 1200x300 with 3 Axes>"
      ]
     },
     "metadata": {},
     "output_type": "display_data"
    }
   ],
   "source": [
    "# Visualising the GCV\n",
    "fig1 = plt.figure(figsize = (12,3))\n",
    "fig1.subplots_adjust(wspace = 0.3)\n",
    "axs = fig1.subplots(1,3)\n",
    "\n",
    "hp_grid = linsvm_gcv2['hyper_param_scores']\n",
    "\n",
    "penalty_vals = ['l1', 'l2', 'elasticnet']\n",
    "\n",
    "for i in range(len(penalty_vals)):\n",
    "    item = penalty_vals[i]\n",
    "    alpha_vals = hp_grid.alpha[(hp_grid.penalty == item)]\n",
    "    train_scores = hp_grid.train_score[(hp_grid.penalty == item)]\n",
    "    cv_scores = hp_grid.cv_score[(hp_grid.penalty == item)]    \n",
    "    plot_labels = ('Regularization param', 'F1-scores', item + ' penalty')\n",
    "    plot_gcv(alpha_vals, train_scores, cv_scores, axs[i], plot_labels)"
   ]
  },
  {
   "cell_type": "code",
   "execution_count": 17,
   "metadata": {},
   "outputs": [
    {
     "name": "stdout",
     "output_type": "stream",
     "text": [
      "Block execution time:  0:00:00\n"
     ]
    }
   ],
   "source": [
    "start_time = datetime.datetime.now()\n",
    "\n",
    "# Using the best estimator decided by above Grid search\n",
    "lin_svm_clf2 = linsvm_gcv2['best_estimator']\n",
    "\n",
    "print(\"Block execution time: \", datetime.datetime.now() - start_time)"
   ]
  },
  {
   "cell_type": "code",
   "execution_count": 18,
   "metadata": {},
   "outputs": [
    {
     "name": "stdout",
     "output_type": "stream",
     "text": [
      "\u001b[1m\n",
      "--------- Lin-SVM (OVR): Train data ---------\n",
      "\u001b[0m\n",
      "1a. Number & percent of datapoints having more than 5 predicted tags: 7, 0.01%\n",
      "1b. Number & percent of datapoints having 0 predicted tags: 140, 0.14%\n",
      "\n",
      "\n",
      "2. Tag wise metrics: \n",
      "\n",
      "Tag        Accuracy Precision   Recall   F1-score \n",
      "------------------------------------------------\n",
      "c#          100.0%    99.9%     99.9%     99.9%   \n",
      "java        100.0%    99.9%     100.0%    99.9%   \n",
      "php         100.0%    99.8%     100.0%    99.9%   \n",
      "javascript  100.0%    100.0%    99.9%     100.0%  \n",
      "android     100.0%    99.9%     100.0%    100.0%  \n",
      "jquery      100.0%    99.5%     100.0%    99.8%   \n",
      "c++         99.9%     99.9%     97.9%     98.9%   \n",
      "python      100.0%    99.9%     100.0%    100.0%  \n",
      "mysql       100.0%    100.0%    100.0%    100.0%  \n",
      "iphone      100.0%    99.9%     99.9%     99.9%   \n",
      "\u001b[1m\n",
      "Micro-avg   98.6%     99.8%     99.5%     99.7%   \n",
      "Macro-avg   98.6%     99.7%     99.4%     99.5%   \n",
      "\u001b[0m\n",
      "\n",
      "Block execution time:  0:17:11.873911\n"
     ]
    },
    {
     "data": {
      "image/png": "[encoded data removed]",
      "text/plain": [
       "<Figure size 800x300 with 2 Axes>"
      ]
     },
     "metadata": {},
     "output_type": "display_data"
    }
   ],
   "source": [
    "start_time = datetime.datetime.now()\n",
    "\n",
    "# Predict the tags using the model trained above\n",
    "y_pred_train = lin_svm_clf2.predict(train_x)\n",
    "\n",
    "# Generate performance report\n",
    "analyse_prediction(train_y, y_pred_train, 10, vocab, \"Lin-SVM (OVR): Train data\")\n",
    "\n",
    "print(\"\\nBlock execution time: \", datetime.datetime.now() - start_time)"
   ]
  },
  {
   "cell_type": "code",
   "execution_count": 19,
   "metadata": {},
   "outputs": [
    {
     "name": "stdout",
     "output_type": "stream",
     "text": [
      "\u001b[1m\n",
      "--------- Lin-SVM (OVR): CV data ---------\n",
      "\u001b[0m\n",
      "1a. Number & percent of datapoints having more than 5 predicted tags: 9, 0.04%\n",
      "1b. Number & percent of datapoints having 0 predicted tags: 4364, 17.46%\n",
      "\n",
      "\n",
      "2. Tag wise metrics: \n",
      "\n",
      "Tag        Accuracy Precision   Recall   F1-score \n",
      "------------------------------------------------\n",
      "c#          92.9%     62.0%     52.2%     56.7%   \n",
      "java        95.3%     76.0%     58.7%     66.2%   \n",
      "php         96.3%     79.5%     68.5%     73.6%   \n",
      "javascript  95.1%     70.0%     51.0%     59.0%   \n",
      "android     98.8%     96.1%     84.6%     90.0%   \n",
      "jquery      97.5%     76.5%     80.4%     78.4%   \n",
      "c++         97.7%     75.2%     52.2%     61.6%   \n",
      "python      98.7%     88.9%     70.6%     78.7%   \n",
      "iphone      97.4%     65.5%     53.4%     58.9%   \n",
      "asp.net     97.9%     76.4%     52.1%     61.9%   \n",
      "\u001b[1m\n",
      "Micro-avg   20.9%     68.4%     46.4%     55.3%   \n",
      "Macro-avg   20.9%     58.2%     36.1%     42.7%   \n",
      "\u001b[0m\n",
      "\n",
      "Block execution time:  0:03:10.128596\n"
     ]
    },
    {
     "name": "stderr",
     "output_type": "stream",
     "text": [
      "D:\\Anaconda\\Lib\\site-packages\\sklearn\\metrics\\_classification.py:1509: UndefinedMetricWarning: Precision is ill-defined and being set to 0.0 in labels with no predicted samples. Use `zero_division` parameter to control this behavior.\n",
      "  _warn_prf(average, modifier, f\"{metric.capitalize()} is\", len(result))\n"
     ]
    },
    {
     "data": {
      "image/png": "[encoded data removed]",
      "text/plain": [
       "<Figure size 800x300 with 2 Axes>"
      ]
     },
     "metadata": {},
     "output_type": "display_data"
    }
   ],
   "source": [
    "start_time = datetime.datetime.now()\n",
    "\n",
    "# Predict the tags using the model trained above\n",
    "y_pred_cv = lin_svm_clf2.predict(cv_x)\n",
    "\n",
    "# Generate performance report\n",
    "analyse_prediction(cv_y, y_pred_cv, 10, vocab, \"Lin-SVM (OVR): CV data\")\n",
    "\n",
    "print(\"\\nBlock execution time: \", datetime.datetime.now() - start_time)"
   ]
  },
  {
   "cell_type": "code",
   "execution_count": 20,
   "metadata": {},
   "outputs": [
    {
     "name": "stdout",
     "output_type": "stream",
     "text": [
      "\u001b[1m\n",
      "--------- Lin-SVM (OVR): Test data ---------\n",
      "\u001b[0m\n",
      "1a. Number & percent of datapoints having more than 5 predicted tags: 8, 0.03%\n",
      "1b. Number & percent of datapoints having 0 predicted tags: 4512, 18.05%\n"
     ]
    },
    {
     "name": "stderr",
     "output_type": "stream",
     "text": [
      "D:\\Anaconda\\Lib\\site-packages\\sklearn\\metrics\\_classification.py:1509: UndefinedMetricWarning: Precision is ill-defined and being set to 0.0 in labels with no predicted samples. Use `zero_division` parameter to control this behavior.\n",
      "  _warn_prf(average, modifier, f\"{metric.capitalize()} is\", len(result))\n"
     ]
    },
    {
     "name": "stdout",
     "output_type": "stream",
     "text": [
      "\n",
      "\n",
      "2. Tag wise metrics: \n",
      "\n",
      "Tag        Accuracy Precision   Recall   F1-score \n",
      "------------------------------------------------\n",
      "c#          93.0%     61.6%     51.3%     56.0%   \n",
      "java        95.4%     75.6%     60.1%     66.9%   \n",
      "php         96.4%     77.9%     70.2%     73.9%   \n",
      "javascript  95.3%     72.9%     52.9%     61.3%   \n",
      "android     98.7%     97.0%     81.9%     88.8%   \n",
      "jquery      97.3%     77.0%     78.8%     77.9%   \n",
      "c++         97.4%     75.1%     49.8%     59.9%   \n",
      "python      98.6%     90.6%     68.3%     77.9%   \n",
      "iphone      97.2%     60.2%     51.4%     55.4%   \n",
      "html        96.5%     46.4%     42.0%     44.0%   \n",
      "\u001b[1m\n",
      "Micro-avg   20.9%     68.9%     46.2%     55.3%   \n",
      "Macro-avg   20.9%     59.0%     35.6%     42.3%   \n",
      "\u001b[0m\n",
      "\n",
      "Block execution time:  0:03:12.058210\n"
     ]
    },
    {
     "data": {
      "image/png": "[encoded data removed]",
      "text/plain": [
       "<Figure size 800x300 with 2 Axes>"
      ]
     },
     "metadata": {},
     "output_type": "display_data"
    }
   ],
   "source": [
    "start_time = datetime.datetime.now()\n",
    "\n",
    "# Predict the tags using the model trained above\n",
    "y_pred_test = lin_svm_clf2.predict(test_x)\n",
    "\n",
    "# Generate performance report\n",
    "analyse_prediction(test_y, y_pred_test, 10, vocab, \"Lin-SVM (OVR): Test data\")\n",
    "\n",
    "print(\"\\nBlock execution time: \", datetime.datetime.now() - start_time)"
   ]
  },
  {
   "cell_type": "markdown",
   "metadata": {},
   "source": [
    "<p style='font-size:16px'><b> Grid Search CV trial 2 </b></p>\n"
   ]
  },
  {
   "cell_type": "code",
   "execution_count": 42,
   "metadata": {
    "scrolled": true
   },
   "outputs": [
    {
     "name": "stderr",
     "output_type": "stream",
     "text": [
      "C:\\Users\\Tejas Chavan\\AppData\\Local\\Temp\\ipykernel_4264\\1096226136.py:37: FutureWarning: ChainedAssignmentError: behaviour will change in pandas 3.0!\n",
      "You are setting values through chained assignment. Currently this works in certain cases, but when using Copy-on-Write (which will become the default behaviour in pandas 3.0) this will never work to update the original DataFrame or Series, because the intermediate object on which we are setting values will behave as a copy.\n",
      "A typical example is when you are setting values in a column of a DataFrame, like:\n",
      "\n",
      "df[\"col\"][row_indexer] = value\n",
      "\n",
      "Use `df.loc[row_indexer, \"col\"] = values` instead, to perform the assignment in a single step and ensure this keeps updating the original `df`.\n",
      "\n",
      "See the caveats in the documentation: https://pandas.pydata.org/pandas-docs/stable/user_guide/indexing.html#returning-a-view-versus-a-copy\n",
      "\n",
      "  hyper_param_grid.train_score.iloc[i] = train_scr\n",
      "C:\\Users\\Tejas Chavan\\AppData\\Local\\Temp\\ipykernel_4264\\1096226136.py:37: SettingWithCopyWarning: \n",
      "A value is trying to be set on a copy of a slice from a DataFrame\n",
      "\n",
      "See the caveats in the documentation: https://pandas.pydata.org/pandas-docs/stable/user_guide/indexing.html#returning-a-view-versus-a-copy\n",
      "  hyper_param_grid.train_score.iloc[i] = train_scr\n",
      "C:\\Users\\Tejas Chavan\\AppData\\Local\\Temp\\ipykernel_4264\\1096226136.py:42: FutureWarning: ChainedAssignmentError: behaviour will change in pandas 3.0!\n",
      "You are setting values through chained assignment. Currently this works in certain cases, but when using Copy-on-Write (which will become the default behaviour in pandas 3.0) this will never work to update the original DataFrame or Series, because the intermediate object on which we are setting values will behave as a copy.\n",
      "A typical example is when you are setting values in a column of a DataFrame, like:\n",
      "\n",
      "df[\"col\"][row_indexer] = value\n",
      "\n",
      "Use `df.loc[row_indexer, \"col\"] = values` instead, to perform the assignment in a single step and ensure this keeps updating the original `df`.\n",
      "\n",
      "See the caveats in the documentation: https://pandas.pydata.org/pandas-docs/stable/user_guide/indexing.html#returning-a-view-versus-a-copy\n",
      "\n",
      "  hyper_param_grid.cv_score.iloc[i] = cv_scr\n",
      "C:\\Users\\Tejas Chavan\\AppData\\Local\\Temp\\ipykernel_4264\\1096226136.py:42: SettingWithCopyWarning: \n",
      "A value is trying to be set on a copy of a slice from a DataFrame\n",
      "\n",
      "See the caveats in the documentation: https://pandas.pydata.org/pandas-docs/stable/user_guide/indexing.html#returning-a-view-versus-a-copy\n",
      "  hyper_param_grid.cv_score.iloc[i] = cv_scr\n"
     ]
    },
    {
     "name": "stdout",
     "output_type": "stream",
     "text": [
      "Completed iteration: 1/17 | Time taken: 1:11:05.906671\n"
     ]
    },
    {
     "name": "stderr",
     "output_type": "stream",
     "text": [
      "C:\\Users\\Tejas Chavan\\AppData\\Local\\Temp\\ipykernel_4264\\1096226136.py:37: FutureWarning: ChainedAssignmentError: behaviour will change in pandas 3.0!\n",
      "You are setting values through chained assignment. Currently this works in certain cases, but when using Copy-on-Write (which will become the default behaviour in pandas 3.0) this will never work to update the original DataFrame or Series, because the intermediate object on which we are setting values will behave as a copy.\n",
      "A typical example is when you are setting values in a column of a DataFrame, like:\n",
      "\n",
      "df[\"col\"][row_indexer] = value\n",
      "\n",
      "Use `df.loc[row_indexer, \"col\"] = values` instead, to perform the assignment in a single step and ensure this keeps updating the original `df`.\n",
      "\n",
      "See the caveats in the documentation: https://pandas.pydata.org/pandas-docs/stable/user_guide/indexing.html#returning-a-view-versus-a-copy\n",
      "\n",
      "  hyper_param_grid.train_score.iloc[i] = train_scr\n",
      "C:\\Users\\Tejas Chavan\\AppData\\Local\\Temp\\ipykernel_4264\\1096226136.py:37: SettingWithCopyWarning: \n",
      "A value is trying to be set on a copy of a slice from a DataFrame\n",
      "\n",
      "See the caveats in the documentation: https://pandas.pydata.org/pandas-docs/stable/user_guide/indexing.html#returning-a-view-versus-a-copy\n",
      "  hyper_param_grid.train_score.iloc[i] = train_scr\n",
      "C:\\Users\\Tejas Chavan\\AppData\\Local\\Temp\\ipykernel_4264\\1096226136.py:42: FutureWarning: ChainedAssignmentError: behaviour will change in pandas 3.0!\n",
      "You are setting values through chained assignment. Currently this works in certain cases, but when using Copy-on-Write (which will become the default behaviour in pandas 3.0) this will never work to update the original DataFrame or Series, because the intermediate object on which we are setting values will behave as a copy.\n",
      "A typical example is when you are setting values in a column of a DataFrame, like:\n",
      "\n",
      "df[\"col\"][row_indexer] = value\n",
      "\n",
      "Use `df.loc[row_indexer, \"col\"] = values` instead, to perform the assignment in a single step and ensure this keeps updating the original `df`.\n",
      "\n",
      "See the caveats in the documentation: https://pandas.pydata.org/pandas-docs/stable/user_guide/indexing.html#returning-a-view-versus-a-copy\n",
      "\n",
      "  hyper_param_grid.cv_score.iloc[i] = cv_scr\n",
      "C:\\Users\\Tejas Chavan\\AppData\\Local\\Temp\\ipykernel_4264\\1096226136.py:42: SettingWithCopyWarning: \n",
      "A value is trying to be set on a copy of a slice from a DataFrame\n",
      "\n",
      "See the caveats in the documentation: https://pandas.pydata.org/pandas-docs/stable/user_guide/indexing.html#returning-a-view-versus-a-copy\n",
      "  hyper_param_grid.cv_score.iloc[i] = cv_scr\n"
     ]
    },
    {
     "name": "stdout",
     "output_type": "stream",
     "text": [
      "Completed iteration: 2/17 | Time taken: 1:09:34.385449\n"
     ]
    },
    {
     "name": "stderr",
     "output_type": "stream",
     "text": [
      "C:\\Users\\Tejas Chavan\\AppData\\Local\\Temp\\ipykernel_4264\\1096226136.py:37: FutureWarning: ChainedAssignmentError: behaviour will change in pandas 3.0!\n",
      "You are setting values through chained assignment. Currently this works in certain cases, but when using Copy-on-Write (which will become the default behaviour in pandas 3.0) this will never work to update the original DataFrame or Series, because the intermediate object on which we are setting values will behave as a copy.\n",
      "A typical example is when you are setting values in a column of a DataFrame, like:\n",
      "\n",
      "df[\"col\"][row_indexer] = value\n",
      "\n",
      "Use `df.loc[row_indexer, \"col\"] = values` instead, to perform the assignment in a single step and ensure this keeps updating the original `df`.\n",
      "\n",
      "See the caveats in the documentation: https://pandas.pydata.org/pandas-docs/stable/user_guide/indexing.html#returning-a-view-versus-a-copy\n",
      "\n",
      "  hyper_param_grid.train_score.iloc[i] = train_scr\n",
      "C:\\Users\\Tejas Chavan\\AppData\\Local\\Temp\\ipykernel_4264\\1096226136.py:37: SettingWithCopyWarning: \n",
      "A value is trying to be set on a copy of a slice from a DataFrame\n",
      "\n",
      "See the caveats in the documentation: https://pandas.pydata.org/pandas-docs/stable/user_guide/indexing.html#returning-a-view-versus-a-copy\n",
      "  hyper_param_grid.train_score.iloc[i] = train_scr\n",
      "C:\\Users\\Tejas Chavan\\AppData\\Local\\Temp\\ipykernel_4264\\1096226136.py:42: FutureWarning: ChainedAssignmentError: behaviour will change in pandas 3.0!\n",
      "You are setting values through chained assignment. Currently this works in certain cases, but when using Copy-on-Write (which will become the default behaviour in pandas 3.0) this will never work to update the original DataFrame or Series, because the intermediate object on which we are setting values will behave as a copy.\n",
      "A typical example is when you are setting values in a column of a DataFrame, like:\n",
      "\n",
      "df[\"col\"][row_indexer] = value\n",
      "\n",
      "Use `df.loc[row_indexer, \"col\"] = values` instead, to perform the assignment in a single step and ensure this keeps updating the original `df`.\n",
      "\n",
      "See the caveats in the documentation: https://pandas.pydata.org/pandas-docs/stable/user_guide/indexing.html#returning-a-view-versus-a-copy\n",
      "\n",
      "  hyper_param_grid.cv_score.iloc[i] = cv_scr\n",
      "C:\\Users\\Tejas Chavan\\AppData\\Local\\Temp\\ipykernel_4264\\1096226136.py:42: SettingWithCopyWarning: \n",
      "A value is trying to be set on a copy of a slice from a DataFrame\n",
      "\n",
      "See the caveats in the documentation: https://pandas.pydata.org/pandas-docs/stable/user_guide/indexing.html#returning-a-view-versus-a-copy\n",
      "  hyper_param_grid.cv_score.iloc[i] = cv_scr\n"
     ]
    },
    {
     "name": "stdout",
     "output_type": "stream",
     "text": [
      "Completed iteration: 3/17 | Time taken: 1:17:45.038196\n"
     ]
    },
    {
     "name": "stderr",
     "output_type": "stream",
     "text": [
      "C:\\Users\\Tejas Chavan\\AppData\\Local\\Temp\\ipykernel_4264\\1096226136.py:37: FutureWarning: ChainedAssignmentError: behaviour will change in pandas 3.0!\n",
      "You are setting values through chained assignment. Currently this works in certain cases, but when using Copy-on-Write (which will become the default behaviour in pandas 3.0) this will never work to update the original DataFrame or Series, because the intermediate object on which we are setting values will behave as a copy.\n",
      "A typical example is when you are setting values in a column of a DataFrame, like:\n",
      "\n",
      "df[\"col\"][row_indexer] = value\n",
      "\n",
      "Use `df.loc[row_indexer, \"col\"] = values` instead, to perform the assignment in a single step and ensure this keeps updating the original `df`.\n",
      "\n",
      "See the caveats in the documentation: https://pandas.pydata.org/pandas-docs/stable/user_guide/indexing.html#returning-a-view-versus-a-copy\n",
      "\n",
      "  hyper_param_grid.train_score.iloc[i] = train_scr\n",
      "C:\\Users\\Tejas Chavan\\AppData\\Local\\Temp\\ipykernel_4264\\1096226136.py:37: SettingWithCopyWarning: \n",
      "A value is trying to be set on a copy of a slice from a DataFrame\n",
      "\n",
      "See the caveats in the documentation: https://pandas.pydata.org/pandas-docs/stable/user_guide/indexing.html#returning-a-view-versus-a-copy\n",
      "  hyper_param_grid.train_score.iloc[i] = train_scr\n",
      "C:\\Users\\Tejas Chavan\\AppData\\Local\\Temp\\ipykernel_4264\\1096226136.py:42: FutureWarning: ChainedAssignmentError: behaviour will change in pandas 3.0!\n",
      "You are setting values through chained assignment. Currently this works in certain cases, but when using Copy-on-Write (which will become the default behaviour in pandas 3.0) this will never work to update the original DataFrame or Series, because the intermediate object on which we are setting values will behave as a copy.\n",
      "A typical example is when you are setting values in a column of a DataFrame, like:\n",
      "\n",
      "df[\"col\"][row_indexer] = value\n",
      "\n",
      "Use `df.loc[row_indexer, \"col\"] = values` instead, to perform the assignment in a single step and ensure this keeps updating the original `df`.\n",
      "\n",
      "See the caveats in the documentation: https://pandas.pydata.org/pandas-docs/stable/user_guide/indexing.html#returning-a-view-versus-a-copy\n",
      "\n",
      "  hyper_param_grid.cv_score.iloc[i] = cv_scr\n",
      "C:\\Users\\Tejas Chavan\\AppData\\Local\\Temp\\ipykernel_4264\\1096226136.py:42: SettingWithCopyWarning: \n",
      "A value is trying to be set on a copy of a slice from a DataFrame\n",
      "\n",
      "See the caveats in the documentation: https://pandas.pydata.org/pandas-docs/stable/user_guide/indexing.html#returning-a-view-versus-a-copy\n",
      "  hyper_param_grid.cv_score.iloc[i] = cv_scr\n"
     ]
    },
    {
     "name": "stdout",
     "output_type": "stream",
     "text": [
      "Completed iteration: 4/17 | Time taken: 1:08:34.953990\n"
     ]
    },
    {
     "name": "stderr",
     "output_type": "stream",
     "text": [
      "C:\\Users\\Tejas Chavan\\AppData\\Local\\Temp\\ipykernel_4264\\1096226136.py:37: FutureWarning: ChainedAssignmentError: behaviour will change in pandas 3.0!\n",
      "You are setting values through chained assignment. Currently this works in certain cases, but when using Copy-on-Write (which will become the default behaviour in pandas 3.0) this will never work to update the original DataFrame or Series, because the intermediate object on which we are setting values will behave as a copy.\n",
      "A typical example is when you are setting values in a column of a DataFrame, like:\n",
      "\n",
      "df[\"col\"][row_indexer] = value\n",
      "\n",
      "Use `df.loc[row_indexer, \"col\"] = values` instead, to perform the assignment in a single step and ensure this keeps updating the original `df`.\n",
      "\n",
      "See the caveats in the documentation: https://pandas.pydata.org/pandas-docs/stable/user_guide/indexing.html#returning-a-view-versus-a-copy\n",
      "\n",
      "  hyper_param_grid.train_score.iloc[i] = train_scr\n",
      "C:\\Users\\Tejas Chavan\\AppData\\Local\\Temp\\ipykernel_4264\\1096226136.py:37: SettingWithCopyWarning: \n",
      "A value is trying to be set on a copy of a slice from a DataFrame\n",
      "\n",
      "See the caveats in the documentation: https://pandas.pydata.org/pandas-docs/stable/user_guide/indexing.html#returning-a-view-versus-a-copy\n",
      "  hyper_param_grid.train_score.iloc[i] = train_scr\n",
      "C:\\Users\\Tejas Chavan\\AppData\\Local\\Temp\\ipykernel_4264\\1096226136.py:42: FutureWarning: ChainedAssignmentError: behaviour will change in pandas 3.0!\n",
      "You are setting values through chained assignment. Currently this works in certain cases, but when using Copy-on-Write (which will become the default behaviour in pandas 3.0) this will never work to update the original DataFrame or Series, because the intermediate object on which we are setting values will behave as a copy.\n",
      "A typical example is when you are setting values in a column of a DataFrame, like:\n",
      "\n",
      "df[\"col\"][row_indexer] = value\n",
      "\n",
      "Use `df.loc[row_indexer, \"col\"] = values` instead, to perform the assignment in a single step and ensure this keeps updating the original `df`.\n",
      "\n",
      "See the caveats in the documentation: https://pandas.pydata.org/pandas-docs/stable/user_guide/indexing.html#returning-a-view-versus-a-copy\n",
      "\n",
      "  hyper_param_grid.cv_score.iloc[i] = cv_scr\n",
      "C:\\Users\\Tejas Chavan\\AppData\\Local\\Temp\\ipykernel_4264\\1096226136.py:42: SettingWithCopyWarning: \n",
      "A value is trying to be set on a copy of a slice from a DataFrame\n",
      "\n",
      "See the caveats in the documentation: https://pandas.pydata.org/pandas-docs/stable/user_guide/indexing.html#returning-a-view-versus-a-copy\n",
      "  hyper_param_grid.cv_score.iloc[i] = cv_scr\n"
     ]
    },
    {
     "name": "stdout",
     "output_type": "stream",
     "text": [
      "Completed iteration: 5/17 | Time taken: 1:05:41.410399\n"
     ]
    },
    {
     "name": "stderr",
     "output_type": "stream",
     "text": [
      "C:\\Users\\Tejas Chavan\\AppData\\Local\\Temp\\ipykernel_4264\\1096226136.py:37: FutureWarning: ChainedAssignmentError: behaviour will change in pandas 3.0!\n",
      "You are setting values through chained assignment. Currently this works in certain cases, but when using Copy-on-Write (which will become the default behaviour in pandas 3.0) this will never work to update the original DataFrame or Series, because the intermediate object on which we are setting values will behave as a copy.\n",
      "A typical example is when you are setting values in a column of a DataFrame, like:\n",
      "\n",
      "df[\"col\"][row_indexer] = value\n",
      "\n",
      "Use `df.loc[row_indexer, \"col\"] = values` instead, to perform the assignment in a single step and ensure this keeps updating the original `df`.\n",
      "\n",
      "See the caveats in the documentation: https://pandas.pydata.org/pandas-docs/stable/user_guide/indexing.html#returning-a-view-versus-a-copy\n",
      "\n",
      "  hyper_param_grid.train_score.iloc[i] = train_scr\n",
      "C:\\Users\\Tejas Chavan\\AppData\\Local\\Temp\\ipykernel_4264\\1096226136.py:37: SettingWithCopyWarning: \n",
      "A value is trying to be set on a copy of a slice from a DataFrame\n",
      "\n",
      "See the caveats in the documentation: https://pandas.pydata.org/pandas-docs/stable/user_guide/indexing.html#returning-a-view-versus-a-copy\n",
      "  hyper_param_grid.train_score.iloc[i] = train_scr\n",
      "C:\\Users\\Tejas Chavan\\AppData\\Local\\Temp\\ipykernel_4264\\1096226136.py:42: FutureWarning: ChainedAssignmentError: behaviour will change in pandas 3.0!\n",
      "You are setting values through chained assignment. Currently this works in certain cases, but when using Copy-on-Write (which will become the default behaviour in pandas 3.0) this will never work to update the original DataFrame or Series, because the intermediate object on which we are setting values will behave as a copy.\n",
      "A typical example is when you are setting values in a column of a DataFrame, like:\n",
      "\n",
      "df[\"col\"][row_indexer] = value\n",
      "\n",
      "Use `df.loc[row_indexer, \"col\"] = values` instead, to perform the assignment in a single step and ensure this keeps updating the original `df`.\n",
      "\n",
      "See the caveats in the documentation: https://pandas.pydata.org/pandas-docs/stable/user_guide/indexing.html#returning-a-view-versus-a-copy\n",
      "\n",
      "  hyper_param_grid.cv_score.iloc[i] = cv_scr\n",
      "C:\\Users\\Tejas Chavan\\AppData\\Local\\Temp\\ipykernel_4264\\1096226136.py:42: SettingWithCopyWarning: \n",
      "A value is trying to be set on a copy of a slice from a DataFrame\n",
      "\n",
      "See the caveats in the documentation: https://pandas.pydata.org/pandas-docs/stable/user_guide/indexing.html#returning-a-view-versus-a-copy\n",
      "  hyper_param_grid.cv_score.iloc[i] = cv_scr\n"
     ]
    },
    {
     "name": "stdout",
     "output_type": "stream",
     "text": [
      "Completed iteration: 6/17 | Time taken: 1:01:20.151944\n"
     ]
    },
    {
     "name": "stderr",
     "output_type": "stream",
     "text": [
      "C:\\Users\\Tejas Chavan\\AppData\\Local\\Temp\\ipykernel_4264\\1096226136.py:37: FutureWarning: ChainedAssignmentError: behaviour will change in pandas 3.0!\n",
      "You are setting values through chained assignment. Currently this works in certain cases, but when using Copy-on-Write (which will become the default behaviour in pandas 3.0) this will never work to update the original DataFrame or Series, because the intermediate object on which we are setting values will behave as a copy.\n",
      "A typical example is when you are setting values in a column of a DataFrame, like:\n",
      "\n",
      "df[\"col\"][row_indexer] = value\n",
      "\n",
      "Use `df.loc[row_indexer, \"col\"] = values` instead, to perform the assignment in a single step and ensure this keeps updating the original `df`.\n",
      "\n",
      "See the caveats in the documentation: https://pandas.pydata.org/pandas-docs/stable/user_guide/indexing.html#returning-a-view-versus-a-copy\n",
      "\n",
      "  hyper_param_grid.train_score.iloc[i] = train_scr\n",
      "C:\\Users\\Tejas Chavan\\AppData\\Local\\Temp\\ipykernel_4264\\1096226136.py:37: SettingWithCopyWarning: \n",
      "A value is trying to be set on a copy of a slice from a DataFrame\n",
      "\n",
      "See the caveats in the documentation: https://pandas.pydata.org/pandas-docs/stable/user_guide/indexing.html#returning-a-view-versus-a-copy\n",
      "  hyper_param_grid.train_score.iloc[i] = train_scr\n",
      "C:\\Users\\Tejas Chavan\\AppData\\Local\\Temp\\ipykernel_4264\\1096226136.py:42: FutureWarning: ChainedAssignmentError: behaviour will change in pandas 3.0!\n",
      "You are setting values through chained assignment. Currently this works in certain cases, but when using Copy-on-Write (which will become the default behaviour in pandas 3.0) this will never work to update the original DataFrame or Series, because the intermediate object on which we are setting values will behave as a copy.\n",
      "A typical example is when you are setting values in a column of a DataFrame, like:\n",
      "\n",
      "df[\"col\"][row_indexer] = value\n",
      "\n",
      "Use `df.loc[row_indexer, \"col\"] = values` instead, to perform the assignment in a single step and ensure this keeps updating the original `df`.\n",
      "\n",
      "See the caveats in the documentation: https://pandas.pydata.org/pandas-docs/stable/user_guide/indexing.html#returning-a-view-versus-a-copy\n",
      "\n",
      "  hyper_param_grid.cv_score.iloc[i] = cv_scr\n",
      "C:\\Users\\Tejas Chavan\\AppData\\Local\\Temp\\ipykernel_4264\\1096226136.py:42: SettingWithCopyWarning: \n",
      "A value is trying to be set on a copy of a slice from a DataFrame\n",
      "\n",
      "See the caveats in the documentation: https://pandas.pydata.org/pandas-docs/stable/user_guide/indexing.html#returning-a-view-versus-a-copy\n",
      "  hyper_param_grid.cv_score.iloc[i] = cv_scr\n"
     ]
    },
    {
     "name": "stdout",
     "output_type": "stream",
     "text": [
      "Completed iteration: 7/17 | Time taken: 0:58:24.905076\n"
     ]
    },
    {
     "name": "stderr",
     "output_type": "stream",
     "text": [
      "C:\\Users\\Tejas Chavan\\AppData\\Local\\Temp\\ipykernel_4264\\1096226136.py:37: FutureWarning: ChainedAssignmentError: behaviour will change in pandas 3.0!\n",
      "You are setting values through chained assignment. Currently this works in certain cases, but when using Copy-on-Write (which will become the default behaviour in pandas 3.0) this will never work to update the original DataFrame or Series, because the intermediate object on which we are setting values will behave as a copy.\n",
      "A typical example is when you are setting values in a column of a DataFrame, like:\n",
      "\n",
      "df[\"col\"][row_indexer] = value\n",
      "\n",
      "Use `df.loc[row_indexer, \"col\"] = values` instead, to perform the assignment in a single step and ensure this keeps updating the original `df`.\n",
      "\n",
      "See the caveats in the documentation: https://pandas.pydata.org/pandas-docs/stable/user_guide/indexing.html#returning-a-view-versus-a-copy\n",
      "\n",
      "  hyper_param_grid.train_score.iloc[i] = train_scr\n",
      "C:\\Users\\Tejas Chavan\\AppData\\Local\\Temp\\ipykernel_4264\\1096226136.py:37: SettingWithCopyWarning: \n",
      "A value is trying to be set on a copy of a slice from a DataFrame\n",
      "\n",
      "See the caveats in the documentation: https://pandas.pydata.org/pandas-docs/stable/user_guide/indexing.html#returning-a-view-versus-a-copy\n",
      "  hyper_param_grid.train_score.iloc[i] = train_scr\n",
      "C:\\Users\\Tejas Chavan\\AppData\\Local\\Temp\\ipykernel_4264\\1096226136.py:42: FutureWarning: ChainedAssignmentError: behaviour will change in pandas 3.0!\n",
      "You are setting values through chained assignment. Currently this works in certain cases, but when using Copy-on-Write (which will become the default behaviour in pandas 3.0) this will never work to update the original DataFrame or Series, because the intermediate object on which we are setting values will behave as a copy.\n",
      "A typical example is when you are setting values in a column of a DataFrame, like:\n",
      "\n",
      "df[\"col\"][row_indexer] = value\n",
      "\n",
      "Use `df.loc[row_indexer, \"col\"] = values` instead, to perform the assignment in a single step and ensure this keeps updating the original `df`.\n",
      "\n",
      "See the caveats in the documentation: https://pandas.pydata.org/pandas-docs/stable/user_guide/indexing.html#returning-a-view-versus-a-copy\n",
      "\n",
      "  hyper_param_grid.cv_score.iloc[i] = cv_scr\n",
      "C:\\Users\\Tejas Chavan\\AppData\\Local\\Temp\\ipykernel_4264\\1096226136.py:42: SettingWithCopyWarning: \n",
      "A value is trying to be set on a copy of a slice from a DataFrame\n",
      "\n",
      "See the caveats in the documentation: https://pandas.pydata.org/pandas-docs/stable/user_guide/indexing.html#returning-a-view-versus-a-copy\n",
      "  hyper_param_grid.cv_score.iloc[i] = cv_scr\n"
     ]
    },
    {
     "name": "stdout",
     "output_type": "stream",
     "text": [
      "Completed iteration: 8/17 | Time taken: 0:56:40.675865\n"
     ]
    },
    {
     "name": "stderr",
     "output_type": "stream",
     "text": [
      "C:\\Users\\Tejas Chavan\\AppData\\Local\\Temp\\ipykernel_4264\\1096226136.py:37: FutureWarning: ChainedAssignmentError: behaviour will change in pandas 3.0!\n",
      "You are setting values through chained assignment. Currently this works in certain cases, but when using Copy-on-Write (which will become the default behaviour in pandas 3.0) this will never work to update the original DataFrame or Series, because the intermediate object on which we are setting values will behave as a copy.\n",
      "A typical example is when you are setting values in a column of a DataFrame, like:\n",
      "\n",
      "df[\"col\"][row_indexer] = value\n",
      "\n",
      "Use `df.loc[row_indexer, \"col\"] = values` instead, to perform the assignment in a single step and ensure this keeps updating the original `df`.\n",
      "\n",
      "See the caveats in the documentation: https://pandas.pydata.org/pandas-docs/stable/user_guide/indexing.html#returning-a-view-versus-a-copy\n",
      "\n",
      "  hyper_param_grid.train_score.iloc[i] = train_scr\n",
      "C:\\Users\\Tejas Chavan\\AppData\\Local\\Temp\\ipykernel_4264\\1096226136.py:37: SettingWithCopyWarning: \n",
      "A value is trying to be set on a copy of a slice from a DataFrame\n",
      "\n",
      "See the caveats in the documentation: https://pandas.pydata.org/pandas-docs/stable/user_guide/indexing.html#returning-a-view-versus-a-copy\n",
      "  hyper_param_grid.train_score.iloc[i] = train_scr\n",
      "C:\\Users\\Tejas Chavan\\AppData\\Local\\Temp\\ipykernel_4264\\1096226136.py:42: FutureWarning: ChainedAssignmentError: behaviour will change in pandas 3.0!\n",
      "You are setting values through chained assignment. Currently this works in certain cases, but when using Copy-on-Write (which will become the default behaviour in pandas 3.0) this will never work to update the original DataFrame or Series, because the intermediate object on which we are setting values will behave as a copy.\n",
      "A typical example is when you are setting values in a column of a DataFrame, like:\n",
      "\n",
      "df[\"col\"][row_indexer] = value\n",
      "\n",
      "Use `df.loc[row_indexer, \"col\"] = values` instead, to perform the assignment in a single step and ensure this keeps updating the original `df`.\n",
      "\n",
      "See the caveats in the documentation: https://pandas.pydata.org/pandas-docs/stable/user_guide/indexing.html#returning-a-view-versus-a-copy\n",
      "\n",
      "  hyper_param_grid.cv_score.iloc[i] = cv_scr\n",
      "C:\\Users\\Tejas Chavan\\AppData\\Local\\Temp\\ipykernel_4264\\1096226136.py:42: SettingWithCopyWarning: \n",
      "A value is trying to be set on a copy of a slice from a DataFrame\n",
      "\n",
      "See the caveats in the documentation: https://pandas.pydata.org/pandas-docs/stable/user_guide/indexing.html#returning-a-view-versus-a-copy\n",
      "  hyper_param_grid.cv_score.iloc[i] = cv_scr\n"
     ]
    },
    {
     "name": "stdout",
     "output_type": "stream",
     "text": [
      "Completed iteration: 9/17 | Time taken: 0:55:24.559851\n"
     ]
    },
    {
     "name": "stderr",
     "output_type": "stream",
     "text": [
      "C:\\Users\\Tejas Chavan\\AppData\\Local\\Temp\\ipykernel_4264\\1096226136.py:37: FutureWarning: ChainedAssignmentError: behaviour will change in pandas 3.0!\n",
      "You are setting values through chained assignment. Currently this works in certain cases, but when using Copy-on-Write (which will become the default behaviour in pandas 3.0) this will never work to update the original DataFrame or Series, because the intermediate object on which we are setting values will behave as a copy.\n",
      "A typical example is when you are setting values in a column of a DataFrame, like:\n",
      "\n",
      "df[\"col\"][row_indexer] = value\n",
      "\n",
      "Use `df.loc[row_indexer, \"col\"] = values` instead, to perform the assignment in a single step and ensure this keeps updating the original `df`.\n",
      "\n",
      "See the caveats in the documentation: https://pandas.pydata.org/pandas-docs/stable/user_guide/indexing.html#returning-a-view-versus-a-copy\n",
      "\n",
      "  hyper_param_grid.train_score.iloc[i] = train_scr\n",
      "C:\\Users\\Tejas Chavan\\AppData\\Local\\Temp\\ipykernel_4264\\1096226136.py:37: SettingWithCopyWarning: \n",
      "A value is trying to be set on a copy of a slice from a DataFrame\n",
      "\n",
      "See the caveats in the documentation: https://pandas.pydata.org/pandas-docs/stable/user_guide/indexing.html#returning-a-view-versus-a-copy\n",
      "  hyper_param_grid.train_score.iloc[i] = train_scr\n",
      "C:\\Users\\Tejas Chavan\\AppData\\Local\\Temp\\ipykernel_4264\\1096226136.py:42: FutureWarning: ChainedAssignmentError: behaviour will change in pandas 3.0!\n",
      "You are setting values through chained assignment. Currently this works in certain cases, but when using Copy-on-Write (which will become the default behaviour in pandas 3.0) this will never work to update the original DataFrame or Series, because the intermediate object on which we are setting values will behave as a copy.\n",
      "A typical example is when you are setting values in a column of a DataFrame, like:\n",
      "\n",
      "df[\"col\"][row_indexer] = value\n",
      "\n",
      "Use `df.loc[row_indexer, \"col\"] = values` instead, to perform the assignment in a single step and ensure this keeps updating the original `df`.\n",
      "\n",
      "See the caveats in the documentation: https://pandas.pydata.org/pandas-docs/stable/user_guide/indexing.html#returning-a-view-versus-a-copy\n",
      "\n",
      "  hyper_param_grid.cv_score.iloc[i] = cv_scr\n",
      "C:\\Users\\Tejas Chavan\\AppData\\Local\\Temp\\ipykernel_4264\\1096226136.py:42: SettingWithCopyWarning: \n",
      "A value is trying to be set on a copy of a slice from a DataFrame\n",
      "\n",
      "See the caveats in the documentation: https://pandas.pydata.org/pandas-docs/stable/user_guide/indexing.html#returning-a-view-versus-a-copy\n",
      "  hyper_param_grid.cv_score.iloc[i] = cv_scr\n"
     ]
    },
    {
     "name": "stdout",
     "output_type": "stream",
     "text": [
      "Completed iteration: 10/17 | Time taken: 0:49:27.861773\n"
     ]
    },
    {
     "name": "stderr",
     "output_type": "stream",
     "text": [
      "C:\\Users\\Tejas Chavan\\AppData\\Local\\Temp\\ipykernel_4264\\1096226136.py:37: FutureWarning: ChainedAssignmentError: behaviour will change in pandas 3.0!\n",
      "You are setting values through chained assignment. Currently this works in certain cases, but when using Copy-on-Write (which will become the default behaviour in pandas 3.0) this will never work to update the original DataFrame or Series, because the intermediate object on which we are setting values will behave as a copy.\n",
      "A typical example is when you are setting values in a column of a DataFrame, like:\n",
      "\n",
      "df[\"col\"][row_indexer] = value\n",
      "\n",
      "Use `df.loc[row_indexer, \"col\"] = values` instead, to perform the assignment in a single step and ensure this keeps updating the original `df`.\n",
      "\n",
      "See the caveats in the documentation: https://pandas.pydata.org/pandas-docs/stable/user_guide/indexing.html#returning-a-view-versus-a-copy\n",
      "\n",
      "  hyper_param_grid.train_score.iloc[i] = train_scr\n",
      "C:\\Users\\Tejas Chavan\\AppData\\Local\\Temp\\ipykernel_4264\\1096226136.py:37: SettingWithCopyWarning: \n",
      "A value is trying to be set on a copy of a slice from a DataFrame\n",
      "\n",
      "See the caveats in the documentation: https://pandas.pydata.org/pandas-docs/stable/user_guide/indexing.html#returning-a-view-versus-a-copy\n",
      "  hyper_param_grid.train_score.iloc[i] = train_scr\n",
      "C:\\Users\\Tejas Chavan\\AppData\\Local\\Temp\\ipykernel_4264\\1096226136.py:42: FutureWarning: ChainedAssignmentError: behaviour will change in pandas 3.0!\n",
      "You are setting values through chained assignment. Currently this works in certain cases, but when using Copy-on-Write (which will become the default behaviour in pandas 3.0) this will never work to update the original DataFrame or Series, because the intermediate object on which we are setting values will behave as a copy.\n",
      "A typical example is when you are setting values in a column of a DataFrame, like:\n",
      "\n",
      "df[\"col\"][row_indexer] = value\n",
      "\n",
      "Use `df.loc[row_indexer, \"col\"] = values` instead, to perform the assignment in a single step and ensure this keeps updating the original `df`.\n",
      "\n",
      "See the caveats in the documentation: https://pandas.pydata.org/pandas-docs/stable/user_guide/indexing.html#returning-a-view-versus-a-copy\n",
      "\n",
      "  hyper_param_grid.cv_score.iloc[i] = cv_scr\n",
      "C:\\Users\\Tejas Chavan\\AppData\\Local\\Temp\\ipykernel_4264\\1096226136.py:42: SettingWithCopyWarning: \n",
      "A value is trying to be set on a copy of a slice from a DataFrame\n",
      "\n",
      "See the caveats in the documentation: https://pandas.pydata.org/pandas-docs/stable/user_guide/indexing.html#returning-a-view-versus-a-copy\n",
      "  hyper_param_grid.cv_score.iloc[i] = cv_scr\n"
     ]
    },
    {
     "name": "stdout",
     "output_type": "stream",
     "text": [
      "Completed iteration: 11/17 | Time taken: 0:47:51.943028\n"
     ]
    },
    {
     "name": "stderr",
     "output_type": "stream",
     "text": [
      "C:\\Users\\Tejas Chavan\\AppData\\Local\\Temp\\ipykernel_4264\\1096226136.py:37: FutureWarning: ChainedAssignmentError: behaviour will change in pandas 3.0!\n",
      "You are setting values through chained assignment. Currently this works in certain cases, but when using Copy-on-Write (which will become the default behaviour in pandas 3.0) this will never work to update the original DataFrame or Series, because the intermediate object on which we are setting values will behave as a copy.\n",
      "A typical example is when you are setting values in a column of a DataFrame, like:\n",
      "\n",
      "df[\"col\"][row_indexer] = value\n",
      "\n",
      "Use `df.loc[row_indexer, \"col\"] = values` instead, to perform the assignment in a single step and ensure this keeps updating the original `df`.\n",
      "\n",
      "See the caveats in the documentation: https://pandas.pydata.org/pandas-docs/stable/user_guide/indexing.html#returning-a-view-versus-a-copy\n",
      "\n",
      "  hyper_param_grid.train_score.iloc[i] = train_scr\n",
      "C:\\Users\\Tejas Chavan\\AppData\\Local\\Temp\\ipykernel_4264\\1096226136.py:37: SettingWithCopyWarning: \n",
      "A value is trying to be set on a copy of a slice from a DataFrame\n",
      "\n",
      "See the caveats in the documentation: https://pandas.pydata.org/pandas-docs/stable/user_guide/indexing.html#returning-a-view-versus-a-copy\n",
      "  hyper_param_grid.train_score.iloc[i] = train_scr\n",
      "C:\\Users\\Tejas Chavan\\AppData\\Local\\Temp\\ipykernel_4264\\1096226136.py:42: FutureWarning: ChainedAssignmentError: behaviour will change in pandas 3.0!\n",
      "You are setting values through chained assignment. Currently this works in certain cases, but when using Copy-on-Write (which will become the default behaviour in pandas 3.0) this will never work to update the original DataFrame or Series, because the intermediate object on which we are setting values will behave as a copy.\n",
      "A typical example is when you are setting values in a column of a DataFrame, like:\n",
      "\n",
      "df[\"col\"][row_indexer] = value\n",
      "\n",
      "Use `df.loc[row_indexer, \"col\"] = values` instead, to perform the assignment in a single step and ensure this keeps updating the original `df`.\n",
      "\n",
      "See the caveats in the documentation: https://pandas.pydata.org/pandas-docs/stable/user_guide/indexing.html#returning-a-view-versus-a-copy\n",
      "\n",
      "  hyper_param_grid.cv_score.iloc[i] = cv_scr\n",
      "C:\\Users\\Tejas Chavan\\AppData\\Local\\Temp\\ipykernel_4264\\1096226136.py:42: SettingWithCopyWarning: \n",
      "A value is trying to be set on a copy of a slice from a DataFrame\n",
      "\n",
      "See the caveats in the documentation: https://pandas.pydata.org/pandas-docs/stable/user_guide/indexing.html#returning-a-view-versus-a-copy\n",
      "  hyper_param_grid.cv_score.iloc[i] = cv_scr\n"
     ]
    },
    {
     "name": "stdout",
     "output_type": "stream",
     "text": [
      "Completed iteration: 12/17 | Time taken: 0:47:12.428701\n"
     ]
    },
    {
     "name": "stderr",
     "output_type": "stream",
     "text": [
      "C:\\Users\\Tejas Chavan\\AppData\\Local\\Temp\\ipykernel_4264\\1096226136.py:37: FutureWarning: ChainedAssignmentError: behaviour will change in pandas 3.0!\n",
      "You are setting values through chained assignment. Currently this works in certain cases, but when using Copy-on-Write (which will become the default behaviour in pandas 3.0) this will never work to update the original DataFrame or Series, because the intermediate object on which we are setting values will behave as a copy.\n",
      "A typical example is when you are setting values in a column of a DataFrame, like:\n",
      "\n",
      "df[\"col\"][row_indexer] = value\n",
      "\n",
      "Use `df.loc[row_indexer, \"col\"] = values` instead, to perform the assignment in a single step and ensure this keeps updating the original `df`.\n",
      "\n",
      "See the caveats in the documentation: https://pandas.pydata.org/pandas-docs/stable/user_guide/indexing.html#returning-a-view-versus-a-copy\n",
      "\n",
      "  hyper_param_grid.train_score.iloc[i] = train_scr\n",
      "C:\\Users\\Tejas Chavan\\AppData\\Local\\Temp\\ipykernel_4264\\1096226136.py:37: SettingWithCopyWarning: \n",
      "A value is trying to be set on a copy of a slice from a DataFrame\n",
      "\n",
      "See the caveats in the documentation: https://pandas.pydata.org/pandas-docs/stable/user_guide/indexing.html#returning-a-view-versus-a-copy\n",
      "  hyper_param_grid.train_score.iloc[i] = train_scr\n",
      "C:\\Users\\Tejas Chavan\\AppData\\Local\\Temp\\ipykernel_4264\\1096226136.py:42: FutureWarning: ChainedAssignmentError: behaviour will change in pandas 3.0!\n",
      "You are setting values through chained assignment. Currently this works in certain cases, but when using Copy-on-Write (which will become the default behaviour in pandas 3.0) this will never work to update the original DataFrame or Series, because the intermediate object on which we are setting values will behave as a copy.\n",
      "A typical example is when you are setting values in a column of a DataFrame, like:\n",
      "\n",
      "df[\"col\"][row_indexer] = value\n",
      "\n",
      "Use `df.loc[row_indexer, \"col\"] = values` instead, to perform the assignment in a single step and ensure this keeps updating the original `df`.\n",
      "\n",
      "See the caveats in the documentation: https://pandas.pydata.org/pandas-docs/stable/user_guide/indexing.html#returning-a-view-versus-a-copy\n",
      "\n",
      "  hyper_param_grid.cv_score.iloc[i] = cv_scr\n",
      "C:\\Users\\Tejas Chavan\\AppData\\Local\\Temp\\ipykernel_4264\\1096226136.py:42: SettingWithCopyWarning: \n",
      "A value is trying to be set on a copy of a slice from a DataFrame\n",
      "\n",
      "See the caveats in the documentation: https://pandas.pydata.org/pandas-docs/stable/user_guide/indexing.html#returning-a-view-versus-a-copy\n",
      "  hyper_param_grid.cv_score.iloc[i] = cv_scr\n"
     ]
    },
    {
     "name": "stdout",
     "output_type": "stream",
     "text": [
      "Completed iteration: 13/17 | Time taken: 0:46:43.732372\n"
     ]
    },
    {
     "name": "stderr",
     "output_type": "stream",
     "text": [
      "C:\\Users\\Tejas Chavan\\AppData\\Local\\Temp\\ipykernel_4264\\1096226136.py:37: FutureWarning: ChainedAssignmentError: behaviour will change in pandas 3.0!\n",
      "You are setting values through chained assignment. Currently this works in certain cases, but when using Copy-on-Write (which will become the default behaviour in pandas 3.0) this will never work to update the original DataFrame or Series, because the intermediate object on which we are setting values will behave as a copy.\n",
      "A typical example is when you are setting values in a column of a DataFrame, like:\n",
      "\n",
      "df[\"col\"][row_indexer] = value\n",
      "\n",
      "Use `df.loc[row_indexer, \"col\"] = values` instead, to perform the assignment in a single step and ensure this keeps updating the original `df`.\n",
      "\n",
      "See the caveats in the documentation: https://pandas.pydata.org/pandas-docs/stable/user_guide/indexing.html#returning-a-view-versus-a-copy\n",
      "\n",
      "  hyper_param_grid.train_score.iloc[i] = train_scr\n",
      "C:\\Users\\Tejas Chavan\\AppData\\Local\\Temp\\ipykernel_4264\\1096226136.py:37: SettingWithCopyWarning: \n",
      "A value is trying to be set on a copy of a slice from a DataFrame\n",
      "\n",
      "See the caveats in the documentation: https://pandas.pydata.org/pandas-docs/stable/user_guide/indexing.html#returning-a-view-versus-a-copy\n",
      "  hyper_param_grid.train_score.iloc[i] = train_scr\n",
      "C:\\Users\\Tejas Chavan\\AppData\\Local\\Temp\\ipykernel_4264\\1096226136.py:42: FutureWarning: ChainedAssignmentError: behaviour will change in pandas 3.0!\n",
      "You are setting values through chained assignment. Currently this works in certain cases, but when using Copy-on-Write (which will become the default behaviour in pandas 3.0) this will never work to update the original DataFrame or Series, because the intermediate object on which we are setting values will behave as a copy.\n",
      "A typical example is when you are setting values in a column of a DataFrame, like:\n",
      "\n",
      "df[\"col\"][row_indexer] = value\n",
      "\n",
      "Use `df.loc[row_indexer, \"col\"] = values` instead, to perform the assignment in a single step and ensure this keeps updating the original `df`.\n",
      "\n",
      "See the caveats in the documentation: https://pandas.pydata.org/pandas-docs/stable/user_guide/indexing.html#returning-a-view-versus-a-copy\n",
      "\n",
      "  hyper_param_grid.cv_score.iloc[i] = cv_scr\n",
      "C:\\Users\\Tejas Chavan\\AppData\\Local\\Temp\\ipykernel_4264\\1096226136.py:42: SettingWithCopyWarning: \n",
      "A value is trying to be set on a copy of a slice from a DataFrame\n",
      "\n",
      "See the caveats in the documentation: https://pandas.pydata.org/pandas-docs/stable/user_guide/indexing.html#returning-a-view-versus-a-copy\n",
      "  hyper_param_grid.cv_score.iloc[i] = cv_scr\n"
     ]
    },
    {
     "name": "stdout",
     "output_type": "stream",
     "text": [
      "Completed iteration: 14/17 | Time taken: 0:45:43.016889\n"
     ]
    },
    {
     "name": "stderr",
     "output_type": "stream",
     "text": [
      "C:\\Users\\Tejas Chavan\\AppData\\Local\\Temp\\ipykernel_4264\\1096226136.py:37: FutureWarning: ChainedAssignmentError: behaviour will change in pandas 3.0!\n",
      "You are setting values through chained assignment. Currently this works in certain cases, but when using Copy-on-Write (which will become the default behaviour in pandas 3.0) this will never work to update the original DataFrame or Series, because the intermediate object on which we are setting values will behave as a copy.\n",
      "A typical example is when you are setting values in a column of a DataFrame, like:\n",
      "\n",
      "df[\"col\"][row_indexer] = value\n",
      "\n",
      "Use `df.loc[row_indexer, \"col\"] = values` instead, to perform the assignment in a single step and ensure this keeps updating the original `df`.\n",
      "\n",
      "See the caveats in the documentation: https://pandas.pydata.org/pandas-docs/stable/user_guide/indexing.html#returning-a-view-versus-a-copy\n",
      "\n",
      "  hyper_param_grid.train_score.iloc[i] = train_scr\n",
      "C:\\Users\\Tejas Chavan\\AppData\\Local\\Temp\\ipykernel_4264\\1096226136.py:37: SettingWithCopyWarning: \n",
      "A value is trying to be set on a copy of a slice from a DataFrame\n",
      "\n",
      "See the caveats in the documentation: https://pandas.pydata.org/pandas-docs/stable/user_guide/indexing.html#returning-a-view-versus-a-copy\n",
      "  hyper_param_grid.train_score.iloc[i] = train_scr\n",
      "C:\\Users\\Tejas Chavan\\AppData\\Local\\Temp\\ipykernel_4264\\1096226136.py:42: FutureWarning: ChainedAssignmentError: behaviour will change in pandas 3.0!\n",
      "You are setting values through chained assignment. Currently this works in certain cases, but when using Copy-on-Write (which will become the default behaviour in pandas 3.0) this will never work to update the original DataFrame or Series, because the intermediate object on which we are setting values will behave as a copy.\n",
      "A typical example is when you are setting values in a column of a DataFrame, like:\n",
      "\n",
      "df[\"col\"][row_indexer] = value\n",
      "\n",
      "Use `df.loc[row_indexer, \"col\"] = values` instead, to perform the assignment in a single step and ensure this keeps updating the original `df`.\n",
      "\n",
      "See the caveats in the documentation: https://pandas.pydata.org/pandas-docs/stable/user_guide/indexing.html#returning-a-view-versus-a-copy\n",
      "\n",
      "  hyper_param_grid.cv_score.iloc[i] = cv_scr\n",
      "C:\\Users\\Tejas Chavan\\AppData\\Local\\Temp\\ipykernel_4264\\1096226136.py:42: SettingWithCopyWarning: \n",
      "A value is trying to be set on a copy of a slice from a DataFrame\n",
      "\n",
      "See the caveats in the documentation: https://pandas.pydata.org/pandas-docs/stable/user_guide/indexing.html#returning-a-view-versus-a-copy\n",
      "  hyper_param_grid.cv_score.iloc[i] = cv_scr\n"
     ]
    },
    {
     "name": "stdout",
     "output_type": "stream",
     "text": [
      "Completed iteration: 15/17 | Time taken: 0:45:21.466441\n"
     ]
    },
    {
     "name": "stderr",
     "output_type": "stream",
     "text": [
      "C:\\Users\\Tejas Chavan\\AppData\\Local\\Temp\\ipykernel_4264\\1096226136.py:37: FutureWarning: ChainedAssignmentError: behaviour will change in pandas 3.0!\n",
      "You are setting values through chained assignment. Currently this works in certain cases, but when using Copy-on-Write (which will become the default behaviour in pandas 3.0) this will never work to update the original DataFrame or Series, because the intermediate object on which we are setting values will behave as a copy.\n",
      "A typical example is when you are setting values in a column of a DataFrame, like:\n",
      "\n",
      "df[\"col\"][row_indexer] = value\n",
      "\n",
      "Use `df.loc[row_indexer, \"col\"] = values` instead, to perform the assignment in a single step and ensure this keeps updating the original `df`.\n",
      "\n",
      "See the caveats in the documentation: https://pandas.pydata.org/pandas-docs/stable/user_guide/indexing.html#returning-a-view-versus-a-copy\n",
      "\n",
      "  hyper_param_grid.train_score.iloc[i] = train_scr\n",
      "C:\\Users\\Tejas Chavan\\AppData\\Local\\Temp\\ipykernel_4264\\1096226136.py:37: SettingWithCopyWarning: \n",
      "A value is trying to be set on a copy of a slice from a DataFrame\n",
      "\n",
      "See the caveats in the documentation: https://pandas.pydata.org/pandas-docs/stable/user_guide/indexing.html#returning-a-view-versus-a-copy\n",
      "  hyper_param_grid.train_score.iloc[i] = train_scr\n",
      "C:\\Users\\Tejas Chavan\\AppData\\Local\\Temp\\ipykernel_4264\\1096226136.py:42: FutureWarning: ChainedAssignmentError: behaviour will change in pandas 3.0!\n",
      "You are setting values through chained assignment. Currently this works in certain cases, but when using Copy-on-Write (which will become the default behaviour in pandas 3.0) this will never work to update the original DataFrame or Series, because the intermediate object on which we are setting values will behave as a copy.\n",
      "A typical example is when you are setting values in a column of a DataFrame, like:\n",
      "\n",
      "df[\"col\"][row_indexer] = value\n",
      "\n",
      "Use `df.loc[row_indexer, \"col\"] = values` instead, to perform the assignment in a single step and ensure this keeps updating the original `df`.\n",
      "\n",
      "See the caveats in the documentation: https://pandas.pydata.org/pandas-docs/stable/user_guide/indexing.html#returning-a-view-versus-a-copy\n",
      "\n",
      "  hyper_param_grid.cv_score.iloc[i] = cv_scr\n",
      "C:\\Users\\Tejas Chavan\\AppData\\Local\\Temp\\ipykernel_4264\\1096226136.py:42: SettingWithCopyWarning: \n",
      "A value is trying to be set on a copy of a slice from a DataFrame\n",
      "\n",
      "See the caveats in the documentation: https://pandas.pydata.org/pandas-docs/stable/user_guide/indexing.html#returning-a-view-versus-a-copy\n",
      "  hyper_param_grid.cv_score.iloc[i] = cv_scr\n"
     ]
    },
    {
     "name": "stdout",
     "output_type": "stream",
     "text": [
      "Completed iteration: 16/17 | Time taken: 0:44:59.374680\n",
      "\n",
      "Block execution time:  15:11:52.912471\n"
     ]
    }
   ],
   "source": [
    "start_time = datetime.datetime.now()\n",
    "\n",
    "# GridSearchCV for hyperparameter tuning of regularization paramter\n",
    "\n",
    "# Defining the hyper parameter value to be experimented with\n",
    "alpha_vals = []\n",
    "start_val = 10**-8\n",
    "for i in range(4):\n",
    "    alpha_vals = alpha_vals + list(np.linspace(start_val, start_val*10, 4, endpoint = False))\n",
    "    start_val *= 10\n",
    "\n",
    "hyper_params3 = {'alpha': alpha_vals, 'penalty': ['l1']}\n",
    "linsvm_gcv3 = grid_search_cv(hyper_params3, train_x, train_y, cv_x, cv_y)\n",
    "\n",
    "print(\"\\nBlock execution time: \", datetime.datetime.now() - start_time)"
   ]
  },
  {
   "cell_type": "code",
   "execution_count": 43,
   "metadata": {},
   "outputs": [
    {
     "name": "stdout",
     "output_type": "stream",
     "text": [
      "{'alpha': 3.2499999999999994e-06, 'penalty': 'l1'}\n"
     ]
    },
    {
     "data": {
      "text/html": [
       "<div>\n",
       "<style scoped>\n",
       "    .dataframe tbody tr th:only-of-type {\n",
       "        vertical-align: middle;\n",
       "    }\n",
       "\n",
       "    .dataframe tbody tr th {\n",
       "        vertical-align: top;\n",
       "    }\n",
       "\n",
       "    .dataframe thead th {\n",
       "        text-align: right;\n",
       "    }\n",
       "</style>\n",
       "<table border=\"1\" class=\"dataframe\">\n",
       "  <thead>\n",
       "    <tr style=\"text-align: right;\">\n",
       "      <th></th>\n",
       "      <th>alpha</th>\n",
       "      <th>penalty</th>\n",
       "      <th>train_score</th>\n",
       "      <th>cv_score</th>\n",
       "    </tr>\n",
       "  </thead>\n",
       "  <tbody>\n",
       "    <tr>\n",
       "      <th>0</th>\n",
       "      <td>1.000000e-08</td>\n",
       "      <td>l1</td>\n",
       "      <td>0.999733</td>\n",
       "      <td>0.545825</td>\n",
       "    </tr>\n",
       "    <tr>\n",
       "      <th>1</th>\n",
       "      <td>3.250000e-08</td>\n",
       "      <td>l1</td>\n",
       "      <td>0.999741</td>\n",
       "      <td>0.547845</td>\n",
       "    </tr>\n",
       "    <tr>\n",
       "      <th>2</th>\n",
       "      <td>5.500000e-08</td>\n",
       "      <td>l1</td>\n",
       "      <td>0.999621</td>\n",
       "      <td>0.546515</td>\n",
       "    </tr>\n",
       "    <tr>\n",
       "      <th>3</th>\n",
       "      <td>7.750000e-08</td>\n",
       "      <td>l1</td>\n",
       "      <td>0.999678</td>\n",
       "      <td>0.549161</td>\n",
       "    </tr>\n",
       "    <tr>\n",
       "      <th>4</th>\n",
       "      <td>1.000000e-07</td>\n",
       "      <td>l1</td>\n",
       "      <td>0.999514</td>\n",
       "      <td>0.549220</td>\n",
       "    </tr>\n",
       "    <tr>\n",
       "      <th>5</th>\n",
       "      <td>3.250000e-07</td>\n",
       "      <td>l1</td>\n",
       "      <td>0.999057</td>\n",
       "      <td>0.545961</td>\n",
       "    </tr>\n",
       "    <tr>\n",
       "      <th>6</th>\n",
       "      <td>5.500000e-07</td>\n",
       "      <td>l1</td>\n",
       "      <td>0.998587</td>\n",
       "      <td>0.548231</td>\n",
       "    </tr>\n",
       "    <tr>\n",
       "      <th>7</th>\n",
       "      <td>7.750000e-07</td>\n",
       "      <td>l1</td>\n",
       "      <td>0.996912</td>\n",
       "      <td>0.547379</td>\n",
       "    </tr>\n",
       "    <tr>\n",
       "      <th>8</th>\n",
       "      <td>1.000000e-06</td>\n",
       "      <td>l1</td>\n",
       "      <td>0.993353</td>\n",
       "      <td>0.546886</td>\n",
       "    </tr>\n",
       "    <tr>\n",
       "      <th>9</th>\n",
       "      <td>3.250000e-06</td>\n",
       "      <td>l1</td>\n",
       "      <td>0.799448</td>\n",
       "      <td>0.571100</td>\n",
       "    </tr>\n",
       "    <tr>\n",
       "      <th>10</th>\n",
       "      <td>5.500000e-06</td>\n",
       "      <td>l1</td>\n",
       "      <td>0.662556</td>\n",
       "      <td>0.565728</td>\n",
       "    </tr>\n",
       "    <tr>\n",
       "      <th>11</th>\n",
       "      <td>7.750000e-06</td>\n",
       "      <td>l1</td>\n",
       "      <td>0.601103</td>\n",
       "      <td>0.552580</td>\n",
       "    </tr>\n",
       "    <tr>\n",
       "      <th>12</th>\n",
       "      <td>1.000000e-05</td>\n",
       "      <td>l1</td>\n",
       "      <td>0.572995</td>\n",
       "      <td>0.544137</td>\n",
       "    </tr>\n",
       "    <tr>\n",
       "      <th>13</th>\n",
       "      <td>3.250000e-05</td>\n",
       "      <td>l1</td>\n",
       "      <td>0.492370</td>\n",
       "      <td>0.491666</td>\n",
       "    </tr>\n",
       "    <tr>\n",
       "      <th>14</th>\n",
       "      <td>5.500000e-05</td>\n",
       "      <td>l1</td>\n",
       "      <td>0.464186</td>\n",
       "      <td>0.464512</td>\n",
       "    </tr>\n",
       "    <tr>\n",
       "      <th>15</th>\n",
       "      <td>7.750000e-05</td>\n",
       "      <td>l1</td>\n",
       "      <td>0.442457</td>\n",
       "      <td>0.443552</td>\n",
       "    </tr>\n",
       "  </tbody>\n",
       "</table>\n",
       "</div>"
      ],
      "text/plain": [
       "           alpha penalty  train_score  cv_score\n",
       "0   1.000000e-08      l1     0.999733  0.545825\n",
       "1   3.250000e-08      l1     0.999741  0.547845\n",
       "2   5.500000e-08      l1     0.999621  0.546515\n",
       "3   7.750000e-08      l1     0.999678  0.549161\n",
       "4   1.000000e-07      l1     0.999514  0.549220\n",
       "5   3.250000e-07      l1     0.999057  0.545961\n",
       "6   5.500000e-07      l1     0.998587  0.548231\n",
       "7   7.750000e-07      l1     0.996912  0.547379\n",
       "8   1.000000e-06      l1     0.993353  0.546886\n",
       "9   3.250000e-06      l1     0.799448  0.571100\n",
       "10  5.500000e-06      l1     0.662556  0.565728\n",
       "11  7.750000e-06      l1     0.601103  0.552580\n",
       "12  1.000000e-05      l1     0.572995  0.544137\n",
       "13  3.250000e-05      l1     0.492370  0.491666\n",
       "14  5.500000e-05      l1     0.464186  0.464512\n",
       "15  7.750000e-05      l1     0.442457  0.443552"
      ]
     },
     "execution_count": 43,
     "metadata": {},
     "output_type": "execute_result"
    }
   ],
   "source": [
    "print(linsvm_gcv3['best_params'])\n",
    "linsvm_gcv3['hyper_param_scores']"
   ]
  },
  {
   "cell_type": "code",
   "execution_count": 44,
   "metadata": {},
   "outputs": [
    {
     "data": {
      "image/png": "[encoded data removed]",
      "text/plain": [
       "<Figure size 1600x400 with 1 Axes>"
      ]
     },
     "metadata": {},
     "output_type": "display_data"
    }
   ],
   "source": [
    "# Visualising the GCV\n",
    "fig2 = plt.figure(figsize = (16,4))\n",
    "fig2.subplots_adjust(wspace = 0.3)\n",
    "axs = fig2.subplots(1)\n",
    "\n",
    "hp_grid = linsvm_gcv3['hyper_param_scores']\n",
    "\n",
    "alpha_vals = hp_grid.alpha\n",
    "train_scores = hp_grid.train_score\n",
    "cv_scores = hp_grid.cv_score    \n",
    "plot_labels = ('Regularization param', 'F1-scores', 'l1 penalty')\n",
    "plot_gcv(alpha_vals, train_scores, cv_scores, axs, plot_labels)"
   ]
  },
  {
   "cell_type": "code",
   "execution_count": 45,
   "metadata": {},
   "outputs": [
    {
     "name": "stdout",
     "output_type": "stream",
     "text": [
      "Block execution time:  0:00:00\n"
     ]
    }
   ],
   "source": [
    "start_time = datetime.datetime.now()\n",
    "\n",
    "# Using the best estimator decided by above Grid search\n",
    "lin_svm_clf3 = linsvm_gcv3['best_estimator']\n",
    "\n",
    "print(\"Block execution time: \", datetime.datetime.now() - start_time)"
   ]
  },
  {
   "cell_type": "code",
   "execution_count": 46,
   "metadata": {},
   "outputs": [
    {
     "name": "stdout",
     "output_type": "stream",
     "text": [
      "\u001b[1m\n",
      "--------- Lin-SVM (OVR): Train data ---------\n",
      "\u001b[0m\n",
      "1a. Number & percent of datapoints having more than 5 predicted tags: 2, 0.0%\n",
      "1b. Number & percent of datapoints having 0 predicted tags: 7656, 7.66%\n",
      "\n",
      "\n",
      "2. Tag wise metrics: \n",
      "\n",
      "Tag        Accuracy Precision   Recall   F1-score \n",
      "------------------------------------------------\n",
      "c#          97.8%     91.9%     82.9%     87.2%   \n",
      "java        98.4%     94.0%     85.0%     89.3%   \n",
      "php         98.7%     95.1%     86.7%     90.7%   \n",
      "javascript  98.4%     93.9%     82.1%     87.6%   \n",
      "android     99.6%     97.7%     95.4%     96.5%   \n",
      "jquery      99.0%     95.2%     86.9%     90.9%   \n",
      "c++         99.2%     94.0%     84.7%     89.1%   \n",
      "python      99.5%     96.0%     90.4%     93.1%   \n",
      "mysql       99.4%     95.7%     85.3%     90.2%   \n",
      "iphone      99.1%     90.5%     81.9%     86.0%   \n",
      "\u001b[1m\n",
      "Micro-avg   50.0%     92.4%     70.5%     79.9%   \n",
      "Macro-avg   50.0%     91.7%     59.4%     69.1%   \n",
      "\u001b[0m\n",
      "\n",
      "Block execution time:  0:17:04.056521\n"
     ]
    },
    {
     "data": {
      "image/png": "[encoded data removed]",
      "text/plain": [
       "<Figure size 800x300 with 2 Axes>"
      ]
     },
     "metadata": {},
     "output_type": "display_data"
    }
   ],
   "source": [
    "start_time = datetime.datetime.now()\n",
    "\n",
    "# Predict the tags using the model trained above\n",
    "y_pred_train = lin_svm_clf3.predict(train_x)\n",
    "\n",
    "# Generate performance report\n",
    "analyse_prediction(train_y, y_pred_train, 10, vocab, \"Lin-SVM (OVR): Train data\")\n",
    "\n",
    "print(\"\\nBlock execution time: \", datetime.datetime.now() - start_time)"
   ]
  },
  {
   "cell_type": "code",
   "execution_count": 47,
   "metadata": {},
   "outputs": [
    {
     "name": "stdout",
     "output_type": "stream",
     "text": [
      "\u001b[1m\n",
      "--------- Lin-SVM (OVR): CV data ---------\n",
      "\u001b[0m\n",
      "1a. Number & percent of datapoints having more than 5 predicted tags: 2, 0.01%\n",
      "1b. Number & percent of datapoints having 0 predicted tags: 3948, 15.79%\n"
     ]
    },
    {
     "name": "stderr",
     "output_type": "stream",
     "text": [
      "D:\\Anaconda\\Lib\\site-packages\\sklearn\\metrics\\_classification.py:1509: UndefinedMetricWarning: Precision is ill-defined and being set to 0.0 in labels with no predicted samples. Use `zero_division` parameter to control this behavior.\n",
      "  _warn_prf(average, modifier, f\"{metric.capitalize()} is\", len(result))\n"
     ]
    },
    {
     "name": "stdout",
     "output_type": "stream",
     "text": [
      "\n",
      "\n",
      "2. Tag wise metrics: \n",
      "\n",
      "Tag        Accuracy Precision   Recall   F1-score \n",
      "------------------------------------------------\n",
      "c#          93.2%     63.6%     54.3%     58.6%   \n",
      "java        95.5%     76.6%     62.0%     68.6%   \n",
      "php         96.7%     85.3%     68.9%     76.2%   \n",
      "javascript  95.3%     70.7%     55.1%     61.9%   \n",
      "android     98.9%     93.9%     88.3%     91.0%   \n",
      "jquery      97.8%     85.5%     74.4%     79.6%   \n",
      "c++         97.7%     69.9%     59.8%     64.5%   \n",
      "python      98.8%     86.7%     76.6%     81.4%   \n",
      "iphone      97.5%     66.4%     53.4%     59.2%   \n",
      "asp.net     98.0%     77.3%     59.0%     66.9%   \n",
      "\u001b[1m\n",
      "Micro-avg   22.6%     71.3%     47.6%     57.1%   \n",
      "Macro-avg   22.6%     56.9%     37.0%     42.4%   \n",
      "\u001b[0m\n",
      "\n",
      "Block execution time:  0:03:09.500408\n"
     ]
    },
    {
     "data": {
      "image/png": "[encoded data removed]",
      "text/plain": [
       "<Figure size 800x300 with 2 Axes>"
      ]
     },
     "metadata": {},
     "output_type": "display_data"
    }
   ],
   "source": [
    "start_time = datetime.datetime.now()\n",
    "\n",
    "# Predict the tags using the model trained above\n",
    "y_pred_cv = lin_svm_clf3.predict(cv_x)\n",
    "\n",
    "# Generate performance report\n",
    "analyse_prediction(cv_y, y_pred_cv, 10, vocab, \"Lin-SVM (OVR): CV data\")\n",
    "\n",
    "print(\"\\nBlock execution time: \", datetime.datetime.now() - start_time)"
   ]
  },
  {
   "cell_type": "code",
   "execution_count": 48,
   "metadata": {},
   "outputs": [
    {
     "name": "stdout",
     "output_type": "stream",
     "text": [
      "\u001b[1m\n",
      "--------- Lin-SVM (OVR): Test data ---------\n",
      "\u001b[0m\n",
      "1a. Number & percent of datapoints having more than 5 predicted tags: 1, 0.0%\n",
      "1b. Number & percent of datapoints having 0 predicted tags: 4008, 16.03%\n"
     ]
    },
    {
     "name": "stderr",
     "output_type": "stream",
     "text": [
      "D:\\Anaconda\\Lib\\site-packages\\sklearn\\metrics\\_classification.py:1509: UndefinedMetricWarning: Precision is ill-defined and being set to 0.0 in labels with no predicted samples. Use `zero_division` parameter to control this behavior.\n",
      "  _warn_prf(average, modifier, f\"{metric.capitalize()} is\", len(result))\n"
     ]
    },
    {
     "name": "stdout",
     "output_type": "stream",
     "text": [
      "\n",
      "\n",
      "2. Tag wise metrics: \n",
      "\n",
      "Tag        Accuracy Precision   Recall   F1-score \n",
      "------------------------------------------------\n",
      "c#          93.1%     62.1%     53.8%     57.7%   \n",
      "java        95.6%     76.1%     64.2%     69.7%   \n",
      "php         96.8%     83.8%     70.1%     76.3%   \n",
      "javascript  95.4%     72.8%     55.2%     62.8%   \n",
      "android     98.9%     94.1%     86.9%     90.3%   \n",
      "jquery      97.7%     87.8%     72.0%     79.1%   \n",
      "c++         97.5%     69.6%     59.6%     64.2%   \n",
      "python      98.7%     87.4%     75.4%     81.0%   \n",
      "iphone      97.3%     61.9%     52.0%     56.5%   \n",
      "html        96.8%     52.7%     27.7%     36.3%   \n",
      "\u001b[1m\n",
      "Micro-avg   22.6%     71.6%     47.5%     57.1%   \n",
      "Macro-avg   22.6%     57.0%     36.5%     42.1%   \n",
      "\u001b[0m\n",
      "\n",
      "Block execution time:  0:03:13.168094\n"
     ]
    },
    {
     "data": {
      "image/png": "[encoded data removed]",
      "text/plain": [
       "<Figure size 800x300 with 2 Axes>"
      ]
     },
     "metadata": {},
     "output_type": "display_data"
    }
   ],
   "source": [
    "start_time = datetime.datetime.now()\n",
    "\n",
    "# Predict the tags using the model trained above\n",
    "y_pred_test = lin_svm_clf3.predict(test_x)\n",
    "\n",
    "# Generate performance report\n",
    "analyse_prediction(test_y, y_pred_test, 10, vocab, \"Lin-SVM (OVR): Test data\")\n",
    "\n",
    "print(\"\\nBlock execution time: \", datetime.datetime.now() - start_time)"
   ]
  },
  {
   "cell_type": "code",
   "execution_count": 56,
   "metadata": {},
   "outputs": [
    {
     "data": {
      "text/plain": [
       "['E:/ai_projects/data_storage/Stack over flow tagging 5/models/linsvm_gcv3.pkl']"
      ]
     },
     "execution_count": 56,
     "metadata": {},
     "output_type": "execute_result"
    }
   ],
   "source": [
    "joblib.dump(lin_svm_clf1, 'models/lin_svm_clf1.pkl')\n",
    "joblib.dump(linsvm_gcv2, 'models/linsvm_gcv2.pkl')\n",
    "joblib.dump(linsvm_gcv3, 'models/linsvm_gcv3.pkl')"
   ]
  }
 ],
 "metadata": {
  "kernelspec": {
   "display_name": "Python 3 (ipykernel)",
   "language": "python",
   "name": "python3"
  },
  "language_info": {
   "codemirror_mode": {
    "name": "ipython",
    "version": 3
   },
   "file_extension": ".py",
   "mimetype": "text/x-python",
   "name": "python",
   "nbconvert_exporter": "python",
   "pygments_lexer": "ipython3",
   "version": "3.12.4"
  }
 },
 "nbformat": 4,
 "nbformat_minor": 4
}
