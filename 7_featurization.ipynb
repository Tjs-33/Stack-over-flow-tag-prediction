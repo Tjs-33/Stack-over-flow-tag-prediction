{
 "cells": [
  {
   "cell_type": "code",
   "execution_count": 1,
   "metadata": {},
   "outputs": [
    {
     "name": "stderr",
     "output_type": "stream",
     "text": [
      "[nltk_data] Downloading package punkt to C:\\Users\\Tejas\n",
      "[nltk_data]     Chavan\\AppData\\Roaming\\nltk_data...\n",
      "[nltk_data]   Package punkt is already up-to-date!\n",
      "[nltk_data] Downloading package stopwords to C:\\Users\\Tejas\n",
      "[nltk_data]     Chavan\\AppData\\Roaming\\nltk_data...\n",
      "[nltk_data]   Package stopwords is already up-to-date!\n"
     ]
    }
   ],
   "source": [
    "import pandas as pd\n",
    "import numpy as np\n",
    "import matplotlib.pyplot as plt\n",
    "import string\n",
    "import nltk\n",
    "import re\n",
    "nltk.download('punkt')\n",
    "nltk.download('stopwords')\n",
    "from sklearn.feature_extraction.text import CountVectorizer, TfidfVectorizer\n",
    "import datetime\n",
    "from sklearn.multiclass import OneVsRestClassifier\n",
    "from sklearn.linear_model import SGDClassifier\n",
    "from sklearn.metrics import accuracy_score, precision_score, recall_score, f1_score\n",
    "from scipy import sparse\n",
    "import pickle\n",
    "from nltk import ngrams"
   ]
  },
  {
   "cell_type": "markdown",
   "metadata": {},
   "source": [
    "<p style='font-size:20px'><b> Featurization </b></p>\n",
    "<p>\n",
    "\n",
    "Applying the same featurization steps that were used in the old dataset of 1.5L points.  \n",
    " \n",
    "</p>"
   ]
  },
  {
   "cell_type": "code",
   "execution_count": 2,
   "metadata": {},
   "outputs": [],
   "source": [
    "# Load the processed train, CV & test to be featurized\n",
    "train_data = pd.read_csv('dataset 5L/processed_train.csv')\n",
    "cv_data = pd.read_csv('dataset 5L/processed_cv.csv')\n",
    "test_data = pd.read_csv('dataset 5L/processed_test.csv')"
   ]
  },
  {
   "cell_type": "code",
   "execution_count": 3,
   "metadata": {},
   "outputs": [
    {
     "name": "stderr",
     "output_type": "stream",
     "text": [
      "D:\\Anaconda\\Lib\\site-packages\\sklearn\\feature_extraction\\text.py:525: UserWarning: The parameter 'token_pattern' will not be used since 'tokenizer' is not None'\n",
      "  warnings.warn(\n"
     ]
    },
    {
     "name": "stdout",
     "output_type": "stream",
     "text": [
      "Block execution time:  0:03:05.183698\n"
     ]
    }
   ],
   "source": [
    "# Converting  train & test to TF-IDF Vectorization form\n",
    "# Hyperparameter tuning of the max_features or the min_df(=0.00009)\n",
    "\n",
    "start_time = datetime.datetime.now()\n",
    "\n",
    "tf_idf_vect = TfidfVectorizer(max_features=200000, smooth_idf=True, norm=\"l2\", \\\n",
    "                             tokenizer = lambda x:str(x).split(\" \"), sublinear_tf=False, ngram_range=(1,3))\n",
    "\n",
    "train_title3_body = tf_idf_vect.fit_transform(train_data.Title3_Body)\n",
    "cv_title3_body = tf_idf_vect.transform(cv_data.Title3_Body)\n",
    "test_title3_body = tf_idf_vect.transform(test_data.Title3_Body)\n",
    "\n",
    "print(\"Block execution time: \", datetime.datetime.now() - start_time)"
   ]
  },
  {
   "cell_type": "code",
   "execution_count": 4,
   "metadata": {},
   "outputs": [
    {
     "name": "stdout",
     "output_type": "stream",
     "text": [
      "Block execution time:  0:03:38.097581\n"
     ]
    }
   ],
   "source": [
    "# Converting  train & test to TF-IDF Vectorization form\n",
    "# Hyperparameter tuning of the max_features or the min_df(=0.00009)\n",
    "\n",
    "start_time = datetime.datetime.now()\n",
    "\n",
    "tf_idf_vect2 = TfidfVectorizer(max_features=50000, smooth_idf=True, norm=\"l2\", \\\n",
    "                             analyzer = 'char', sublinear_tf=False, ngram_range=(1,3))\n",
    "\n",
    "train_code = tf_idf_vect2.fit_transform(train_data.Code)\n",
    "cv_code = tf_idf_vect2.transform(cv_data.Code)\n",
    "test_code = tf_idf_vect2.transform(test_data.Code)\n",
    "\n",
    "print(\"Block execution time: \", datetime.datetime.now() - start_time)"
   ]
  },
  {
   "cell_type": "code",
   "execution_count": 5,
   "metadata": {},
   "outputs": [],
   "source": [
    "train_x = sparse.hstack((train_title3_body, train_code))\n",
    "cv_x = sparse.hstack((cv_title3_body, cv_code))\n",
    "test_x = sparse.hstack((test_title3_body, test_code))"
   ]
  },
  {
   "cell_type": "code",
   "execution_count": 6,
   "metadata": {},
   "outputs": [
    {
     "name": "stdout",
     "output_type": "stream",
     "text": [
      "(315915, 250000)\n",
      "(78979, 250000)\n",
      "(80883, 250000)\n"
     ]
    }
   ],
   "source": [
    "# Checking the number of features captured by TfIdf\n",
    "\n",
    "print(train_x.shape)\n",
    "print(cv_x.shape)\n",
    "print(test_x.shape)\n"
   ]
  },
  {
   "cell_type": "code",
   "execution_count": 7,
   "metadata": {},
   "outputs": [
    {
     "name": "stdout",
     "output_type": "stream",
     "text": [
      "Block execution time:  0:00:01.388831\n"
     ]
    }
   ],
   "source": [
    "# Convert shortlisted tags (y-label) into One-hot encodeing. \n",
    "# CountVectorizer for sparse matrix representation to optimize space\n",
    "\n",
    "start_time = datetime.datetime.now()\n",
    "\n",
    "count_vect = CountVectorizer(analyzer = lambda x:str(x).split(\" \"))\n",
    "train_y = count_vect.fit_transform(train_data.Tags_shortlist)\n",
    "cv_y = count_vect.transform(cv_data.Tags_shortlist)\n",
    "test_y = count_vect.transform(test_data.Tags_shortlist)\n",
    "\n",
    "print(\"Block execution time: \", datetime.datetime.now() - start_time)"
   ]
  },
  {
   "cell_type": "code",
   "execution_count": 8,
   "metadata": {},
   "outputs": [],
   "source": [
    "# Saving the train/test input & output to be used for building models\n",
    "#### Imp: Careful not to overwrite data ####\n",
    "\n",
    "var = [train_x, train_y, cv_x, cv_y, test_x, test_y]\n",
    "file_names = ['train_x', 'train_y', 'cv_x', 'cv_y', 'test_x', 'test_y']\n",
    "\n",
    "for i in range(len(var)):\n",
    "    \n",
    "    # Storing the target file path where the data would be stored \n",
    "    target_file = \"dataset 5L/\" + file_names[i] + \".npz\"\n",
    "    \n",
    "    # Saving the sparse matrix data\n",
    "    sparse.save_npz(target_file, var[i])\n"
   ]
  },
  {
   "cell_type": "code",
   "execution_count": 9,
   "metadata": {},
   "outputs": [],
   "source": [
    "# Saving the vocab captured while fitting CountVectorizer\n",
    "#### Imp: Careful not to overwrite data ####\n",
    "\n",
    "pickle.dump(count_vect.vocabulary_, open(\"models 5L/vocab_5L.pickle\", \"wb\"))\n"
   ]
  }
 ],
 "metadata": {
  "kernelspec": {
   "display_name": "Python 3 (ipykernel)",
   "language": "python",
   "name": "python3"
  },
  "language_info": {
   "codemirror_mode": {
    "name": "ipython",
    "version": 3
   },
   "file_extension": ".py",
   "mimetype": "text/x-python",
   "name": "python",
   "nbconvert_exporter": "python",
   "pygments_lexer": "ipython3",
   "version": "3.12.4"
  }
 },
 "nbformat": 4,
 "nbformat_minor": 4
}
